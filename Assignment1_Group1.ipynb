{
  "cells": [
    {
      "cell_type": "markdown",
      "source": [
        "# Deep Learning - Assignment 1\n",
        "Names: François, Hanne; Ibragimova, Regina; Wieme, Xander"
      ],
      "metadata": {
        "id": "g5fDT-69x_ev"
      }
    },
    {
      "cell_type": "code",
      "execution_count": null,
      "metadata": {
        "id": "Rl49CmujfE9k",
        "colab": {
          "base_uri": "https://localhost:8080/"
        },
        "outputId": "4b650461-4759-4963-9e3b-15da6189f5c3"
      },
      "outputs": [
        {
          "output_type": "stream",
          "name": "stdout",
          "text": [
            "\u001b[2K     \u001b[90m━━━━━━━━━━━━━━━━━━━━━━━━━━━━━━━━━━━━━━━━\u001b[0m \u001b[32m1.0/1.0 MB\u001b[0m \u001b[31m11.4 MB/s\u001b[0m eta \u001b[36m0:00:00\u001b[0m\n",
            "\u001b[2K     \u001b[90m━━━━━━━━━━━━━━━━━━━━━━━━━━━━━━━━━━━━━━━━\u001b[0m \u001b[32m2.2/2.2 MB\u001b[0m \u001b[31m22.2 MB/s\u001b[0m eta \u001b[36m0:00:00\u001b[0m\n",
            "\u001b[2K     \u001b[90m━━━━━━━━━━━━━━━━━━━━━━━━━━━━━━━━━━━━━━━━\u001b[0m \u001b[32m195.4/195.4 kB\u001b[0m \u001b[31m21.9 MB/s\u001b[0m eta \u001b[36m0:00:00\u001b[0m\n",
            "\u001b[2K     \u001b[90m━━━━━━━━━━━━━━━━━━━━━━━━━━━━━━━━━━━━━━━━\u001b[0m \u001b[32m258.5/258.5 kB\u001b[0m \u001b[31m18.7 MB/s\u001b[0m eta \u001b[36m0:00:00\u001b[0m\n",
            "\u001b[2K     \u001b[90m━━━━━━━━━━━━━━━━━━━━━━━━━━━━━━━━━━━━━━━━\u001b[0m \u001b[32m62.7/62.7 kB\u001b[0m \u001b[31m8.7 MB/s\u001b[0m eta \u001b[36m0:00:00\u001b[0m\n",
            "\u001b[?25h\u001b[31mERROR: pip's dependency resolver does not currently take into account all the packages that are installed. This behaviour is the source of the following dependency conflicts.\n",
            "tensorflow 2.15.0 requires keras<2.16,>=2.15.0, but you have keras 3.0.5 which is incompatible.\u001b[0m\u001b[31m\n",
            "\u001b[0m"
          ]
        }
      ],
      "source": [
        "# Update keras to version 3\n",
        "!pip install --upgrade keras wandb --quiet"
      ]
    },
    {
      "cell_type": "code",
      "execution_count": null,
      "metadata": {
        "id": "8D5wJElFtEhF"
      },
      "outputs": [],
      "source": [
        "import numpy as np\n",
        "import pandas as pd\n",
        "import matplotlib.pyplot as plt\n",
        "import plotly.graph_objects as go\n",
        "from plotly.subplots import make_subplots\n",
        "from tqdm import tqdm\n",
        "from keras import Sequential, datasets, initializers, regularizers\n",
        "from keras.layers import Flatten, Dense, Dropout, Input\n",
        "from keras.optimizers import Adam, SGD, AdamW\n",
        "from keras.utils import to_categorical, set_random_seed\n",
        "from keras.callbacks import EarlyStopping\n",
        "from sklearn.model_selection import train_test_split\n",
        "from tensorflow.keras.preprocessing.image import ImageDataGenerator\n",
        "from sklearn.metrics import ConfusionMatrixDisplay\n",
        "import wandb"
      ]
    },
    {
      "cell_type": "markdown",
      "metadata": {
        "id": "UGuUDDAnty7e"
      },
      "source": [
        "# Data loading and exploration\n",
        "We have a Fashion-MNIST dataset which consists of a training set of 60 000 examples and a test set of 10 000 examples. We further split the train set of the dataset into a training and validation parts, the last is going to be used for hyperparameters tuning. After this we have 45 000 train samples, 15 000 validation samples, and 10 000 test samples."
      ]
    },
    {
      "cell_type": "code",
      "execution_count": null,
      "metadata": {
        "id": "SdRMnaeVtPZs",
        "colab": {
          "base_uri": "https://localhost:8080/"
        },
        "outputId": "43c17fbb-df8f-4126-c301-eeecde7c1081"
      },
      "outputs": [
        {
          "output_type": "stream",
          "name": "stdout",
          "text": [
            "Downloading data from https://storage.googleapis.com/tensorflow/tf-keras-datasets/train-labels-idx1-ubyte.gz\n",
            "\u001b[1m29515/29515\u001b[0m \u001b[32m━━━━━━━━━━━━━━━━━━━━\u001b[0m\u001b[37m\u001b[0m \u001b[1m0s\u001b[0m 0us/step\n",
            "Downloading data from https://storage.googleapis.com/tensorflow/tf-keras-datasets/train-images-idx3-ubyte.gz\n",
            "\u001b[1m26421880/26421880\u001b[0m \u001b[32m━━━━━━━━━━━━━━━━━━━━\u001b[0m\u001b[37m\u001b[0m \u001b[1m0s\u001b[0m 0us/step\n",
            "Downloading data from https://storage.googleapis.com/tensorflow/tf-keras-datasets/t10k-labels-idx1-ubyte.gz\n",
            "\u001b[1m5148/5148\u001b[0m \u001b[32m━━━━━━━━━━━━━━━━━━━━\u001b[0m\u001b[37m\u001b[0m \u001b[1m0s\u001b[0m 0us/step\n",
            "Downloading data from https://storage.googleapis.com/tensorflow/tf-keras-datasets/t10k-images-idx3-ubyte.gz\n",
            "\u001b[1m4422102/4422102\u001b[0m \u001b[32m━━━━━━━━━━━━━━━━━━━━\u001b[0m\u001b[37m\u001b[0m \u001b[1m0s\u001b[0m 0us/step\n"
          ]
        }
      ],
      "source": [
        "(x_train_all, y_train_all), (x_test, y_test) = datasets.fashion_mnist.load_data()\n",
        "x_train, x_valid, y_train, y_valid = train_test_split(x_train_all, y_train_all, test_size=0.25)"
      ]
    },
    {
      "cell_type": "markdown",
      "source": [
        "The dataset consists of clothing items images of 10 categories. We looked into examples of the data."
      ],
      "metadata": {
        "id": "qS7M-72Au8TI"
      }
    },
    {
      "cell_type": "code",
      "source": [
        "class_labels = {0: \"T-shirt/top\", 1: \"Trouser\", 2: \"Pullover\", 3: \"Dress\", 4: \"Coat\",\n",
        "                5: \"Sandal\", 6:\"Shirt\", 7: \"Sneaker\", 8:\"Bag\", 9: \"Ankle boot\"}\n",
        "\n",
        "fig = plt.figure(figsize=(10,4))\n",
        "\n",
        "for i in range(10):\n",
        "    plt.subplot(2,5,i+1)\n",
        "    img = x_train[y_train == i][0]\n",
        "    plt.imshow(img, cmap='gray', interpolation='none')\n",
        "    plt.title(\"Class: {}\".format(class_labels[i]))\n",
        "    plt.axis('off')\n",
        "\n",
        "plt.tight_layout()"
      ],
      "metadata": {
        "colab": {
          "base_uri": "https://localhost:8080/",
          "height": 410
        },
        "id": "H5n1V2UgvJ-9",
        "outputId": "724235fc-b34f-420c-f2a4-700c04c06226"
      },
      "execution_count": null,
      "outputs": [
        {
          "output_type": "display_data",
          "data": {
            "text/plain": [
              "<Figure size 1000x400 with 10 Axes>"
            ],
            "image/png": "[encoded data removed]"
          },
          "metadata": {}
        }
      ]
    },
    {
      "cell_type": "markdown",
      "metadata": {
        "id": "IEUSF5RLwFJ6"
      },
      "source": [
        "# Data preprocessing\n",
        "The current values fall inside this range:"
      ]
    },
    {
      "cell_type": "code",
      "execution_count": null,
      "metadata": {
        "colab": {
          "base_uri": "https://localhost:8080/"
        },
        "id": "_FWBOaCqwKmQ",
        "outputId": "40821159-cd65-484b-9a94-3f015f239654"
      },
      "outputs": [
        {
          "output_type": "execute_result",
          "data": {
            "text/plain": [
              "(0, 255)"
            ]
          },
          "metadata": {},
          "execution_count": 5
        }
      ],
      "source": [
        "np.min(x_train), np.max(x_train)"
      ]
    },
    {
      "cell_type": "markdown",
      "source": [
        "So, in a preprocessing step we normalized the values to ensure they all fall within the range of 0 to 1 by dividing each value by 255."
      ],
      "metadata": {
        "id": "OoLf451p58Ts"
      }
    },
    {
      "cell_type": "code",
      "execution_count": null,
      "metadata": {
        "id": "nQ9MnxySwOGC"
      },
      "outputs": [],
      "source": [
        "x_train = x_train.astype(\"float32\")\n",
        "x_valid = x_valid.astype(\"float32\")\n",
        "x_test = x_test.astype(\"float32\")\n",
        "\n",
        "x_train /= 255\n",
        "x_valid /= 255\n",
        "x_test /= 255"
      ]
    },
    {
      "cell_type": "markdown",
      "source": [
        "We checked whether the values were between 0 and 1."
      ],
      "metadata": {
        "id": "7zRq9JX-fYKu"
      }
    },
    {
      "cell_type": "code",
      "execution_count": null,
      "metadata": {
        "colab": {
          "base_uri": "https://localhost:8080/"
        },
        "id": "KIgN0kBZwRJX",
        "outputId": "735b83fe-8cd9-4d25-c1ad-77bf244df59d"
      },
      "outputs": [
        {
          "output_type": "execute_result",
          "data": {
            "text/plain": [
              "(0.0, 1.0)"
            ]
          },
          "metadata": {},
          "execution_count": 7
        }
      ],
      "source": [
        "np.min(x_train), np.max(x_train)"
      ]
    },
    {
      "cell_type": "markdown",
      "metadata": {
        "id": "i9k51jnQwQlT"
      },
      "source": [
        "Additionally, we encoded the outputs because we will be creating 10 output neurons (multi-class), each of which will provide an output that falls between 0 and 1."
      ]
    },
    {
      "cell_type": "code",
      "execution_count": null,
      "metadata": {
        "id": "RnOoJAS5wVqv"
      },
      "outputs": [],
      "source": [
        "num_classes = 10\n",
        "\n",
        "y_train = to_categorical(y_train, num_classes)\n",
        "y_valid = to_categorical(y_valid, num_classes)\n",
        "y_test = to_categorical(y_test, num_classes)"
      ]
    },
    {
      "cell_type": "markdown",
      "metadata": {
        "id": "PHd6ZZUCt0s0"
      },
      "source": [
        "# Model definition"
      ]
    },
    {
      "cell_type": "markdown",
      "metadata": {
        "id": "rikoK8mDvnEB"
      },
      "source": [
        "We created a function for a basic MLP model where the parameters had a default value and could be specified."
      ]
    },
    {
      "cell_type": "code",
      "execution_count": null,
      "metadata": {
        "id": "KrXevitctTaA"
      },
      "outputs": [],
      "source": [
        "def MLPModel(\n",
        "    num_classes,\n",
        "    lr=0.01,\n",
        "    n_hidden_layers=2,\n",
        "    n_units=8,\n",
        "    act_f='relu',\n",
        "    opt=Adam,\n",
        "    l2=0.0,\n",
        "    dropout_rate=0.0\n",
        "):\n",
        "\n",
        "  model = Sequential()\n",
        "  model.add(Input(shape=(28, 28)))\n",
        "  model.add(Flatten())\n",
        "\n",
        "  for _ in range(n_hidden_layers):\n",
        "      model.add(\n",
        "        Dense(\n",
        "          n_units,\n",
        "          activation=act_f,\n",
        "          kernel_regularizer=regularizers.L2(l2)\n",
        "        )\n",
        "      )\n",
        "\n",
        "      if dropout_rate > 0:\n",
        "        model.add(Dropout(dropout_rate))\n",
        "\n",
        "  model.add(Dense(num_classes, activation='softmax'))\n",
        "  optimizer = opt(learning_rate=lr)\n",
        "  model.compile(\n",
        "      loss='categorical_crossentropy',\n",
        "      optimizer=optimizer,\n",
        "      metrics=['accuracy']\n",
        "  )\n",
        "\n",
        "  return model"
      ]
    },
    {
      "cell_type": "markdown",
      "metadata": {
        "id": "OorgoqS7va04"
      },
      "source": [
        "where:\n",
        "\n",
        "*   lr is the chosen learning rate\n",
        "*   n_hidden_layers is the chosen number of hidden layers\n",
        "*   n_units is the chosen number of units\n",
        "*   act_f is the chosen activation function\n",
        "*   opt is the chosen optimiser\n",
        "*   droputout_rate is the chosen rate for dropout\n",
        "*   l2 is the chosen value for weight decay\n",
        "\n",
        "\n",
        "Next, we defined functions to be used later for graphs plotting, tables creation, and training our models."
      ]
    },
    {
      "cell_type": "code",
      "execution_count": null,
      "metadata": {
        "id": "EJH6r2Jy9qX-"
      },
      "outputs": [],
      "source": [
        "def plot_histories(histories, varname, metric=\"val_accuracy\") -> None:\n",
        "  \"\"\"\n",
        "  Plot metric value for the given histories in function of epochs.\n",
        "\n",
        "  :param histories: dictionairy of pandas dataframes containing history of the\n",
        "    training as values and variable value as keys\n",
        "  :param varname: variable name changed over the different histories\n",
        "  :param metric: which metric of the history that should be plotted\n",
        "    (default is val_accuracy)\n",
        "  \"\"\"\n",
        "  fig = go.Figure()\n",
        "\n",
        "  for varvalue, df in histories.items():\n",
        "      fig.add_trace(\n",
        "          go.Scatter(y=df[\"val_accuracy\"], name=varvalue)\n",
        "      )\n",
        "\n",
        "  fig.update_layout(\n",
        "      autosize=False,\n",
        "      width=800,\n",
        "      height=500,\n",
        "      xaxis_title=\"Epoch\",\n",
        "      yaxis_title=metric,\n",
        "      legend_title=varname,\n",
        "      margin={\"l\": 10, \"t\": 10, \"r\": 10, \"b\": 10},\n",
        "      template=\"plotly_white\"\n",
        "  )\n",
        "  fig.show()"
      ]
    },
    {
      "cell_type": "code",
      "execution_count": null,
      "metadata": {
        "id": "CRJKEt7P9x7g"
      },
      "outputs": [],
      "source": [
        "def create_table(histories, varname) -> None:\n",
        "  \"\"\"\n",
        "  Create table of the accuracy in function of variable\n",
        "  \"\"\"\n",
        "\n",
        "  history_df = pd.concat(histories, ignore_index=True)\n",
        "\n",
        "  assert varname in history_df.columns\n",
        "\n",
        "  display(\n",
        "      history_df.groupby(varname)\\\n",
        "      [[\"accuracy\", \"val_accuracy\"]].max()\\\n",
        "      .rename(columns={\"accuracy\": \"train_accuracy\"})\n",
        "      .style.background_gradient()\n",
        "  )"
      ]
    },
    {
      "cell_type": "code",
      "execution_count": null,
      "metadata": {
        "id": "rJrrvZKR-EO5"
      },
      "outputs": [],
      "source": [
        "def iterate(varname: str, values: list, config: dict) -> dict():\n",
        "    \"\"\"\n",
        "    Train different MLP models while changing a given hyperparameter of\n",
        "    the supplied values.\n",
        "\n",
        "    :param varname: name of the hyperparameter, e.g. lr\n",
        "    :param values: list of hyperparameter values\n",
        "    :param config: MLP configuration as a dict\n",
        "    \"\"\"\n",
        "\n",
        "    histories = {}\n",
        "    config = config.copy()\n",
        "\n",
        "    # Display progressbar during iteration\n",
        "    for value in tqdm(values):\n",
        "\n",
        "      # Change hyperparameter value\n",
        "      config[varname] = value\n",
        "\n",
        "      model = MLPModel(\n",
        "          config[\"num_classes\"],\n",
        "          config[\"lr\"],\n",
        "          config[\"n_hidden_layers\"],\n",
        "          config[\"n_units\"],\n",
        "          act_f=config[\"activation\"],\n",
        "          opt=config[\"optimizer\"]\n",
        "      )\n",
        "\n",
        "      early_stopping_monitor = EarlyStopping(patience=config[\"patience\"])\n",
        "\n",
        "      history = model.fit(\n",
        "          x_train,\n",
        "          y_train,\n",
        "          batch_size=config[\"batch_size\"],\n",
        "          epochs=config[\"epochs\"],\n",
        "          verbose=0,\n",
        "          validation_data=(x_valid, y_valid),\n",
        "          callbacks=[early_stopping_monitor]\n",
        "      )\n",
        "\n",
        "      # Convert history to pandas data frame and add to dictionary\n",
        "      df = pd.DataFrame(history.history)\n",
        "      df[varname] = value\n",
        "      histories[value] = df\n",
        "\n",
        "    return histories"
      ]
    },
    {
      "cell_type": "markdown",
      "metadata": {
        "id": "hnHgqifDz10P"
      },
      "source": [
        "# Training the model"
      ]
    },
    {
      "cell_type": "markdown",
      "source": [
        "We defined a configuration dictionary (**config**) to store hyperparameters, which can be updated as better values are found during the hyperparameters tuning process. We choose a patience of 10, meaning that if the model's performance does not improve for 10 consecutive epochs, training will stop early. Using all these parameters, we trained our initial model with shuffling (which is true by default).  "
      ],
      "metadata": {
        "id": "ltTqy2Ebq-w-"
      }
    },
    {
      "cell_type": "code",
      "execution_count": null,
      "metadata": {
        "id": "MHbPLrJbzuiU"
      },
      "outputs": [],
      "source": [
        "# configuration dictionary\n",
        "config = {\n",
        "    \"num_classes\": 10,\n",
        "    \"epochs\": 30,\n",
        "    \"batch_size\": 128,\n",
        "    \"patience\": 10,\n",
        "    \"lr\": 0.01,\n",
        "    \"n_hidden_layers\": 2,\n",
        "    \"n_units\": 8,\n",
        "    \"activation\": \"relu\",\n",
        "    \"optimizer\": Adam,\n",
        "}\n",
        "\n",
        "# initiating the mdoel\n",
        "model = MLPModel(\n",
        "    config[\"num_classes\"],\n",
        "    config[\"lr\"],\n",
        "    config[\"n_hidden_layers\"],\n",
        "    config[\"n_units\"],\n",
        "    act_f=config[\"activation\"],\n",
        "    opt=config[\"optimizer\"]\n",
        ")\n",
        "\n",
        "# early stopping configuration\n",
        "early_stopping_monitor = EarlyStopping(patience=10)\n",
        "history = model.fit(\n",
        "    x_train, y_train,\n",
        "    batch_size=config[\"batch_size\"],\n",
        "    epochs=config[\"epochs\"],\n",
        "    verbose=0,\n",
        "    validation_data=(x_valid, y_valid),\n",
        "    callbacks=[early_stopping_monitor])"
      ]
    },
    {
      "cell_type": "markdown",
      "metadata": {
        "id": "jxLXe9rX0O9Z"
      },
      "source": [
        "# Evaluating the starting model"
      ]
    },
    {
      "cell_type": "code",
      "execution_count": null,
      "metadata": {
        "id": "hZyQhogh0QsU",
        "colab": {
          "base_uri": "https://localhost:8080/"
        },
        "outputId": "3af030c8-25aa-4b50-a0c8-82d823240fd2"
      },
      "outputs": [
        {
          "output_type": "stream",
          "name": "stdout",
          "text": [
            "Train loss:             0.47\n",
            "Train accuracy:         0.84\n",
            "Validation loss:        0.53\n",
            "Validation accuracy:    0.82\n"
          ]
        }
      ],
      "source": [
        "score_train = model.evaluate(x_train, y_train, verbose=0)\n",
        "score_valid = model.evaluate(x_valid, y_valid, verbose=0)\n",
        "\n",
        "print(\"Train loss:          {:7.2f}\".format(score_train[0]))\n",
        "print(\"Train accuracy:      {:7.2f}\".format(score_train[1]))\n",
        "print(\"Validation loss:     {:7.2f}\".format(score_valid[0]))\n",
        "print(\"Validation accuracy: {:7.2f}\".format(score_valid[1]))"
      ]
    },
    {
      "cell_type": "markdown",
      "source": [
        "Our starting model (model with defined default values) had a training and validation accuracy of 0.84 and 0.82, respectively."
      ],
      "metadata": {
        "id": "ZT2JNVozs_aB"
      }
    },
    {
      "cell_type": "markdown",
      "metadata": {
        "id": "Qllhp3-yt35w"
      },
      "source": [
        "# Hyperparameter tuning\n",
        "In order to improve the performance of our model, we optimized the hyperparameters. For this we tried the following options:\n",
        "\n",
        "- learning rate: 1e-4, 1e-3, 1e-2\n",
        "- optimizer: Adam, AdamW, SGD\n",
        "- activation function: ReLU, leaky ReLU, sigmoid, tanh, GeLU\n",
        "- number of hidden layers: 2, 3, 4, 5, 6\n",
        "- number of hidden units per layer: 8, 16, 32, 64, 128, 256, 512, 1024\n",
        "- dropout: 0.0, 0.01, 0.05, 0.1, 0.2\n",
        "- regularization L2: 0.0, 0.01, 0.05, 0.1, 0.2\n",
        "\n",
        "\n",
        "\n",
        "For the loss function, we chose categorical crossentropy, considering it the optimal choice for this task. We maintained a batch size of 128 and fine-tuned the parameters accordingly.\n",
        "First, we optimized the learning rate."
      ]
    },
    {
      "cell_type": "markdown",
      "metadata": {
        "id": "izPbzM3ut6Nl"
      },
      "source": [
        "## Learning rate"
      ]
    },
    {
      "cell_type": "markdown",
      "metadata": {
        "id": "h20iFto85M7w"
      },
      "source": [
        "We tried the learning rates 0.0001, 0.001, and 0.01 to improve our model's accuracy."
      ]
    },
    {
      "cell_type": "code",
      "execution_count": null,
      "metadata": {
        "colab": {
          "base_uri": "https://localhost:8080/"
        },
        "id": "E2ESlNGRt5nn",
        "outputId": "a724a70b-7b35-46d1-a42b-a5b00bc6a410"
      },
      "outputs": [
        {
          "output_type": "stream",
          "name": "stderr",
          "text": [
            "100%|██████████| 3/3 [02:10<00:00, 43.35s/it]\n"
          ]
        }
      ],
      "source": [
        "lr_to_test = [1e-4, 1e-3, 1e-2]\n",
        "histories = iterate('lr', lr_to_test, config)"
      ]
    },
    {
      "cell_type": "code",
      "execution_count": null,
      "metadata": {
        "colab": {
          "base_uri": "https://localhost:8080/",
          "height": 675
        },
        "id": "wNgAV9kV_tOy",
        "outputId": "9e8f8c3e-189a-4130-ec9d-dc6d46f8c489"
      },
      "outputs": [
        {
          "output_type": "display_data",
          "data": {
            "text/html": [
              "<html>\n",
              "<head><meta charset=\"utf-8\" /></head>\n",
              "<body>\n",
              "    <div>            <script src=\"https://cdnjs.cloudflare.com/ajax/libs/mathjax/2.7.5/MathJax.js?config=TeX-AMS-MML_SVG\"></script><script type=\"text/javascript\">if (window.MathJax && window.MathJax.Hub && window.MathJax.Hub.Config) {window.MathJax.Hub.Config({SVG: {font: \"STIX-Web\"}});}</script>                <script type=\"text/javascript\">window.PlotlyConfig = {MathJaxConfig: 'local'};</script>\n",
              "        <script charset=\"utf-8\" src=\"https://cdn.plot.ly/plotly-2.24.1.min.js\"></script>                <div id=\"4b8800dc-c459-4d37-8213-fe50561d7f46\" class=\"plotly-graph-div\" style=\"height:500px; width:800px;\"></div>            <script type=\"text/javascript\">                                    window.PLOTLYENV=window.PLOTLYENV || {};                                    if (document.getElementById(\"4b8800dc-c459-4d37-8213-fe50561d7f46\")) {                    Plotly.newPlot(                        \"4b8800dc-c459-4d37-8213-fe50561d7f46\",                        [{\"name\":\"0.0001\",\"y\":[0.2942666709423065,0.40593332052230835,0.5842000246047974,0.6529333591461182,0.7111999988555908,0.7462666630744934,0.7643333077430725,0.7738000154495239,0.7865999937057495,0.7925999760627747,0.800000011920929,0.8074666857719421,0.8094000220298767,0.8118666410446167,0.8179333209991455,0.8199333548545837,0.821399986743927,0.8238666653633118,0.8241999745368958,0.8266000151634216,0.8273333311080933,0.826200008392334,0.82833331823349,0.8295333385467529,0.8310666680335999,0.8320000171661377,0.8326666951179504,0.8335333466529846,0.8328666687011719,0.833133339881897],\"type\":\"scatter\"},{\"name\":\"0.001\",\"y\":[0.7462666630744934,0.8070666790008545,0.8187999725341797,0.8230666518211365,0.8324000239372253,0.8357999920845032,0.8378666639328003,0.842199981212616,0.8449333310127258,0.8427333235740662,0.8443333506584167,0.8496000170707703,0.8477333188056946,0.845466673374176,0.8528000116348267,0.8434000015258789,0.852733314037323,0.8528000116348267,0.8550000190734863,0.8571333289146423,0.8528666496276855,0.8547999858856201,0.8540666699409485,0.8571333289146423,0.8548666834831238,0.8539999723434448,0.8551333546638489,0.8543999791145325,0.8570666909217834,0.8550000190734863],\"type\":\"scatter\"},{\"name\":\"0.01\",\"y\":[0.6856666803359985,0.7185333371162415,0.6937999725341797,0.7342000007629395,0.748533308506012,0.7562666535377502,0.7490666508674622,0.7648666501045227,0.7559999823570251,0.7609999775886536,0.7578666806221008,0.7653999924659729,0.7689999938011169,0.7609999775886536,0.7584666609764099,0.7694000005722046,0.7662666440010071,0.7549333572387695,0.7720666527748108,0.7684000134468079,0.7615333199501038,0.7748666405677795,0.7677333354949951,0.7710000276565552,0.7645333409309387,0.7735999822616577,0.7691333293914795,0.7594666481018066,0.7710666656494141],\"type\":\"scatter\"}],                        {\"template\":{\"data\":{\"barpolar\":[{\"marker\":{\"line\":{\"color\":\"white\",\"width\":0.5},\"pattern\":{\"fillmode\":\"overlay\",\"size\":10,\"solidity\":0.2}},\"type\":\"barpolar\"}],\"bar\":[{\"error_x\":{\"color\":\"#2a3f5f\"},\"error_y\":{\"color\":\"#2a3f5f\"},\"marker\":{\"line\":{\"color\":\"white\",\"width\":0.5},\"pattern\":{\"fillmode\":\"overlay\",\"size\":10,\"solidity\":0.2}},\"type\":\"bar\"}],\"carpet\":[{\"aaxis\":{\"endlinecolor\":\"#2a3f5f\",\"gridcolor\":\"#C8D4E3\",\"linecolor\":\"#C8D4E3\",\"minorgridcolor\":\"#C8D4E3\",\"startlinecolor\":\"#2a3f5f\"},\"baxis\":{\"endlinecolor\":\"#2a3f5f\",\"gridcolor\":\"#C8D4E3\",\"linecolor\":\"#C8D4E3\",\"minorgridcolor\":\"#C8D4E3\",\"startlinecolor\":\"#2a3f5f\"},\"type\":\"carpet\"}],\"choropleth\":[{\"colorbar\":{\"outlinewidth\":0,\"ticks\":\"\"},\"type\":\"choropleth\"}],\"contourcarpet\":[{\"colorbar\":{\"outlinewidth\":0,\"ticks\":\"\"},\"type\":\"contourcarpet\"}],\"contour\":[{\"colorbar\":{\"outlinewidth\":0,\"ticks\":\"\"},\"colorscale\":[[0.0,\"#0d0887\"],[0.1111111111111111,\"#46039f\"],[0.2222222222222222,\"#7201a8\"],[0.3333333333333333,\"#9c179e\"],[0.4444444444444444,\"#bd3786\"],[0.5555555555555556,\"#d8576b\"],[0.6666666666666666,\"#ed7953\"],[0.7777777777777778,\"#fb9f3a\"],[0.8888888888888888,\"#fdca26\"],[1.0,\"#f0f921\"]],\"type\":\"contour\"}],\"heatmapgl\":[{\"colorbar\":{\"outlinewidth\":0,\"ticks\":\"\"},\"colorscale\":[[0.0,\"#0d0887\"],[0.1111111111111111,\"#46039f\"],[0.2222222222222222,\"#7201a8\"],[0.3333333333333333,\"#9c179e\"],[0.4444444444444444,\"#bd3786\"],[0.5555555555555556,\"#d8576b\"],[0.6666666666666666,\"#ed7953\"],[0.7777777777777778,\"#fb9f3a\"],[0.8888888888888888,\"#fdca26\"],[1.0,\"#f0f921\"]],\"type\":\"heatmapgl\"}],\"heatmap\":[{\"colorbar\":{\"outlinewidth\":0,\"ticks\":\"\"},\"colorscale\":[[0.0,\"#0d0887\"],[0.1111111111111111,\"#46039f\"],[0.2222222222222222,\"#7201a8\"],[0.3333333333333333,\"#9c179e\"],[0.4444444444444444,\"#bd3786\"],[0.5555555555555556,\"#d8576b\"],[0.6666666666666666,\"#ed7953\"],[0.7777777777777778,\"#fb9f3a\"],[0.8888888888888888,\"#fdca26\"],[1.0,\"#f0f921\"]],\"type\":\"heatmap\"}],\"histogram2dcontour\":[{\"colorbar\":{\"outlinewidth\":0,\"ticks\":\"\"},\"colorscale\":[[0.0,\"#0d0887\"],[0.1111111111111111,\"#46039f\"],[0.2222222222222222,\"#7201a8\"],[0.3333333333333333,\"#9c179e\"],[0.4444444444444444,\"#bd3786\"],[0.5555555555555556,\"#d8576b\"],[0.6666666666666666,\"#ed7953\"],[0.7777777777777778,\"#fb9f3a\"],[0.8888888888888888,\"#fdca26\"],[1.0,\"#f0f921\"]],\"type\":\"histogram2dcontour\"}],\"histogram2d\":[{\"colorbar\":{\"outlinewidth\":0,\"ticks\":\"\"},\"colorscale\":[[0.0,\"#0d0887\"],[0.1111111111111111,\"#46039f\"],[0.2222222222222222,\"#7201a8\"],[0.3333333333333333,\"#9c179e\"],[0.4444444444444444,\"#bd3786\"],[0.5555555555555556,\"#d8576b\"],[0.6666666666666666,\"#ed7953\"],[0.7777777777777778,\"#fb9f3a\"],[0.8888888888888888,\"#fdca26\"],[1.0,\"#f0f921\"]],\"type\":\"histogram2d\"}],\"histogram\":[{\"marker\":{\"pattern\":{\"fillmode\":\"overlay\",\"size\":10,\"solidity\":0.2}},\"type\":\"histogram\"}],\"mesh3d\":[{\"colorbar\":{\"outlinewidth\":0,\"ticks\":\"\"},\"type\":\"mesh3d\"}],\"parcoords\":[{\"line\":{\"colorbar\":{\"outlinewidth\":0,\"ticks\":\"\"}},\"type\":\"parcoords\"}],\"pie\":[{\"automargin\":true,\"type\":\"pie\"}],\"scatter3d\":[{\"line\":{\"colorbar\":{\"outlinewidth\":0,\"ticks\":\"\"}},\"marker\":{\"colorbar\":{\"outlinewidth\":0,\"ticks\":\"\"}},\"type\":\"scatter3d\"}],\"scattercarpet\":[{\"marker\":{\"colorbar\":{\"outlinewidth\":0,\"ticks\":\"\"}},\"type\":\"scattercarpet\"}],\"scattergeo\":[{\"marker\":{\"colorbar\":{\"outlinewidth\":0,\"ticks\":\"\"}},\"type\":\"scattergeo\"}],\"scattergl\":[{\"marker\":{\"colorbar\":{\"outlinewidth\":0,\"ticks\":\"\"}},\"type\":\"scattergl\"}],\"scattermapbox\":[{\"marker\":{\"colorbar\":{\"outlinewidth\":0,\"ticks\":\"\"}},\"type\":\"scattermapbox\"}],\"scatterpolargl\":[{\"marker\":{\"colorbar\":{\"outlinewidth\":0,\"ticks\":\"\"}},\"type\":\"scatterpolargl\"}],\"scatterpolar\":[{\"marker\":{\"colorbar\":{\"outlinewidth\":0,\"ticks\":\"\"}},\"type\":\"scatterpolar\"}],\"scatter\":[{\"fillpattern\":{\"fillmode\":\"overlay\",\"size\":10,\"solidity\":0.2},\"type\":\"scatter\"}],\"scatterternary\":[{\"marker\":{\"colorbar\":{\"outlinewidth\":0,\"ticks\":\"\"}},\"type\":\"scatterternary\"}],\"surface\":[{\"colorbar\":{\"outlinewidth\":0,\"ticks\":\"\"},\"colorscale\":[[0.0,\"#0d0887\"],[0.1111111111111111,\"#46039f\"],[0.2222222222222222,\"#7201a8\"],[0.3333333333333333,\"#9c179e\"],[0.4444444444444444,\"#bd3786\"],[0.5555555555555556,\"#d8576b\"],[0.6666666666666666,\"#ed7953\"],[0.7777777777777778,\"#fb9f3a\"],[0.8888888888888888,\"#fdca26\"],[1.0,\"#f0f921\"]],\"type\":\"surface\"}],\"table\":[{\"cells\":{\"fill\":{\"color\":\"#EBF0F8\"},\"line\":{\"color\":\"white\"}},\"header\":{\"fill\":{\"color\":\"#C8D4E3\"},\"line\":{\"color\":\"white\"}},\"type\":\"table\"}]},\"layout\":{\"annotationdefaults\":{\"arrowcolor\":\"#2a3f5f\",\"arrowhead\":0,\"arrowwidth\":1},\"autotypenumbers\":\"strict\",\"coloraxis\":{\"colorbar\":{\"outlinewidth\":0,\"ticks\":\"\"}},\"colorscale\":{\"diverging\":[[0,\"#8e0152\"],[0.1,\"#c51b7d\"],[0.2,\"#de77ae\"],[0.3,\"#f1b6da\"],[0.4,\"#fde0ef\"],[0.5,\"#f7f7f7\"],[0.6,\"#e6f5d0\"],[0.7,\"#b8e186\"],[0.8,\"#7fbc41\"],[0.9,\"#4d9221\"],[1,\"#276419\"]],\"sequential\":[[0.0,\"#0d0887\"],[0.1111111111111111,\"#46039f\"],[0.2222222222222222,\"#7201a8\"],[0.3333333333333333,\"#9c179e\"],[0.4444444444444444,\"#bd3786\"],[0.5555555555555556,\"#d8576b\"],[0.6666666666666666,\"#ed7953\"],[0.7777777777777778,\"#fb9f3a\"],[0.8888888888888888,\"#fdca26\"],[1.0,\"#f0f921\"]],\"sequentialminus\":[[0.0,\"#0d0887\"],[0.1111111111111111,\"#46039f\"],[0.2222222222222222,\"#7201a8\"],[0.3333333333333333,\"#9c179e\"],[0.4444444444444444,\"#bd3786\"],[0.5555555555555556,\"#d8576b\"],[0.6666666666666666,\"#ed7953\"],[0.7777777777777778,\"#fb9f3a\"],[0.8888888888888888,\"#fdca26\"],[1.0,\"#f0f921\"]]},\"colorway\":[\"#636efa\",\"#EF553B\",\"#00cc96\",\"#ab63fa\",\"#FFA15A\",\"#19d3f3\",\"#FF6692\",\"#B6E880\",\"#FF97FF\",\"#FECB52\"],\"font\":{\"color\":\"#2a3f5f\"},\"geo\":{\"bgcolor\":\"white\",\"lakecolor\":\"white\",\"landcolor\":\"white\",\"showlakes\":true,\"showland\":true,\"subunitcolor\":\"#C8D4E3\"},\"hoverlabel\":{\"align\":\"left\"},\"hovermode\":\"closest\",\"mapbox\":{\"style\":\"light\"},\"paper_bgcolor\":\"white\",\"plot_bgcolor\":\"white\",\"polar\":{\"angularaxis\":{\"gridcolor\":\"#EBF0F8\",\"linecolor\":\"#EBF0F8\",\"ticks\":\"\"},\"bgcolor\":\"white\",\"radialaxis\":{\"gridcolor\":\"#EBF0F8\",\"linecolor\":\"#EBF0F8\",\"ticks\":\"\"}},\"scene\":{\"xaxis\":{\"backgroundcolor\":\"white\",\"gridcolor\":\"#DFE8F3\",\"gridwidth\":2,\"linecolor\":\"#EBF0F8\",\"showbackground\":true,\"ticks\":\"\",\"zerolinecolor\":\"#EBF0F8\"},\"yaxis\":{\"backgroundcolor\":\"white\",\"gridcolor\":\"#DFE8F3\",\"gridwidth\":2,\"linecolor\":\"#EBF0F8\",\"showbackground\":true,\"ticks\":\"\",\"zerolinecolor\":\"#EBF0F8\"},\"zaxis\":{\"backgroundcolor\":\"white\",\"gridcolor\":\"#DFE8F3\",\"gridwidth\":2,\"linecolor\":\"#EBF0F8\",\"showbackground\":true,\"ticks\":\"\",\"zerolinecolor\":\"#EBF0F8\"}},\"shapedefaults\":{\"line\":{\"color\":\"#2a3f5f\"}},\"ternary\":{\"aaxis\":{\"gridcolor\":\"#DFE8F3\",\"linecolor\":\"#A2B1C6\",\"ticks\":\"\"},\"baxis\":{\"gridcolor\":\"#DFE8F3\",\"linecolor\":\"#A2B1C6\",\"ticks\":\"\"},\"bgcolor\":\"white\",\"caxis\":{\"gridcolor\":\"#DFE8F3\",\"linecolor\":\"#A2B1C6\",\"ticks\":\"\"}},\"title\":{\"x\":0.05},\"xaxis\":{\"automargin\":true,\"gridcolor\":\"#EBF0F8\",\"linecolor\":\"#EBF0F8\",\"ticks\":\"\",\"title\":{\"standoff\":15},\"zerolinecolor\":\"#EBF0F8\",\"zerolinewidth\":2},\"yaxis\":{\"automargin\":true,\"gridcolor\":\"#EBF0F8\",\"linecolor\":\"#EBF0F8\",\"ticks\":\"\",\"title\":{\"standoff\":15},\"zerolinecolor\":\"#EBF0F8\",\"zerolinewidth\":2}}},\"margin\":{\"l\":10,\"t\":10,\"r\":10,\"b\":10},\"autosize\":false,\"width\":800,\"height\":500,\"xaxis\":{\"title\":{\"text\":\"Epoch\"}},\"yaxis\":{\"title\":{\"text\":\"val_accuracy\"}},\"legend\":{\"title\":{\"text\":\"lr\"}}},                        {\"responsive\": true}                    ).then(function(){\n",
              "                            \n",
              "var gd = document.getElementById('4b8800dc-c459-4d37-8213-fe50561d7f46');\n",
              "var x = new MutationObserver(function (mutations, observer) {{\n",
              "        var display = window.getComputedStyle(gd).display;\n",
              "        if (!display || display === 'none') {{\n",
              "            console.log([gd, 'removed!']);\n",
              "            Plotly.purge(gd);\n",
              "            observer.disconnect();\n",
              "        }}\n",
              "}});\n",
              "\n",
              "// Listen for the removal of the full notebook cells\n",
              "var notebookContainer = gd.closest('#notebook-container');\n",
              "if (notebookContainer) {{\n",
              "    x.observe(notebookContainer, {childList: true});\n",
              "}}\n",
              "\n",
              "// Listen for the clearing of the current output cell\n",
              "var outputEl = gd.closest('.output');\n",
              "if (outputEl) {{\n",
              "    x.observe(outputEl, {childList: true});\n",
              "}}\n",
              "\n",
              "                        })                };                            </script>        </div>\n",
              "</body>\n",
              "</html>"
            ]
          },
          "metadata": {}
        },
        {
          "output_type": "display_data",
          "data": {
            "text/plain": [
              "<pandas.io.formats.style.Styler at 0x7ccde5cc36a0>"
            ],
            "text/html": [
              "<style type=\"text/css\">\n",
              "#T_24181_row0_col0 {\n",
              "  background-color: #358fc0;\n",
              "  color: #f1f1f1;\n",
              "}\n",
              "#T_24181_row0_col1 {\n",
              "  background-color: #1379b5;\n",
              "  color: #f1f1f1;\n",
              "}\n",
              "#T_24181_row1_col0, #T_24181_row1_col1 {\n",
              "  background-color: #023858;\n",
              "  color: #f1f1f1;\n",
              "}\n",
              "#T_24181_row2_col0, #T_24181_row2_col1 {\n",
              "  background-color: #fff7fb;\n",
              "  color: #000000;\n",
              "}\n",
              "</style>\n",
              "<table id=\"T_24181\" class=\"dataframe\">\n",
              "  <thead>\n",
              "    <tr>\n",
              "      <th class=\"blank level0\" >&nbsp;</th>\n",
              "      <th id=\"T_24181_level0_col0\" class=\"col_heading level0 col0\" >train_accuracy</th>\n",
              "      <th id=\"T_24181_level0_col1\" class=\"col_heading level0 col1\" >val_accuracy</th>\n",
              "    </tr>\n",
              "    <tr>\n",
              "      <th class=\"index_name level0\" >lr</th>\n",
              "      <th class=\"blank col0\" >&nbsp;</th>\n",
              "      <th class=\"blank col1\" >&nbsp;</th>\n",
              "    </tr>\n",
              "  </thead>\n",
              "  <tbody>\n",
              "    <tr>\n",
              "      <th id=\"T_24181_level0_row0\" class=\"row_heading level0 row0\" >0.000100</th>\n",
              "      <td id=\"T_24181_row0_col0\" class=\"data row0 col0\" >0.835778</td>\n",
              "      <td id=\"T_24181_row0_col1\" class=\"data row0 col1\" >0.833533</td>\n",
              "    </tr>\n",
              "    <tr>\n",
              "      <th id=\"T_24181_level0_row1\" class=\"row_heading level0 row1\" >0.001000</th>\n",
              "      <td id=\"T_24181_row1_col0\" class=\"data row1 col0\" >0.867222</td>\n",
              "      <td id=\"T_24181_row1_col1\" class=\"data row1 col1\" >0.857133</td>\n",
              "    </tr>\n",
              "    <tr>\n",
              "      <th id=\"T_24181_level0_row2\" class=\"row_heading level0 row2\" >0.010000</th>\n",
              "      <td id=\"T_24181_row2_col0\" class=\"data row2 col0\" >0.783311</td>\n",
              "      <td id=\"T_24181_row2_col1\" class=\"data row2 col1\" >0.774867</td>\n",
              "    </tr>\n",
              "  </tbody>\n",
              "</table>\n"
            ]
          },
          "metadata": {}
        }
      ],
      "source": [
        "# plot the validation accuracry of possible learning values\n",
        "plot_histories(histories, 'lr')\n",
        "# create a table with maximum train accuracy (left) and maximum validation accuracy (right)\n",
        "create_table(histories, 'lr')"
      ]
    },
    {
      "cell_type": "markdown",
      "source": [
        "It was found that the learning rate of 0.001 resulted in the highest validation accuracy without overfitting, as indicated by the steady and plateauing accuracy curve on the graph and a validation accuracy close to the training accuracy. We will use these same reasonings to check overfitting for the other hyperparameters as well. This learning rate of 0.001 represents an optimal balance, avoiding the slow convergence associated with lower rates and the potential instability of higher rates. So, we set the learning rate to 0.001 to improve the model's performance."
      ],
      "metadata": {
        "id": "aSREiW1Nt2BI"
      }
    },
    {
      "cell_type": "code",
      "source": [
        "# changed lr: 0.01 => 0.001\n",
        "config[\"lr\"] = 0.001"
      ],
      "metadata": {
        "id": "Gs5Jwm0Jua2r"
      },
      "execution_count": null,
      "outputs": []
    },
    {
      "cell_type": "markdown",
      "metadata": {
        "id": "7y25fkdR-kEp"
      },
      "source": [
        "## Optimizers"
      ]
    },
    {
      "cell_type": "markdown",
      "source": [
        "We tried the optimizers Adam, AdamW, and SGD to improve our model's accuracy."
      ],
      "metadata": {
        "id": "nexSwWoFuR7m"
      }
    },
    {
      "cell_type": "code",
      "execution_count": null,
      "metadata": {
        "id": "y5RRU4sB-oVa",
        "colab": {
          "base_uri": "https://localhost:8080/"
        },
        "outputId": "1d741480-27d2-47b7-8f4b-9a61a9987407"
      },
      "outputs": [
        {
          "output_type": "stream",
          "name": "stderr",
          "text": [
            "100%|██████████| 3/3 [02:07<00:00, 42.46s/it]\n"
          ]
        }
      ],
      "source": [
        "optimizers_to_test = [Adam, AdamW, SGD]\n",
        "histories = iterate('optimizer', optimizers_to_test, config)"
      ]
    },
    {
      "cell_type": "code",
      "source": [
        "histories = dict(zip(['adam', 'adamw', 'sgd'], histories.values()))"
      ],
      "metadata": {
        "id": "Cx9KyBInkUz3"
      },
      "execution_count": null,
      "outputs": []
    },
    {
      "cell_type": "code",
      "source": [
        "for k in ['adam', 'adamw', 'sgd']:\n",
        "  histories[k]['optimizer'] = k"
      ],
      "metadata": {
        "id": "XN1tr6P1lRSF"
      },
      "execution_count": null,
      "outputs": []
    },
    {
      "cell_type": "code",
      "source": [
        "plot_histories(histories, 'optimizer')\n",
        "create_table(histories, 'optimizer')"
      ],
      "metadata": {
        "colab": {
          "base_uri": "https://localhost:8080/",
          "height": 675
        },
        "id": "2IsvSXBviM7i",
        "outputId": "7b6e91c0-bcce-4739-de86-52a7f2ace1bf"
      },
      "execution_count": null,
      "outputs": [
        {
          "output_type": "display_data",
          "data": {
            "text/html": [
              "<html>\n",
              "<head><meta charset=\"utf-8\" /></head>\n",
              "<body>\n",
              "    <div>            <script src=\"https://cdnjs.cloudflare.com/ajax/libs/mathjax/2.7.5/MathJax.js?config=TeX-AMS-MML_SVG\"></script><script type=\"text/javascript\">if (window.MathJax && window.MathJax.Hub && window.MathJax.Hub.Config) {window.MathJax.Hub.Config({SVG: {font: \"STIX-Web\"}});}</script>                <script type=\"text/javascript\">window.PlotlyConfig = {MathJaxConfig: 'local'};</script>\n",
              "        <script charset=\"utf-8\" src=\"https://cdn.plot.ly/plotly-2.24.1.min.js\"></script>                <div id=\"43031738-7f2f-47ae-b41d-f9b468242e91\" class=\"plotly-graph-div\" style=\"height:500px; width:800px;\"></div>            <script type=\"text/javascript\">                                    window.PLOTLYENV=window.PLOTLYENV || {};                                    if (document.getElementById(\"43031738-7f2f-47ae-b41d-f9b468242e91\")) {                    Plotly.newPlot(                        \"43031738-7f2f-47ae-b41d-f9b468242e91\",                        [{\"name\":\"adam\",\"y\":[0.751800000667572,0.8122000098228455,0.8284000158309937,0.8356000185012817,0.8422666788101196,0.8442666530609131,0.8453333377838135,0.8468666672706604,0.8492000102996826,0.8501999974250793,0.8528000116348267,0.8548666834831238,0.8483333587646484,0.8551999926567078,0.8525999784469604,0.8550666570663452,0.857200026512146,0.8535333275794983,0.8548666834831238,0.8583333492279053,0.8550666570663452,0.8518000245094299,0.8577333092689514,0.8543999791145325,0.8592000007629395,0.857866644859314,0.8592666387557983,0.8483999967575073,0.8567333221435547,0.8514000177383423],\"type\":\"scatter\"},{\"name\":\"adamw\",\"y\":[0.6797999739646912,0.7987333536148071,0.8250666856765747,0.8263999819755554,0.84006667137146,0.8443999886512756,0.8469333052635193,0.8471333384513855,0.846666693687439,0.8468666672706604,0.8438666462898254,0.8482666611671448,0.8515333533287048,0.8451333045959473,0.8528666496276855,0.8530666828155518,0.854200005531311,0.8519999980926514,0.8542666435241699,0.8521333336830139,0.8518666625022888,0.8505333065986633,0.8533333539962769,0.855400025844574,0.8507333397865295,0.852066695690155,0.8534666895866394,0.8530666828155518,0.8537999987602234],\"type\":\"scatter\"},{\"name\":\"sgd\",\"y\":[0.25333333015441895,0.2768000066280365,0.3038666546344757,0.3441999852657318,0.3758000135421753,0.3997333347797394,0.42126667499542236,0.46726667881011963,0.5237333178520203,0.5714666843414307,0.607200026512146,0.6229333281517029,0.6369333267211914,0.6466666460037231,0.6579999923706055,0.6676666736602783,0.6761999726295471,0.6814000010490417,0.6897333264350891,0.6959333419799805,0.7009999752044678,0.7077999711036682,0.7146000266075134,0.716866672039032,0.7238666415214539,0.7265999913215637,0.7322666645050049,0.7329999804496765,0.7382000088691711,0.7426666617393494],\"type\":\"scatter\"}],                        {\"template\":{\"data\":{\"barpolar\":[{\"marker\":{\"line\":{\"color\":\"white\",\"width\":0.5},\"pattern\":{\"fillmode\":\"overlay\",\"size\":10,\"solidity\":0.2}},\"type\":\"barpolar\"}],\"bar\":[{\"error_x\":{\"color\":\"#2a3f5f\"},\"error_y\":{\"color\":\"#2a3f5f\"},\"marker\":{\"line\":{\"color\":\"white\",\"width\":0.5},\"pattern\":{\"fillmode\":\"overlay\",\"size\":10,\"solidity\":0.2}},\"type\":\"bar\"}],\"carpet\":[{\"aaxis\":{\"endlinecolor\":\"#2a3f5f\",\"gridcolor\":\"#C8D4E3\",\"linecolor\":\"#C8D4E3\",\"minorgridcolor\":\"#C8D4E3\",\"startlinecolor\":\"#2a3f5f\"},\"baxis\":{\"endlinecolor\":\"#2a3f5f\",\"gridcolor\":\"#C8D4E3\",\"linecolor\":\"#C8D4E3\",\"minorgridcolor\":\"#C8D4E3\",\"startlinecolor\":\"#2a3f5f\"},\"type\":\"carpet\"}],\"choropleth\":[{\"colorbar\":{\"outlinewidth\":0,\"ticks\":\"\"},\"type\":\"choropleth\"}],\"contourcarpet\":[{\"colorbar\":{\"outlinewidth\":0,\"ticks\":\"\"},\"type\":\"contourcarpet\"}],\"contour\":[{\"colorbar\":{\"outlinewidth\":0,\"ticks\":\"\"},\"colorscale\":[[0.0,\"#0d0887\"],[0.1111111111111111,\"#46039f\"],[0.2222222222222222,\"#7201a8\"],[0.3333333333333333,\"#9c179e\"],[0.4444444444444444,\"#bd3786\"],[0.5555555555555556,\"#d8576b\"],[0.6666666666666666,\"#ed7953\"],[0.7777777777777778,\"#fb9f3a\"],[0.8888888888888888,\"#fdca26\"],[1.0,\"#f0f921\"]],\"type\":\"contour\"}],\"heatmapgl\":[{\"colorbar\":{\"outlinewidth\":0,\"ticks\":\"\"},\"colorscale\":[[0.0,\"#0d0887\"],[0.1111111111111111,\"#46039f\"],[0.2222222222222222,\"#7201a8\"],[0.3333333333333333,\"#9c179e\"],[0.4444444444444444,\"#bd3786\"],[0.5555555555555556,\"#d8576b\"],[0.6666666666666666,\"#ed7953\"],[0.7777777777777778,\"#fb9f3a\"],[0.8888888888888888,\"#fdca26\"],[1.0,\"#f0f921\"]],\"type\":\"heatmapgl\"}],\"heatmap\":[{\"colorbar\":{\"outlinewidth\":0,\"ticks\":\"\"},\"colorscale\":[[0.0,\"#0d0887\"],[0.1111111111111111,\"#46039f\"],[0.2222222222222222,\"#7201a8\"],[0.3333333333333333,\"#9c179e\"],[0.4444444444444444,\"#bd3786\"],[0.5555555555555556,\"#d8576b\"],[0.6666666666666666,\"#ed7953\"],[0.7777777777777778,\"#fb9f3a\"],[0.8888888888888888,\"#fdca26\"],[1.0,\"#f0f921\"]],\"type\":\"heatmap\"}],\"histogram2dcontour\":[{\"colorbar\":{\"outlinewidth\":0,\"ticks\":\"\"},\"colorscale\":[[0.0,\"#0d0887\"],[0.1111111111111111,\"#46039f\"],[0.2222222222222222,\"#7201a8\"],[0.3333333333333333,\"#9c179e\"],[0.4444444444444444,\"#bd3786\"],[0.5555555555555556,\"#d8576b\"],[0.6666666666666666,\"#ed7953\"],[0.7777777777777778,\"#fb9f3a\"],[0.8888888888888888,\"#fdca26\"],[1.0,\"#f0f921\"]],\"type\":\"histogram2dcontour\"}],\"histogram2d\":[{\"colorbar\":{\"outlinewidth\":0,\"ticks\":\"\"},\"colorscale\":[[0.0,\"#0d0887\"],[0.1111111111111111,\"#46039f\"],[0.2222222222222222,\"#7201a8\"],[0.3333333333333333,\"#9c179e\"],[0.4444444444444444,\"#bd3786\"],[0.5555555555555556,\"#d8576b\"],[0.6666666666666666,\"#ed7953\"],[0.7777777777777778,\"#fb9f3a\"],[0.8888888888888888,\"#fdca26\"],[1.0,\"#f0f921\"]],\"type\":\"histogram2d\"}],\"histogram\":[{\"marker\":{\"pattern\":{\"fillmode\":\"overlay\",\"size\":10,\"solidity\":0.2}},\"type\":\"histogram\"}],\"mesh3d\":[{\"colorbar\":{\"outlinewidth\":0,\"ticks\":\"\"},\"type\":\"mesh3d\"}],\"parcoords\":[{\"line\":{\"colorbar\":{\"outlinewidth\":0,\"ticks\":\"\"}},\"type\":\"parcoords\"}],\"pie\":[{\"automargin\":true,\"type\":\"pie\"}],\"scatter3d\":[{\"line\":{\"colorbar\":{\"outlinewidth\":0,\"ticks\":\"\"}},\"marker\":{\"colorbar\":{\"outlinewidth\":0,\"ticks\":\"\"}},\"type\":\"scatter3d\"}],\"scattercarpet\":[{\"marker\":{\"colorbar\":{\"outlinewidth\":0,\"ticks\":\"\"}},\"type\":\"scattercarpet\"}],\"scattergeo\":[{\"marker\":{\"colorbar\":{\"outlinewidth\":0,\"ticks\":\"\"}},\"type\":\"scattergeo\"}],\"scattergl\":[{\"marker\":{\"colorbar\":{\"outlinewidth\":0,\"ticks\":\"\"}},\"type\":\"scattergl\"}],\"scattermapbox\":[{\"marker\":{\"colorbar\":{\"outlinewidth\":0,\"ticks\":\"\"}},\"type\":\"scattermapbox\"}],\"scatterpolargl\":[{\"marker\":{\"colorbar\":{\"outlinewidth\":0,\"ticks\":\"\"}},\"type\":\"scatterpolargl\"}],\"scatterpolar\":[{\"marker\":{\"colorbar\":{\"outlinewidth\":0,\"ticks\":\"\"}},\"type\":\"scatterpolar\"}],\"scatter\":[{\"fillpattern\":{\"fillmode\":\"overlay\",\"size\":10,\"solidity\":0.2},\"type\":\"scatter\"}],\"scatterternary\":[{\"marker\":{\"colorbar\":{\"outlinewidth\":0,\"ticks\":\"\"}},\"type\":\"scatterternary\"}],\"surface\":[{\"colorbar\":{\"outlinewidth\":0,\"ticks\":\"\"},\"colorscale\":[[0.0,\"#0d0887\"],[0.1111111111111111,\"#46039f\"],[0.2222222222222222,\"#7201a8\"],[0.3333333333333333,\"#9c179e\"],[0.4444444444444444,\"#bd3786\"],[0.5555555555555556,\"#d8576b\"],[0.6666666666666666,\"#ed7953\"],[0.7777777777777778,\"#fb9f3a\"],[0.8888888888888888,\"#fdca26\"],[1.0,\"#f0f921\"]],\"type\":\"surface\"}],\"table\":[{\"cells\":{\"fill\":{\"color\":\"#EBF0F8\"},\"line\":{\"color\":\"white\"}},\"header\":{\"fill\":{\"color\":\"#C8D4E3\"},\"line\":{\"color\":\"white\"}},\"type\":\"table\"}]},\"layout\":{\"annotationdefaults\":{\"arrowcolor\":\"#2a3f5f\",\"arrowhead\":0,\"arrowwidth\":1},\"autotypenumbers\":\"strict\",\"coloraxis\":{\"colorbar\":{\"outlinewidth\":0,\"ticks\":\"\"}},\"colorscale\":{\"diverging\":[[0,\"#8e0152\"],[0.1,\"#c51b7d\"],[0.2,\"#de77ae\"],[0.3,\"#f1b6da\"],[0.4,\"#fde0ef\"],[0.5,\"#f7f7f7\"],[0.6,\"#e6f5d0\"],[0.7,\"#b8e186\"],[0.8,\"#7fbc41\"],[0.9,\"#4d9221\"],[1,\"#276419\"]],\"sequential\":[[0.0,\"#0d0887\"],[0.1111111111111111,\"#46039f\"],[0.2222222222222222,\"#7201a8\"],[0.3333333333333333,\"#9c179e\"],[0.4444444444444444,\"#bd3786\"],[0.5555555555555556,\"#d8576b\"],[0.6666666666666666,\"#ed7953\"],[0.7777777777777778,\"#fb9f3a\"],[0.8888888888888888,\"#fdca26\"],[1.0,\"#f0f921\"]],\"sequentialminus\":[[0.0,\"#0d0887\"],[0.1111111111111111,\"#46039f\"],[0.2222222222222222,\"#7201a8\"],[0.3333333333333333,\"#9c179e\"],[0.4444444444444444,\"#bd3786\"],[0.5555555555555556,\"#d8576b\"],[0.6666666666666666,\"#ed7953\"],[0.7777777777777778,\"#fb9f3a\"],[0.8888888888888888,\"#fdca26\"],[1.0,\"#f0f921\"]]},\"colorway\":[\"#636efa\",\"#EF553B\",\"#00cc96\",\"#ab63fa\",\"#FFA15A\",\"#19d3f3\",\"#FF6692\",\"#B6E880\",\"#FF97FF\",\"#FECB52\"],\"font\":{\"color\":\"#2a3f5f\"},\"geo\":{\"bgcolor\":\"white\",\"lakecolor\":\"white\",\"landcolor\":\"white\",\"showlakes\":true,\"showland\":true,\"subunitcolor\":\"#C8D4E3\"},\"hoverlabel\":{\"align\":\"left\"},\"hovermode\":\"closest\",\"mapbox\":{\"style\":\"light\"},\"paper_bgcolor\":\"white\",\"plot_bgcolor\":\"white\",\"polar\":{\"angularaxis\":{\"gridcolor\":\"#EBF0F8\",\"linecolor\":\"#EBF0F8\",\"ticks\":\"\"},\"bgcolor\":\"white\",\"radialaxis\":{\"gridcolor\":\"#EBF0F8\",\"linecolor\":\"#EBF0F8\",\"ticks\":\"\"}},\"scene\":{\"xaxis\":{\"backgroundcolor\":\"white\",\"gridcolor\":\"#DFE8F3\",\"gridwidth\":2,\"linecolor\":\"#EBF0F8\",\"showbackground\":true,\"ticks\":\"\",\"zerolinecolor\":\"#EBF0F8\"},\"yaxis\":{\"backgroundcolor\":\"white\",\"gridcolor\":\"#DFE8F3\",\"gridwidth\":2,\"linecolor\":\"#EBF0F8\",\"showbackground\":true,\"ticks\":\"\",\"zerolinecolor\":\"#EBF0F8\"},\"zaxis\":{\"backgroundcolor\":\"white\",\"gridcolor\":\"#DFE8F3\",\"gridwidth\":2,\"linecolor\":\"#EBF0F8\",\"showbackground\":true,\"ticks\":\"\",\"zerolinecolor\":\"#EBF0F8\"}},\"shapedefaults\":{\"line\":{\"color\":\"#2a3f5f\"}},\"ternary\":{\"aaxis\":{\"gridcolor\":\"#DFE8F3\",\"linecolor\":\"#A2B1C6\",\"ticks\":\"\"},\"baxis\":{\"gridcolor\":\"#DFE8F3\",\"linecolor\":\"#A2B1C6\",\"ticks\":\"\"},\"bgcolor\":\"white\",\"caxis\":{\"gridcolor\":\"#DFE8F3\",\"linecolor\":\"#A2B1C6\",\"ticks\":\"\"}},\"title\":{\"x\":0.05},\"xaxis\":{\"automargin\":true,\"gridcolor\":\"#EBF0F8\",\"linecolor\":\"#EBF0F8\",\"ticks\":\"\",\"title\":{\"standoff\":15},\"zerolinecolor\":\"#EBF0F8\",\"zerolinewidth\":2},\"yaxis\":{\"automargin\":true,\"gridcolor\":\"#EBF0F8\",\"linecolor\":\"#EBF0F8\",\"ticks\":\"\",\"title\":{\"standoff\":15},\"zerolinecolor\":\"#EBF0F8\",\"zerolinewidth\":2}}},\"margin\":{\"l\":10,\"t\":10,\"r\":10,\"b\":10},\"autosize\":false,\"width\":800,\"height\":500,\"xaxis\":{\"title\":{\"text\":\"Epoch\"}},\"yaxis\":{\"title\":{\"text\":\"val_accuracy\"}},\"legend\":{\"title\":{\"text\":\"optimizer\"}}},                        {\"responsive\": true}                    ).then(function(){\n",
              "                            \n",
              "var gd = document.getElementById('43031738-7f2f-47ae-b41d-f9b468242e91');\n",
              "var x = new MutationObserver(function (mutations, observer) {{\n",
              "        var display = window.getComputedStyle(gd).display;\n",
              "        if (!display || display === 'none') {{\n",
              "            console.log([gd, 'removed!']);\n",
              "            Plotly.purge(gd);\n",
              "            observer.disconnect();\n",
              "        }}\n",
              "}});\n",
              "\n",
              "// Listen for the removal of the full notebook cells\n",
              "var notebookContainer = gd.closest('#notebook-container');\n",
              "if (notebookContainer) {{\n",
              "    x.observe(notebookContainer, {childList: true});\n",
              "}}\n",
              "\n",
              "// Listen for the clearing of the current output cell\n",
              "var outputEl = gd.closest('.output');\n",
              "if (outputEl) {{\n",
              "    x.observe(outputEl, {childList: true});\n",
              "}}\n",
              "\n",
              "                        })                };                            </script>        </div>\n",
              "</body>\n",
              "</html>"
            ]
          },
          "metadata": {}
        },
        {
          "output_type": "display_data",
          "data": {
            "text/plain": [
              "<pandas.io.formats.style.Styler at 0x7ccdbc238f40>"
            ],
            "text/html": [
              "<style type=\"text/css\">\n",
              "#T_d4097_row0_col0, #T_d4097_row0_col1 {\n",
              "  background-color: #023858;\n",
              "  color: #f1f1f1;\n",
              "}\n",
              "#T_d4097_row1_col0 {\n",
              "  background-color: #023f64;\n",
              "  color: #f1f1f1;\n",
              "}\n",
              "#T_d4097_row1_col1 {\n",
              "  background-color: #034165;\n",
              "  color: #f1f1f1;\n",
              "}\n",
              "#T_d4097_row2_col0, #T_d4097_row2_col1 {\n",
              "  background-color: #fff7fb;\n",
              "  color: #000000;\n",
              "}\n",
              "</style>\n",
              "<table id=\"T_d4097\" class=\"dataframe\">\n",
              "  <thead>\n",
              "    <tr>\n",
              "      <th class=\"blank level0\" >&nbsp;</th>\n",
              "      <th id=\"T_d4097_level0_col0\" class=\"col_heading level0 col0\" >train_accuracy</th>\n",
              "      <th id=\"T_d4097_level0_col1\" class=\"col_heading level0 col1\" >val_accuracy</th>\n",
              "    </tr>\n",
              "    <tr>\n",
              "      <th class=\"index_name level0\" >optimizer</th>\n",
              "      <th class=\"blank col0\" >&nbsp;</th>\n",
              "      <th class=\"blank col1\" >&nbsp;</th>\n",
              "    </tr>\n",
              "  </thead>\n",
              "  <tbody>\n",
              "    <tr>\n",
              "      <th id=\"T_d4097_level0_row0\" class=\"row_heading level0 row0\" >adam</th>\n",
              "      <td id=\"T_d4097_row0_col0\" class=\"data row0 col0\" >0.870333</td>\n",
              "      <td id=\"T_d4097_row0_col1\" class=\"data row0 col1\" >0.859267</td>\n",
              "    </tr>\n",
              "    <tr>\n",
              "      <th id=\"T_d4097_level0_row1\" class=\"row_heading level0 row1\" >adamw</th>\n",
              "      <td id=\"T_d4097_row1_col0\" class=\"data row1 col0\" >0.866178</td>\n",
              "      <td id=\"T_d4097_row1_col1\" class=\"data row1 col1\" >0.855400</td>\n",
              "    </tr>\n",
              "    <tr>\n",
              "      <th id=\"T_d4097_level0_row2\" class=\"row_heading level0 row2\" >sgd</th>\n",
              "      <td id=\"T_d4097_row2_col0\" class=\"data row2 col0\" >0.735756</td>\n",
              "      <td id=\"T_d4097_row2_col1\" class=\"data row2 col1\" >0.742667</td>\n",
              "    </tr>\n",
              "  </tbody>\n",
              "</table>\n"
            ]
          },
          "metadata": {}
        }
      ]
    },
    {
      "cell_type": "markdown",
      "source": [
        "The plotted curves showed that the Adam optimizer outperformed SGD and AdamW in terms of validation accuracy and convergence speed. There are no signs of overfitting. For these reasons, the optimizer was chosen."
      ],
      "metadata": {
        "id": "kK3PGOL92_h0"
      }
    },
    {
      "cell_type": "markdown",
      "metadata": {
        "id": "z9pIh7Irt7qM"
      },
      "source": [
        "## Number of hidden layers"
      ]
    },
    {
      "cell_type": "markdown",
      "source": [
        "We tried 2, 3, 4, 5, 6 number of hidden layers to improve our model's accuracy because extra layers might allow the model to identify more complex patterns in the dataset."
      ],
      "metadata": {
        "id": "iDwxV3NgvG0m"
      }
    },
    {
      "cell_type": "code",
      "execution_count": null,
      "metadata": {
        "id": "MgclVoexuHRa",
        "colab": {
          "base_uri": "https://localhost:8080/"
        },
        "outputId": "553c2bf7-d415-48da-f7cd-8283b4c09499"
      },
      "outputs": [
        {
          "output_type": "stream",
          "name": "stderr",
          "text": [
            "100%|██████████| 5/5 [03:50<00:00, 46.14s/it]\n"
          ]
        }
      ],
      "source": [
        "n_hidden_layers_to_test = [2, 3, 4, 5, 6]\n",
        "histories = iterate('n_hidden_layers', n_hidden_layers_to_test, config)"
      ]
    },
    {
      "cell_type": "code",
      "source": [
        "plot_histories(histories, \"n_hidden_layers\")\n",
        "create_table(histories, \"n_hidden_layers\")"
      ],
      "metadata": {
        "colab": {
          "base_uri": "https://localhost:8080/",
          "height": 738
        },
        "id": "A53bjLAHl8HX",
        "outputId": "5ef1fa95-dace-4db9-9885-91e400157100"
      },
      "execution_count": null,
      "outputs": [
        {
          "output_type": "display_data",
          "data": {
            "text/html": [
              "<html>\n",
              "<head><meta charset=\"utf-8\" /></head>\n",
              "<body>\n",
              "    <div>            <script src=\"https://cdnjs.cloudflare.com/ajax/libs/mathjax/2.7.5/MathJax.js?config=TeX-AMS-MML_SVG\"></script><script type=\"text/javascript\">if (window.MathJax && window.MathJax.Hub && window.MathJax.Hub.Config) {window.MathJax.Hub.Config({SVG: {font: \"STIX-Web\"}});}</script>                <script type=\"text/javascript\">window.PlotlyConfig = {MathJaxConfig: 'local'};</script>\n",
              "        <script charset=\"utf-8\" src=\"https://cdn.plot.ly/plotly-2.24.1.min.js\"></script>                <div id=\"4302edf3-5474-44cf-a72a-b9602b50f8eb\" class=\"plotly-graph-div\" style=\"height:500px; width:800px;\"></div>            <script type=\"text/javascript\">                                    window.PLOTLYENV=window.PLOTLYENV || {};                                    if (document.getElementById(\"4302edf3-5474-44cf-a72a-b9602b50f8eb\")) {                    Plotly.newPlot(                        \"4302edf3-5474-44cf-a72a-b9602b50f8eb\",                        [{\"name\":\"2\",\"y\":[0.7085999846458435,0.8098666667938232,0.821066677570343,0.8274000287055969,0.8303999900817871,0.8363999724388123,0.8421333432197571,0.8410666584968567,0.8465999960899353,0.847000002861023,0.8492000102996826,0.8500666618347168,0.8489999771118164,0.8536666631698608,0.8480666875839233,0.8541333079338074,0.8475333452224731,0.8451333045959473,0.852400004863739,0.8519999980926514,0.8518000245094299,0.8532666563987732,0.8507999777793884,0.8512666821479797,0.8478666543960571,0.85753333568573,0.8554666638374329,0.8575999736785889,0.8551333546638489,0.8564666509628296],\"type\":\"scatter\"},{\"name\":\"3\",\"y\":[0.7477333545684814,0.7841333150863647,0.8027333617210388,0.8068000078201294,0.8209333419799805,0.8263333439826965,0.8326666951179504,0.8366000056266785,0.8363999724388123,0.8409333229064941,0.8385999798774719,0.8473333120346069,0.8434000015258789,0.8432000279426575,0.8434000015258789,0.8403333425521851,0.8462666869163513,0.8464666604995728,0.8462666869163513,0.8460666537284851,0.8442666530609131,0.8474000096321106,0.847266674041748,0.8494666814804077,0.8500000238418579,0.8511999845504761,0.8428666591644287,0.8515999913215637,0.849133312702179,0.850266695022583],\"type\":\"scatter\"},{\"name\":\"4\",\"y\":[0.7161999940872192,0.7721333503723145,0.7856666445732117,0.7925333380699158,0.7991333603858948,0.8047333359718323,0.8076000213623047,0.8112666606903076,0.8090000152587891,0.8122000098228455,0.8217333555221558,0.8263333439826965,0.8289333581924438,0.8274666666984558,0.8278666734695435,0.8369333148002625,0.8384000062942505,0.8374666571617126,0.8349999785423279,0.8355333209037781,0.8376666903495789,0.8387333154678345,0.8406000137329102,0.8385999798774719,0.8359333276748657,0.841866672039032,0.8382666707038879,0.8428000211715698,0.8433333039283752,0.8393333554267883],\"type\":\"scatter\"},{\"name\":\"5\",\"y\":[0.5473999977111816,0.7221333384513855,0.774066686630249,0.8020666837692261,0.8180666565895081,0.824733316898346,0.8276666402816772,0.8352000117301941,0.8273333311080933,0.8370000123977661,0.8375999927520752,0.838533341884613,0.8375999927520752,0.8427333235740662,0.8416000008583069,0.8459333181381226,0.8435999751091003,0.8471999764442444,0.8501333594322205,0.8448666930198669,0.8410000205039978,0.8479999899864197,0.8471999764442444,0.8504666686058044,0.8456666469573975,0.8518666625022888,0.8511333465576172,0.8481333255767822,0.8500666618347168,0.8438666462898254],\"type\":\"scatter\"},{\"name\":\"6\",\"y\":[0.6342666745185852,0.7713333368301392,0.7875999808311462,0.7946666479110718,0.7953333258628845,0.8017333149909973,0.8056666851043701,0.8109333515167236,0.8146666884422302,0.8157333135604858,0.8141999840736389,0.8179333209991455,0.8189333081245422,0.8252000212669373,0.8246666789054871,0.8178666830062866,0.826533317565918,0.8302666544914246,0.833733320236206,0.8313999772071838,0.8234666585922241,0.833733320236206,0.835266649723053,0.8288666605949402,0.8327333331108093,0.8341333270072937,0.8289999961853027,0.8383333086967468,0.8365333080291748,0.8339999914169312],\"type\":\"scatter\"}],                        {\"template\":{\"data\":{\"barpolar\":[{\"marker\":{\"line\":{\"color\":\"white\",\"width\":0.5},\"pattern\":{\"fillmode\":\"overlay\",\"size\":10,\"solidity\":0.2}},\"type\":\"barpolar\"}],\"bar\":[{\"error_x\":{\"color\":\"#2a3f5f\"},\"error_y\":{\"color\":\"#2a3f5f\"},\"marker\":{\"line\":{\"color\":\"white\",\"width\":0.5},\"pattern\":{\"fillmode\":\"overlay\",\"size\":10,\"solidity\":0.2}},\"type\":\"bar\"}],\"carpet\":[{\"aaxis\":{\"endlinecolor\":\"#2a3f5f\",\"gridcolor\":\"#C8D4E3\",\"linecolor\":\"#C8D4E3\",\"minorgridcolor\":\"#C8D4E3\",\"startlinecolor\":\"#2a3f5f\"},\"baxis\":{\"endlinecolor\":\"#2a3f5f\",\"gridcolor\":\"#C8D4E3\",\"linecolor\":\"#C8D4E3\",\"minorgridcolor\":\"#C8D4E3\",\"startlinecolor\":\"#2a3f5f\"},\"type\":\"carpet\"}],\"choropleth\":[{\"colorbar\":{\"outlinewidth\":0,\"ticks\":\"\"},\"type\":\"choropleth\"}],\"contourcarpet\":[{\"colorbar\":{\"outlinewidth\":0,\"ticks\":\"\"},\"type\":\"contourcarpet\"}],\"contour\":[{\"colorbar\":{\"outlinewidth\":0,\"ticks\":\"\"},\"colorscale\":[[0.0,\"#0d0887\"],[0.1111111111111111,\"#46039f\"],[0.2222222222222222,\"#7201a8\"],[0.3333333333333333,\"#9c179e\"],[0.4444444444444444,\"#bd3786\"],[0.5555555555555556,\"#d8576b\"],[0.6666666666666666,\"#ed7953\"],[0.7777777777777778,\"#fb9f3a\"],[0.8888888888888888,\"#fdca26\"],[1.0,\"#f0f921\"]],\"type\":\"contour\"}],\"heatmapgl\":[{\"colorbar\":{\"outlinewidth\":0,\"ticks\":\"\"},\"colorscale\":[[0.0,\"#0d0887\"],[0.1111111111111111,\"#46039f\"],[0.2222222222222222,\"#7201a8\"],[0.3333333333333333,\"#9c179e\"],[0.4444444444444444,\"#bd3786\"],[0.5555555555555556,\"#d8576b\"],[0.6666666666666666,\"#ed7953\"],[0.7777777777777778,\"#fb9f3a\"],[0.8888888888888888,\"#fdca26\"],[1.0,\"#f0f921\"]],\"type\":\"heatmapgl\"}],\"heatmap\":[{\"colorbar\":{\"outlinewidth\":0,\"ticks\":\"\"},\"colorscale\":[[0.0,\"#0d0887\"],[0.1111111111111111,\"#46039f\"],[0.2222222222222222,\"#7201a8\"],[0.3333333333333333,\"#9c179e\"],[0.4444444444444444,\"#bd3786\"],[0.5555555555555556,\"#d8576b\"],[0.6666666666666666,\"#ed7953\"],[0.7777777777777778,\"#fb9f3a\"],[0.8888888888888888,\"#fdca26\"],[1.0,\"#f0f921\"]],\"type\":\"heatmap\"}],\"histogram2dcontour\":[{\"colorbar\":{\"outlinewidth\":0,\"ticks\":\"\"},\"colorscale\":[[0.0,\"#0d0887\"],[0.1111111111111111,\"#46039f\"],[0.2222222222222222,\"#7201a8\"],[0.3333333333333333,\"#9c179e\"],[0.4444444444444444,\"#bd3786\"],[0.5555555555555556,\"#d8576b\"],[0.6666666666666666,\"#ed7953\"],[0.7777777777777778,\"#fb9f3a\"],[0.8888888888888888,\"#fdca26\"],[1.0,\"#f0f921\"]],\"type\":\"histogram2dcontour\"}],\"histogram2d\":[{\"colorbar\":{\"outlinewidth\":0,\"ticks\":\"\"},\"colorscale\":[[0.0,\"#0d0887\"],[0.1111111111111111,\"#46039f\"],[0.2222222222222222,\"#7201a8\"],[0.3333333333333333,\"#9c179e\"],[0.4444444444444444,\"#bd3786\"],[0.5555555555555556,\"#d8576b\"],[0.6666666666666666,\"#ed7953\"],[0.7777777777777778,\"#fb9f3a\"],[0.8888888888888888,\"#fdca26\"],[1.0,\"#f0f921\"]],\"type\":\"histogram2d\"}],\"histogram\":[{\"marker\":{\"pattern\":{\"fillmode\":\"overlay\",\"size\":10,\"solidity\":0.2}},\"type\":\"histogram\"}],\"mesh3d\":[{\"colorbar\":{\"outlinewidth\":0,\"ticks\":\"\"},\"type\":\"mesh3d\"}],\"parcoords\":[{\"line\":{\"colorbar\":{\"outlinewidth\":0,\"ticks\":\"\"}},\"type\":\"parcoords\"}],\"pie\":[{\"automargin\":true,\"type\":\"pie\"}],\"scatter3d\":[{\"line\":{\"colorbar\":{\"outlinewidth\":0,\"ticks\":\"\"}},\"marker\":{\"colorbar\":{\"outlinewidth\":0,\"ticks\":\"\"}},\"type\":\"scatter3d\"}],\"scattercarpet\":[{\"marker\":{\"colorbar\":{\"outlinewidth\":0,\"ticks\":\"\"}},\"type\":\"scattercarpet\"}],\"scattergeo\":[{\"marker\":{\"colorbar\":{\"outlinewidth\":0,\"ticks\":\"\"}},\"type\":\"scattergeo\"}],\"scattergl\":[{\"marker\":{\"colorbar\":{\"outlinewidth\":0,\"ticks\":\"\"}},\"type\":\"scattergl\"}],\"scattermapbox\":[{\"marker\":{\"colorbar\":{\"outlinewidth\":0,\"ticks\":\"\"}},\"type\":\"scattermapbox\"}],\"scatterpolargl\":[{\"marker\":{\"colorbar\":{\"outlinewidth\":0,\"ticks\":\"\"}},\"type\":\"scatterpolargl\"}],\"scatterpolar\":[{\"marker\":{\"colorbar\":{\"outlinewidth\":0,\"ticks\":\"\"}},\"type\":\"scatterpolar\"}],\"scatter\":[{\"fillpattern\":{\"fillmode\":\"overlay\",\"size\":10,\"solidity\":0.2},\"type\":\"scatter\"}],\"scatterternary\":[{\"marker\":{\"colorbar\":{\"outlinewidth\":0,\"ticks\":\"\"}},\"type\":\"scatterternary\"}],\"surface\":[{\"colorbar\":{\"outlinewidth\":0,\"ticks\":\"\"},\"colorscale\":[[0.0,\"#0d0887\"],[0.1111111111111111,\"#46039f\"],[0.2222222222222222,\"#7201a8\"],[0.3333333333333333,\"#9c179e\"],[0.4444444444444444,\"#bd3786\"],[0.5555555555555556,\"#d8576b\"],[0.6666666666666666,\"#ed7953\"],[0.7777777777777778,\"#fb9f3a\"],[0.8888888888888888,\"#fdca26\"],[1.0,\"#f0f921\"]],\"type\":\"surface\"}],\"table\":[{\"cells\":{\"fill\":{\"color\":\"#EBF0F8\"},\"line\":{\"color\":\"white\"}},\"header\":{\"fill\":{\"color\":\"#C8D4E3\"},\"line\":{\"color\":\"white\"}},\"type\":\"table\"}]},\"layout\":{\"annotationdefaults\":{\"arrowcolor\":\"#2a3f5f\",\"arrowhead\":0,\"arrowwidth\":1},\"autotypenumbers\":\"strict\",\"coloraxis\":{\"colorbar\":{\"outlinewidth\":0,\"ticks\":\"\"}},\"colorscale\":{\"diverging\":[[0,\"#8e0152\"],[0.1,\"#c51b7d\"],[0.2,\"#de77ae\"],[0.3,\"#f1b6da\"],[0.4,\"#fde0ef\"],[0.5,\"#f7f7f7\"],[0.6,\"#e6f5d0\"],[0.7,\"#b8e186\"],[0.8,\"#7fbc41\"],[0.9,\"#4d9221\"],[1,\"#276419\"]],\"sequential\":[[0.0,\"#0d0887\"],[0.1111111111111111,\"#46039f\"],[0.2222222222222222,\"#7201a8\"],[0.3333333333333333,\"#9c179e\"],[0.4444444444444444,\"#bd3786\"],[0.5555555555555556,\"#d8576b\"],[0.6666666666666666,\"#ed7953\"],[0.7777777777777778,\"#fb9f3a\"],[0.8888888888888888,\"#fdca26\"],[1.0,\"#f0f921\"]],\"sequentialminus\":[[0.0,\"#0d0887\"],[0.1111111111111111,\"#46039f\"],[0.2222222222222222,\"#7201a8\"],[0.3333333333333333,\"#9c179e\"],[0.4444444444444444,\"#bd3786\"],[0.5555555555555556,\"#d8576b\"],[0.6666666666666666,\"#ed7953\"],[0.7777777777777778,\"#fb9f3a\"],[0.8888888888888888,\"#fdca26\"],[1.0,\"#f0f921\"]]},\"colorway\":[\"#636efa\",\"#EF553B\",\"#00cc96\",\"#ab63fa\",\"#FFA15A\",\"#19d3f3\",\"#FF6692\",\"#B6E880\",\"#FF97FF\",\"#FECB52\"],\"font\":{\"color\":\"#2a3f5f\"},\"geo\":{\"bgcolor\":\"white\",\"lakecolor\":\"white\",\"landcolor\":\"white\",\"showlakes\":true,\"showland\":true,\"subunitcolor\":\"#C8D4E3\"},\"hoverlabel\":{\"align\":\"left\"},\"hovermode\":\"closest\",\"mapbox\":{\"style\":\"light\"},\"paper_bgcolor\":\"white\",\"plot_bgcolor\":\"white\",\"polar\":{\"angularaxis\":{\"gridcolor\":\"#EBF0F8\",\"linecolor\":\"#EBF0F8\",\"ticks\":\"\"},\"bgcolor\":\"white\",\"radialaxis\":{\"gridcolor\":\"#EBF0F8\",\"linecolor\":\"#EBF0F8\",\"ticks\":\"\"}},\"scene\":{\"xaxis\":{\"backgroundcolor\":\"white\",\"gridcolor\":\"#DFE8F3\",\"gridwidth\":2,\"linecolor\":\"#EBF0F8\",\"showbackground\":true,\"ticks\":\"\",\"zerolinecolor\":\"#EBF0F8\"},\"yaxis\":{\"backgroundcolor\":\"white\",\"gridcolor\":\"#DFE8F3\",\"gridwidth\":2,\"linecolor\":\"#EBF0F8\",\"showbackground\":true,\"ticks\":\"\",\"zerolinecolor\":\"#EBF0F8\"},\"zaxis\":{\"backgroundcolor\":\"white\",\"gridcolor\":\"#DFE8F3\",\"gridwidth\":2,\"linecolor\":\"#EBF0F8\",\"showbackground\":true,\"ticks\":\"\",\"zerolinecolor\":\"#EBF0F8\"}},\"shapedefaults\":{\"line\":{\"color\":\"#2a3f5f\"}},\"ternary\":{\"aaxis\":{\"gridcolor\":\"#DFE8F3\",\"linecolor\":\"#A2B1C6\",\"ticks\":\"\"},\"baxis\":{\"gridcolor\":\"#DFE8F3\",\"linecolor\":\"#A2B1C6\",\"ticks\":\"\"},\"bgcolor\":\"white\",\"caxis\":{\"gridcolor\":\"#DFE8F3\",\"linecolor\":\"#A2B1C6\",\"ticks\":\"\"}},\"title\":{\"x\":0.05},\"xaxis\":{\"automargin\":true,\"gridcolor\":\"#EBF0F8\",\"linecolor\":\"#EBF0F8\",\"ticks\":\"\",\"title\":{\"standoff\":15},\"zerolinecolor\":\"#EBF0F8\",\"zerolinewidth\":2},\"yaxis\":{\"automargin\":true,\"gridcolor\":\"#EBF0F8\",\"linecolor\":\"#EBF0F8\",\"ticks\":\"\",\"title\":{\"standoff\":15},\"zerolinecolor\":\"#EBF0F8\",\"zerolinewidth\":2}}},\"margin\":{\"l\":10,\"t\":10,\"r\":10,\"b\":10},\"autosize\":false,\"width\":800,\"height\":500,\"xaxis\":{\"title\":{\"text\":\"Epoch\"}},\"yaxis\":{\"title\":{\"text\":\"val_accuracy\"}},\"legend\":{\"title\":{\"text\":\"n_hidden_layers\"}}},                        {\"responsive\": true}                    ).then(function(){\n",
              "                            \n",
              "var gd = document.getElementById('4302edf3-5474-44cf-a72a-b9602b50f8eb');\n",
              "var x = new MutationObserver(function (mutations, observer) {{\n",
              "        var display = window.getComputedStyle(gd).display;\n",
              "        if (!display || display === 'none') {{\n",
              "            console.log([gd, 'removed!']);\n",
              "            Plotly.purge(gd);\n",
              "            observer.disconnect();\n",
              "        }}\n",
              "}});\n",
              "\n",
              "// Listen for the removal of the full notebook cells\n",
              "var notebookContainer = gd.closest('#notebook-container');\n",
              "if (notebookContainer) {{\n",
              "    x.observe(notebookContainer, {childList: true});\n",
              "}}\n",
              "\n",
              "// Listen for the clearing of the current output cell\n",
              "var outputEl = gd.closest('.output');\n",
              "if (outputEl) {{\n",
              "    x.observe(outputEl, {childList: true});\n",
              "}}\n",
              "\n",
              "                        })                };                            </script>        </div>\n",
              "</body>\n",
              "</html>"
            ]
          },
          "metadata": {}
        },
        {
          "output_type": "display_data",
          "data": {
            "text/plain": [
              "<pandas.io.formats.style.Styler at 0x7ccd97e9baf0>"
            ],
            "text/html": [
              "<style type=\"text/css\">\n",
              "#T_dcc4e_row0_col0, #T_dcc4e_row0_col1 {\n",
              "  background-color: #023858;\n",
              "  color: #f1f1f1;\n",
              "}\n",
              "#T_dcc4e_row1_col0 {\n",
              "  background-color: #0569a5;\n",
              "  color: #f1f1f1;\n",
              "}\n",
              "#T_dcc4e_row1_col1 {\n",
              "  background-color: #1c7fb8;\n",
              "  color: #f1f1f1;\n",
              "}\n",
              "#T_dcc4e_row2_col0 {\n",
              "  background-color: #ced0e6;\n",
              "  color: #000000;\n",
              "}\n",
              "#T_dcc4e_row2_col1 {\n",
              "  background-color: #cdd0e5;\n",
              "  color: #000000;\n",
              "}\n",
              "#T_dcc4e_row3_col0 {\n",
              "  background-color: #045e93;\n",
              "  color: #f1f1f1;\n",
              "}\n",
              "#T_dcc4e_row3_col1 {\n",
              "  background-color: #187cb6;\n",
              "  color: #f1f1f1;\n",
              "}\n",
              "#T_dcc4e_row4_col0, #T_dcc4e_row4_col1 {\n",
              "  background-color: #fff7fb;\n",
              "  color: #000000;\n",
              "}\n",
              "</style>\n",
              "<table id=\"T_dcc4e\" class=\"dataframe\">\n",
              "  <thead>\n",
              "    <tr>\n",
              "      <th class=\"blank level0\" >&nbsp;</th>\n",
              "      <th id=\"T_dcc4e_level0_col0\" class=\"col_heading level0 col0\" >train_accuracy</th>\n",
              "      <th id=\"T_dcc4e_level0_col1\" class=\"col_heading level0 col1\" >val_accuracy</th>\n",
              "    </tr>\n",
              "    <tr>\n",
              "      <th class=\"index_name level0\" >n_hidden_layers</th>\n",
              "      <th class=\"blank col0\" >&nbsp;</th>\n",
              "      <th class=\"blank col1\" >&nbsp;</th>\n",
              "    </tr>\n",
              "  </thead>\n",
              "  <tbody>\n",
              "    <tr>\n",
              "      <th id=\"T_dcc4e_level0_row0\" class=\"row_heading level0 row0\" >2</th>\n",
              "      <td id=\"T_dcc4e_row0_col0\" class=\"data row0 col0\" >0.868356</td>\n",
              "      <td id=\"T_dcc4e_row0_col1\" class=\"data row0 col1\" >0.857600</td>\n",
              "    </tr>\n",
              "    <tr>\n",
              "      <th id=\"T_dcc4e_level0_row1\" class=\"row_heading level0 row1\" >3</th>\n",
              "      <td id=\"T_dcc4e_row1_col0\" class=\"data row1 col0\" >0.864600</td>\n",
              "      <td id=\"T_dcc4e_row1_col1\" class=\"data row1 col1\" >0.851600</td>\n",
              "    </tr>\n",
              "    <tr>\n",
              "      <th id=\"T_dcc4e_level0_row2\" class=\"row_heading level0 row2\" >4</th>\n",
              "      <td id=\"T_dcc4e_row2_col0\" class=\"data row2 col0\" >0.855289</td>\n",
              "      <td id=\"T_dcc4e_row2_col1\" class=\"data row2 col1\" >0.843333</td>\n",
              "    </tr>\n",
              "    <tr>\n",
              "      <th id=\"T_dcc4e_level0_row3\" class=\"row_heading level0 row3\" >5</th>\n",
              "      <td id=\"T_dcc4e_row3_col0\" class=\"data row3 col0\" >0.865778</td>\n",
              "      <td id=\"T_dcc4e_row3_col1\" class=\"data row3 col1\" >0.851867</td>\n",
              "    </tr>\n",
              "    <tr>\n",
              "      <th id=\"T_dcc4e_level0_row4\" class=\"row_heading level0 row4\" >6</th>\n",
              "      <td id=\"T_dcc4e_row4_col0\" class=\"data row4 col0\" >0.850778</td>\n",
              "      <td id=\"T_dcc4e_row4_col1\" class=\"data row4 col1\" >0.838333</td>\n",
              "    </tr>\n",
              "  </tbody>\n",
              "</table>\n"
            ]
          },
          "metadata": {}
        }
      ]
    },
    {
      "cell_type": "markdown",
      "source": [
        "It can be seen that the increasing the number of hidden layers does not help to improve the performance and there are no signs of overfitting, so we kept it at 2 hidden layers."
      ],
      "metadata": {
        "id": "_I-GtWWquu_c"
      }
    },
    {
      "cell_type": "markdown",
      "metadata": {
        "id": "JVlZy87huLul"
      },
      "source": [
        "## Number of units"
      ]
    },
    {
      "cell_type": "markdown",
      "source": [
        "We tried 8, 16, 32, 64, 128, 256, 512, 1014 for numbers of units to improve our model's accuracy."
      ],
      "metadata": {
        "id": "J3Eu0b33vQ0V"
      }
    },
    {
      "cell_type": "code",
      "execution_count": null,
      "metadata": {
        "id": "2lTEHKpwuRLb",
        "colab": {
          "base_uri": "https://localhost:8080/"
        },
        "outputId": "d2eb2af1-c406-4f1c-acf5-6635c0daf237"
      },
      "outputs": [
        {
          "output_type": "stream",
          "name": "stderr",
          "text": [
            "100%|██████████| 8/8 [17:01<00:00, 127.67s/it]\n"
          ]
        }
      ],
      "source": [
        "n_units_to_test = [8, 16, 32, 64, 128, 256, 512, 1024]\n",
        "histories = iterate('n_units', n_units_to_test, config)"
      ]
    },
    {
      "cell_type": "code",
      "source": [
        "plot_histories(histories, \"n_units\")\n",
        "create_table(histories, \"n_units\")"
      ],
      "metadata": {
        "colab": {
          "base_uri": "https://localhost:8080/",
          "height": 832
        },
        "id": "ZSc0dOTw_0_p",
        "outputId": "0c234600-e8f1-449f-da9d-7fbf0a2222fc"
      },
      "execution_count": null,
      "outputs": [
        {
          "output_type": "display_data",
          "data": {
            "text/html": [
              "<html>\n",
              "<head><meta charset=\"utf-8\" /></head>\n",
              "<body>\n",
              "    <div>            <script src=\"https://cdnjs.cloudflare.com/ajax/libs/mathjax/2.7.5/MathJax.js?config=TeX-AMS-MML_SVG\"></script><script type=\"text/javascript\">if (window.MathJax && window.MathJax.Hub && window.MathJax.Hub.Config) {window.MathJax.Hub.Config({SVG: {font: \"STIX-Web\"}});}</script>                <script type=\"text/javascript\">window.PlotlyConfig = {MathJaxConfig: 'local'};</script>\n",
              "        <script charset=\"utf-8\" src=\"https://cdn.plot.ly/plotly-2.24.1.min.js\"></script>                <div id=\"1d1d44cd-fa73-4f9a-8a2f-396fcf0d1cc8\" class=\"plotly-graph-div\" style=\"height:500px; width:800px;\"></div>            <script type=\"text/javascript\">                                    window.PLOTLYENV=window.PLOTLYENV || {};                                    if (document.getElementById(\"1d1d44cd-fa73-4f9a-8a2f-396fcf0d1cc8\")) {                    Plotly.newPlot(                        \"1d1d44cd-fa73-4f9a-8a2f-396fcf0d1cc8\",                        [{\"name\":\"8\",\"y\":[0.616599977016449,0.785266637802124,0.8030666708946228,0.8155333399772644,0.8225333094596863,0.8295333385467529,0.8347333073616028,0.8343999981880188,0.8325999975204468,0.8389333486557007,0.8411333560943604,0.8398666381835938,0.838533341884613,0.8468666672706604,0.8477333188056946,0.8467333316802979,0.8507999777793884,0.849133312702179,0.8463333249092102,0.8522666692733765,0.8524666428565979,0.8518666625022888,0.8518000245094299,0.8515333533287048,0.8551333546638489,0.8552666902542114,0.8555333614349365,0.8539333343505859,0.8536666631698608,0.8515333533287048],\"type\":\"scatter\"},{\"name\":\"16\",\"y\":[0.808733344078064,0.8345999717712402,0.8442000150680542,0.8363333344459534,0.8507999777793884,0.8598666787147522,0.8597333431243896,0.8601999878883362,0.8659999966621399,0.8671333193778992,0.864466667175293,0.8700000047683716,0.869533360004425,0.8679333329200745,0.8721333146095276,0.8741333484649658,0.8702666759490967,0.8760666847229004,0.8726000189781189,0.8658666610717773,0.8734666705131531,0.8761333227157593,0.8730666637420654,0.8787333369255066,0.8730000257492065,0.8757333159446716,0.8694000244140625,0.8787999749183655,0.8751333355903625,0.8685333132743835],\"type\":\"scatter\"},{\"name\":\"32\",\"y\":[0.8297333121299744,0.8489999771118164,0.8561333417892456,0.861466646194458,0.8652666807174683,0.8682000041007996,0.8668000102043152,0.8726000189781189,0.8705999851226807,0.8754000067710876,0.8727999925613403,0.8709333539009094,0.8738666772842407,0.8755333423614502,0.8758666515350342,0.8740666508674622,0.878933310508728,0.8809333443641663,0.8787333369255066,0.8806666731834412,0.8765333294868469,0.8823333382606506,0.8825333118438721,0.8790666460990906,0.8741999864578247,0.8765333294868469,0.8810666799545288,0.8787999749183655,0.8802666664123535,0.8779333233833313],\"type\":\"scatter\"},{\"name\":\"64\",\"y\":[0.8407999873161316,0.8539333343505859,0.8650000095367432,0.8724666833877563,0.8672000169754028,0.8763999938964844,0.875333309173584,0.8769999742507935,0.8793333172798157,0.8830000162124634,0.879800021648407,0.881600022315979,0.8844000101089478,0.8863333463668823,0.8765333294868469,0.8898000121116638,0.881933331489563,0.8881999850273132,0.8862666487693787,0.884933352470398,0.8868666887283325,0.8788666725158691,0.885533332824707,0.885533332824707,0.8881333470344543,0.881933331489563,0.8883333206176758,0.8882666826248169],\"type\":\"scatter\"},{\"name\":\"128\",\"y\":[0.840666651725769,0.865066647529602,0.8614000082015991,0.8744666576385498,0.8652666807174683,0.8830666542053223,0.881600022315979,0.878000020980835,0.8820666670799255,0.8842666745185852,0.88673335313797,0.8902000188827515,0.8898000121116638,0.8877333402633667,0.89246666431427,0.887666642665863,0.8925999999046326,0.8923333287239075,0.887066662311554,0.894599974155426,0.894266664981842,0.8946666717529297],\"type\":\"scatter\"},{\"name\":\"256\",\"y\":[0.8450000286102295,0.8682000041007996,0.8679999709129333,0.8661999702453613,0.8779333233833313,0.8879333138465881,0.8823333382606506,0.8905333280563354,0.8868666887283325,0.8842666745185852,0.8968666791915894,0.882266640663147,0.8857333064079285,0.8902666568756104,0.8930666446685791,0.8899999856948853,0.8939333558082581,0.8922666907310486,0.8965333104133606,0.8945333361625671,0.8899999856948853],\"type\":\"scatter\"},{\"name\":\"512\",\"y\":[0.8647333383560181,0.8754000067710876,0.8715999722480774,0.8838666677474976,0.878333330154419,0.8863333463668823,0.8845333456993103,0.8881333470344543,0.8907999992370605,0.8902666568756104,0.8922666907310486,0.8881999850273132,0.8931333422660828,0.8849999904632568,0.8952666521072388,0.8913333415985107,0.9014666676521301,0.897266685962677,0.8967333436012268],\"type\":\"scatter\"},{\"name\":\"1024\",\"y\":[0.8673999905586243,0.8751333355903625,0.8732666373252869,0.8755999803543091,0.8769333362579346,0.8901333212852478,0.8926666378974915,0.8914666771888733,0.8824666738510132,0.881933331489563,0.8948666453361511,0.8958666920661926,0.8966666460037231,0.8916666507720947,0.8928666710853577,0.8971333503723145,0.8908666372299194,0.8978000283241272,0.8944666385650635,0.9003333449363708,0.8918666839599609,0.9002666473388672],\"type\":\"scatter\"}],                        {\"template\":{\"data\":{\"barpolar\":[{\"marker\":{\"line\":{\"color\":\"white\",\"width\":0.5},\"pattern\":{\"fillmode\":\"overlay\",\"size\":10,\"solidity\":0.2}},\"type\":\"barpolar\"}],\"bar\":[{\"error_x\":{\"color\":\"#2a3f5f\"},\"error_y\":{\"color\":\"#2a3f5f\"},\"marker\":{\"line\":{\"color\":\"white\",\"width\":0.5},\"pattern\":{\"fillmode\":\"overlay\",\"size\":10,\"solidity\":0.2}},\"type\":\"bar\"}],\"carpet\":[{\"aaxis\":{\"endlinecolor\":\"#2a3f5f\",\"gridcolor\":\"#C8D4E3\",\"linecolor\":\"#C8D4E3\",\"minorgridcolor\":\"#C8D4E3\",\"startlinecolor\":\"#2a3f5f\"},\"baxis\":{\"endlinecolor\":\"#2a3f5f\",\"gridcolor\":\"#C8D4E3\",\"linecolor\":\"#C8D4E3\",\"minorgridcolor\":\"#C8D4E3\",\"startlinecolor\":\"#2a3f5f\"},\"type\":\"carpet\"}],\"choropleth\":[{\"colorbar\":{\"outlinewidth\":0,\"ticks\":\"\"},\"type\":\"choropleth\"}],\"contourcarpet\":[{\"colorbar\":{\"outlinewidth\":0,\"ticks\":\"\"},\"type\":\"contourcarpet\"}],\"contour\":[{\"colorbar\":{\"outlinewidth\":0,\"ticks\":\"\"},\"colorscale\":[[0.0,\"#0d0887\"],[0.1111111111111111,\"#46039f\"],[0.2222222222222222,\"#7201a8\"],[0.3333333333333333,\"#9c179e\"],[0.4444444444444444,\"#bd3786\"],[0.5555555555555556,\"#d8576b\"],[0.6666666666666666,\"#ed7953\"],[0.7777777777777778,\"#fb9f3a\"],[0.8888888888888888,\"#fdca26\"],[1.0,\"#f0f921\"]],\"type\":\"contour\"}],\"heatmapgl\":[{\"colorbar\":{\"outlinewidth\":0,\"ticks\":\"\"},\"colorscale\":[[0.0,\"#0d0887\"],[0.1111111111111111,\"#46039f\"],[0.2222222222222222,\"#7201a8\"],[0.3333333333333333,\"#9c179e\"],[0.4444444444444444,\"#bd3786\"],[0.5555555555555556,\"#d8576b\"],[0.6666666666666666,\"#ed7953\"],[0.7777777777777778,\"#fb9f3a\"],[0.8888888888888888,\"#fdca26\"],[1.0,\"#f0f921\"]],\"type\":\"heatmapgl\"}],\"heatmap\":[{\"colorbar\":{\"outlinewidth\":0,\"ticks\":\"\"},\"colorscale\":[[0.0,\"#0d0887\"],[0.1111111111111111,\"#46039f\"],[0.2222222222222222,\"#7201a8\"],[0.3333333333333333,\"#9c179e\"],[0.4444444444444444,\"#bd3786\"],[0.5555555555555556,\"#d8576b\"],[0.6666666666666666,\"#ed7953\"],[0.7777777777777778,\"#fb9f3a\"],[0.8888888888888888,\"#fdca26\"],[1.0,\"#f0f921\"]],\"type\":\"heatmap\"}],\"histogram2dcontour\":[{\"colorbar\":{\"outlinewidth\":0,\"ticks\":\"\"},\"colorscale\":[[0.0,\"#0d0887\"],[0.1111111111111111,\"#46039f\"],[0.2222222222222222,\"#7201a8\"],[0.3333333333333333,\"#9c179e\"],[0.4444444444444444,\"#bd3786\"],[0.5555555555555556,\"#d8576b\"],[0.6666666666666666,\"#ed7953\"],[0.7777777777777778,\"#fb9f3a\"],[0.8888888888888888,\"#fdca26\"],[1.0,\"#f0f921\"]],\"type\":\"histogram2dcontour\"}],\"histogram2d\":[{\"colorbar\":{\"outlinewidth\":0,\"ticks\":\"\"},\"colorscale\":[[0.0,\"#0d0887\"],[0.1111111111111111,\"#46039f\"],[0.2222222222222222,\"#7201a8\"],[0.3333333333333333,\"#9c179e\"],[0.4444444444444444,\"#bd3786\"],[0.5555555555555556,\"#d8576b\"],[0.6666666666666666,\"#ed7953\"],[0.7777777777777778,\"#fb9f3a\"],[0.8888888888888888,\"#fdca26\"],[1.0,\"#f0f921\"]],\"type\":\"histogram2d\"}],\"histogram\":[{\"marker\":{\"pattern\":{\"fillmode\":\"overlay\",\"size\":10,\"solidity\":0.2}},\"type\":\"histogram\"}],\"mesh3d\":[{\"colorbar\":{\"outlinewidth\":0,\"ticks\":\"\"},\"type\":\"mesh3d\"}],\"parcoords\":[{\"line\":{\"colorbar\":{\"outlinewidth\":0,\"ticks\":\"\"}},\"type\":\"parcoords\"}],\"pie\":[{\"automargin\":true,\"type\":\"pie\"}],\"scatter3d\":[{\"line\":{\"colorbar\":{\"outlinewidth\":0,\"ticks\":\"\"}},\"marker\":{\"colorbar\":{\"outlinewidth\":0,\"ticks\":\"\"}},\"type\":\"scatter3d\"}],\"scattercarpet\":[{\"marker\":{\"colorbar\":{\"outlinewidth\":0,\"ticks\":\"\"}},\"type\":\"scattercarpet\"}],\"scattergeo\":[{\"marker\":{\"colorbar\":{\"outlinewidth\":0,\"ticks\":\"\"}},\"type\":\"scattergeo\"}],\"scattergl\":[{\"marker\":{\"colorbar\":{\"outlinewidth\":0,\"ticks\":\"\"}},\"type\":\"scattergl\"}],\"scattermapbox\":[{\"marker\":{\"colorbar\":{\"outlinewidth\":0,\"ticks\":\"\"}},\"type\":\"scattermapbox\"}],\"scatterpolargl\":[{\"marker\":{\"colorbar\":{\"outlinewidth\":0,\"ticks\":\"\"}},\"type\":\"scatterpolargl\"}],\"scatterpolar\":[{\"marker\":{\"colorbar\":{\"outlinewidth\":0,\"ticks\":\"\"}},\"type\":\"scatterpolar\"}],\"scatter\":[{\"fillpattern\":{\"fillmode\":\"overlay\",\"size\":10,\"solidity\":0.2},\"type\":\"scatter\"}],\"scatterternary\":[{\"marker\":{\"colorbar\":{\"outlinewidth\":0,\"ticks\":\"\"}},\"type\":\"scatterternary\"}],\"surface\":[{\"colorbar\":{\"outlinewidth\":0,\"ticks\":\"\"},\"colorscale\":[[0.0,\"#0d0887\"],[0.1111111111111111,\"#46039f\"],[0.2222222222222222,\"#7201a8\"],[0.3333333333333333,\"#9c179e\"],[0.4444444444444444,\"#bd3786\"],[0.5555555555555556,\"#d8576b\"],[0.6666666666666666,\"#ed7953\"],[0.7777777777777778,\"#fb9f3a\"],[0.8888888888888888,\"#fdca26\"],[1.0,\"#f0f921\"]],\"type\":\"surface\"}],\"table\":[{\"cells\":{\"fill\":{\"color\":\"#EBF0F8\"},\"line\":{\"color\":\"white\"}},\"header\":{\"fill\":{\"color\":\"#C8D4E3\"},\"line\":{\"color\":\"white\"}},\"type\":\"table\"}]},\"layout\":{\"annotationdefaults\":{\"arrowcolor\":\"#2a3f5f\",\"arrowhead\":0,\"arrowwidth\":1},\"autotypenumbers\":\"strict\",\"coloraxis\":{\"colorbar\":{\"outlinewidth\":0,\"ticks\":\"\"}},\"colorscale\":{\"diverging\":[[0,\"#8e0152\"],[0.1,\"#c51b7d\"],[0.2,\"#de77ae\"],[0.3,\"#f1b6da\"],[0.4,\"#fde0ef\"],[0.5,\"#f7f7f7\"],[0.6,\"#e6f5d0\"],[0.7,\"#b8e186\"],[0.8,\"#7fbc41\"],[0.9,\"#4d9221\"],[1,\"#276419\"]],\"sequential\":[[0.0,\"#0d0887\"],[0.1111111111111111,\"#46039f\"],[0.2222222222222222,\"#7201a8\"],[0.3333333333333333,\"#9c179e\"],[0.4444444444444444,\"#bd3786\"],[0.5555555555555556,\"#d8576b\"],[0.6666666666666666,\"#ed7953\"],[0.7777777777777778,\"#fb9f3a\"],[0.8888888888888888,\"#fdca26\"],[1.0,\"#f0f921\"]],\"sequentialminus\":[[0.0,\"#0d0887\"],[0.1111111111111111,\"#46039f\"],[0.2222222222222222,\"#7201a8\"],[0.3333333333333333,\"#9c179e\"],[0.4444444444444444,\"#bd3786\"],[0.5555555555555556,\"#d8576b\"],[0.6666666666666666,\"#ed7953\"],[0.7777777777777778,\"#fb9f3a\"],[0.8888888888888888,\"#fdca26\"],[1.0,\"#f0f921\"]]},\"colorway\":[\"#636efa\",\"#EF553B\",\"#00cc96\",\"#ab63fa\",\"#FFA15A\",\"#19d3f3\",\"#FF6692\",\"#B6E880\",\"#FF97FF\",\"#FECB52\"],\"font\":{\"color\":\"#2a3f5f\"},\"geo\":{\"bgcolor\":\"white\",\"lakecolor\":\"white\",\"landcolor\":\"white\",\"showlakes\":true,\"showland\":true,\"subunitcolor\":\"#C8D4E3\"},\"hoverlabel\":{\"align\":\"left\"},\"hovermode\":\"closest\",\"mapbox\":{\"style\":\"light\"},\"paper_bgcolor\":\"white\",\"plot_bgcolor\":\"white\",\"polar\":{\"angularaxis\":{\"gridcolor\":\"#EBF0F8\",\"linecolor\":\"#EBF0F8\",\"ticks\":\"\"},\"bgcolor\":\"white\",\"radialaxis\":{\"gridcolor\":\"#EBF0F8\",\"linecolor\":\"#EBF0F8\",\"ticks\":\"\"}},\"scene\":{\"xaxis\":{\"backgroundcolor\":\"white\",\"gridcolor\":\"#DFE8F3\",\"gridwidth\":2,\"linecolor\":\"#EBF0F8\",\"showbackground\":true,\"ticks\":\"\",\"zerolinecolor\":\"#EBF0F8\"},\"yaxis\":{\"backgroundcolor\":\"white\",\"gridcolor\":\"#DFE8F3\",\"gridwidth\":2,\"linecolor\":\"#EBF0F8\",\"showbackground\":true,\"ticks\":\"\",\"zerolinecolor\":\"#EBF0F8\"},\"zaxis\":{\"backgroundcolor\":\"white\",\"gridcolor\":\"#DFE8F3\",\"gridwidth\":2,\"linecolor\":\"#EBF0F8\",\"showbackground\":true,\"ticks\":\"\",\"zerolinecolor\":\"#EBF0F8\"}},\"shapedefaults\":{\"line\":{\"color\":\"#2a3f5f\"}},\"ternary\":{\"aaxis\":{\"gridcolor\":\"#DFE8F3\",\"linecolor\":\"#A2B1C6\",\"ticks\":\"\"},\"baxis\":{\"gridcolor\":\"#DFE8F3\",\"linecolor\":\"#A2B1C6\",\"ticks\":\"\"},\"bgcolor\":\"white\",\"caxis\":{\"gridcolor\":\"#DFE8F3\",\"linecolor\":\"#A2B1C6\",\"ticks\":\"\"}},\"title\":{\"x\":0.05},\"xaxis\":{\"automargin\":true,\"gridcolor\":\"#EBF0F8\",\"linecolor\":\"#EBF0F8\",\"ticks\":\"\",\"title\":{\"standoff\":15},\"zerolinecolor\":\"#EBF0F8\",\"zerolinewidth\":2},\"yaxis\":{\"automargin\":true,\"gridcolor\":\"#EBF0F8\",\"linecolor\":\"#EBF0F8\",\"ticks\":\"\",\"title\":{\"standoff\":15},\"zerolinecolor\":\"#EBF0F8\",\"zerolinewidth\":2}}},\"margin\":{\"l\":10,\"t\":10,\"r\":10,\"b\":10},\"autosize\":false,\"width\":800,\"height\":500,\"xaxis\":{\"title\":{\"text\":\"Epoch\"}},\"yaxis\":{\"title\":{\"text\":\"val_accuracy\"}},\"legend\":{\"title\":{\"text\":\"n_units\"}}},                        {\"responsive\": true}                    ).then(function(){\n",
              "                            \n",
              "var gd = document.getElementById('1d1d44cd-fa73-4f9a-8a2f-396fcf0d1cc8');\n",
              "var x = new MutationObserver(function (mutations, observer) {{\n",
              "        var display = window.getComputedStyle(gd).display;\n",
              "        if (!display || display === 'none') {{\n",
              "            console.log([gd, 'removed!']);\n",
              "            Plotly.purge(gd);\n",
              "            observer.disconnect();\n",
              "        }}\n",
              "}});\n",
              "\n",
              "// Listen for the removal of the full notebook cells\n",
              "var notebookContainer = gd.closest('#notebook-container');\n",
              "if (notebookContainer) {{\n",
              "    x.observe(notebookContainer, {childList: true});\n",
              "}}\n",
              "\n",
              "// Listen for the clearing of the current output cell\n",
              "var outputEl = gd.closest('.output');\n",
              "if (outputEl) {{\n",
              "    x.observe(outputEl, {childList: true});\n",
              "}}\n",
              "\n",
              "                        })                };                            </script>        </div>\n",
              "</body>\n",
              "</html>"
            ]
          },
          "metadata": {}
        },
        {
          "output_type": "display_data",
          "data": {
            "text/plain": [
              "<pandas.io.formats.style.Styler at 0x7ccdbc49bd60>"
            ],
            "text/html": [
              "<style type=\"text/css\">\n",
              "#T_088a1_row0_col0, #T_088a1_row0_col1 {\n",
              "  background-color: #fff7fb;\n",
              "  color: #000000;\n",
              "}\n",
              "#T_088a1_row1_col0 {\n",
              "  background-color: #b0c2de;\n",
              "  color: #000000;\n",
              "}\n",
              "#T_088a1_row1_col1 {\n",
              "  background-color: #71a8ce;\n",
              "  color: #f1f1f1;\n",
              "}\n",
              "#T_088a1_row2_col0 {\n",
              "  background-color: #63a2cb;\n",
              "  color: #f1f1f1;\n",
              "}\n",
              "#T_088a1_row2_col1 {\n",
              "  background-color: #4897c4;\n",
              "  color: #f1f1f1;\n",
              "}\n",
              "#T_088a1_row3_col0 {\n",
              "  background-color: #0570b0;\n",
              "  color: #f1f1f1;\n",
              "}\n",
              "#T_088a1_row3_col1 {\n",
              "  background-color: #0771b1;\n",
              "  color: #f1f1f1;\n",
              "}\n",
              "#T_088a1_row4_col0 {\n",
              "  background-color: #04649e;\n",
              "  color: #f1f1f1;\n",
              "}\n",
              "#T_088a1_row4_col1 {\n",
              "  background-color: #045e93;\n",
              "  color: #f1f1f1;\n",
              "}\n",
              "#T_088a1_row5_col0 {\n",
              "  background-color: #045483;\n",
              "  color: #f1f1f1;\n",
              "}\n",
              "#T_088a1_row5_col1 {\n",
              "  background-color: #045382;\n",
              "  color: #f1f1f1;\n",
              "}\n",
              "#T_088a1_row6_col0 {\n",
              "  background-color: #03517e;\n",
              "  color: #f1f1f1;\n",
              "}\n",
              "#T_088a1_row6_col1, #T_088a1_row7_col0 {\n",
              "  background-color: #023858;\n",
              "  color: #f1f1f1;\n",
              "}\n",
              "#T_088a1_row7_col1 {\n",
              "  background-color: #023e62;\n",
              "  color: #f1f1f1;\n",
              "}\n",
              "</style>\n",
              "<table id=\"T_088a1\" class=\"dataframe\">\n",
              "  <thead>\n",
              "    <tr>\n",
              "      <th class=\"blank level0\" >&nbsp;</th>\n",
              "      <th id=\"T_088a1_level0_col0\" class=\"col_heading level0 col0\" >train_accuracy</th>\n",
              "      <th id=\"T_088a1_level0_col1\" class=\"col_heading level0 col1\" >val_accuracy</th>\n",
              "    </tr>\n",
              "    <tr>\n",
              "      <th class=\"index_name level0\" >n_units</th>\n",
              "      <th class=\"blank col0\" >&nbsp;</th>\n",
              "      <th class=\"blank col1\" >&nbsp;</th>\n",
              "    </tr>\n",
              "  </thead>\n",
              "  <tbody>\n",
              "    <tr>\n",
              "      <th id=\"T_088a1_level0_row0\" class=\"row_heading level0 row0\" >8</th>\n",
              "      <td id=\"T_088a1_row0_col0\" class=\"data row0 col0\" >0.865867</td>\n",
              "      <td id=\"T_088a1_row0_col1\" class=\"data row0 col1\" >0.855533</td>\n",
              "    </tr>\n",
              "    <tr>\n",
              "      <th id=\"T_088a1_level0_row1\" class=\"row_heading level0 row1\" >16</th>\n",
              "      <td id=\"T_088a1_row1_col0\" class=\"data row1 col0\" >0.895533</td>\n",
              "      <td id=\"T_088a1_row1_col1\" class=\"data row1 col1\" >0.878800</td>\n",
              "    </tr>\n",
              "    <tr>\n",
              "      <th id=\"T_088a1_level0_row2\" class=\"row_heading level0 row2\" >32</th>\n",
              "      <td id=\"T_088a1_row2_col0\" class=\"data row2 col0\" >0.911956</td>\n",
              "      <td id=\"T_088a1_row2_col1\" class=\"data row2 col1\" >0.882533</td>\n",
              "    </tr>\n",
              "    <tr>\n",
              "      <th id=\"T_088a1_level0_row3\" class=\"row_heading level0 row3\" >64</th>\n",
              "      <td id=\"T_088a1_row3_col0\" class=\"data row3 col0\" >0.930444</td>\n",
              "      <td id=\"T_088a1_row3_col1\" class=\"data row3 col1\" >0.889800</td>\n",
              "    </tr>\n",
              "    <tr>\n",
              "      <th id=\"T_088a1_level0_row4\" class=\"row_heading level0 row4\" >128</th>\n",
              "      <td id=\"T_088a1_row4_col0\" class=\"data row4 col0\" >0.935978</td>\n",
              "      <td id=\"T_088a1_row4_col1\" class=\"data row4 col1\" >0.894667</td>\n",
              "    </tr>\n",
              "    <tr>\n",
              "      <th id=\"T_088a1_level0_row5\" class=\"row_heading level0 row5\" >256</th>\n",
              "      <td id=\"T_088a1_row5_col0\" class=\"data row5 col0\" >0.943067</td>\n",
              "      <td id=\"T_088a1_row5_col1\" class=\"data row5 col1\" >0.896867</td>\n",
              "    </tr>\n",
              "    <tr>\n",
              "      <th id=\"T_088a1_level0_row6\" class=\"row_heading level0 row6\" >512</th>\n",
              "      <td id=\"T_088a1_row6_col0\" class=\"data row6 col0\" >0.944044</td>\n",
              "      <td id=\"T_088a1_row6_col1\" class=\"data row6 col1\" >0.901467</td>\n",
              "    </tr>\n",
              "    <tr>\n",
              "      <th id=\"T_088a1_level0_row7\" class=\"row_heading level0 row7\" >1024</th>\n",
              "      <td id=\"T_088a1_row7_col0\" class=\"data row7 col0\" >0.952067</td>\n",
              "      <td id=\"T_088a1_row7_col1\" class=\"data row7 col1\" >0.900333</td>\n",
              "    </tr>\n",
              "  </tbody>\n",
              "</table>\n"
            ]
          },
          "metadata": {}
        }
      ]
    },
    {
      "cell_type": "markdown",
      "source": [
        "Based on the high validation accuracy and because of computational complexity and lower overfitting risk, we set the number of hidden units to 128 to improve the model's performance."
      ],
      "metadata": {
        "id": "7l0LxHeXAYF_"
      }
    },
    {
      "cell_type": "code",
      "source": [
        "# changed n_units: 8 => 128\n",
        "config[\"n_units\"] = 128"
      ],
      "metadata": {
        "id": "1WjKdxxHALx9"
      },
      "execution_count": null,
      "outputs": []
    },
    {
      "cell_type": "markdown",
      "metadata": {
        "id": "gME-USFu07jX"
      },
      "source": [
        "## Number of hidden layers for specified units"
      ]
    },
    {
      "cell_type": "markdown",
      "source": [
        "The number of hidden layers is reexamined again because this can have changed after using different number of units in the layers."
      ],
      "metadata": {
        "id": "_FDa7koVv-WO"
      }
    },
    {
      "cell_type": "code",
      "execution_count": null,
      "metadata": {
        "id": "lXttrDQB07jY",
        "colab": {
          "base_uri": "https://localhost:8080/"
        },
        "outputId": "5393799e-69be-4f1d-d56f-a4e46870fb27"
      },
      "outputs": [
        {
          "output_type": "stream",
          "name": "stderr",
          "text": [
            "100%|██████████| 5/5 [06:05<00:00, 73.20s/it]\n"
          ]
        }
      ],
      "source": [
        "n_hidden_layers_to_test = [2, 3, 4, 5, 6]\n",
        "histories = iterate('n_hidden_layers', n_hidden_layers_to_test, config)"
      ]
    },
    {
      "cell_type": "code",
      "source": [
        "plot_histories(histories, \"n_hidden_layers\")\n",
        "create_table(histories, \"n_hidden_layers\")"
      ],
      "metadata": {
        "id": "Hs4TgOUc07jY",
        "colab": {
          "base_uri": "https://localhost:8080/",
          "height": 738
        },
        "outputId": "e87bf09d-ede6-4534-fa7b-991c29fb988b"
      },
      "execution_count": null,
      "outputs": [
        {
          "output_type": "display_data",
          "data": {
            "text/html": [
              "<html>\n",
              "<head><meta charset=\"utf-8\" /></head>\n",
              "<body>\n",
              "    <div>            <script src=\"https://cdnjs.cloudflare.com/ajax/libs/mathjax/2.7.5/MathJax.js?config=TeX-AMS-MML_SVG\"></script><script type=\"text/javascript\">if (window.MathJax && window.MathJax.Hub && window.MathJax.Hub.Config) {window.MathJax.Hub.Config({SVG: {font: \"STIX-Web\"}});}</script>                <script type=\"text/javascript\">window.PlotlyConfig = {MathJaxConfig: 'local'};</script>\n",
              "        <script charset=\"utf-8\" src=\"https://cdn.plot.ly/plotly-2.24.1.min.js\"></script>                <div id=\"85207889-7428-41b3-a201-6909d63532c5\" class=\"plotly-graph-div\" style=\"height:500px; width:800px;\"></div>            <script type=\"text/javascript\">                                    window.PLOTLYENV=window.PLOTLYENV || {};                                    if (document.getElementById(\"85207889-7428-41b3-a201-6909d63532c5\")) {                    Plotly.newPlot(                        \"85207889-7428-41b3-a201-6909d63532c5\",                        [{\"name\":\"2\",\"y\":[0.8459333181381226,0.8682000041007996,0.8713333606719971,0.8782666921615601,0.8790666460990906,0.883400022983551,0.8916666507720947,0.8832666873931885,0.8859333395957947,0.881933331489563,0.8845999836921692,0.8930666446685791,0.8917333483695984,0.8832666873931885,0.8908666372299194,0.8917333483695984,0.8919333219528198,0.8956000208854675,0.8941333293914795,0.8948666453361511,0.895466685295105,0.8976666927337646],\"type\":\"scatter\"},{\"name\":\"3\",\"y\":[0.8362666964530945,0.8514666557312012,0.866599977016449,0.8694666624069214,0.8856666684150696,0.8850666880607605,0.8830666542053223,0.8844666481018066,0.8902666568756104,0.8760666847229004,0.8913999795913696,0.8881333470344543,0.8890666961669922,0.8841333389282227,0.8817999958992004,0.8853333592414856,0.8942000269889832,0.8921999931335449,0.8939999938011169],\"type\":\"scatter\"},{\"name\":\"4\",\"y\":[0.8448666930198669,0.8555333614349365,0.862666666507721,0.8676000237464905,0.8798666596412659,0.8777999877929688,0.8877999782562256,0.8835999965667725,0.885866641998291,0.8839333057403564,0.8707333207130432,0.8896666765213013,0.8845333456993103,0.8850666880607605,0.8914666771888733,0.8885999917984009,0.887666642665863],\"type\":\"scatter\"},{\"name\":\"5\",\"y\":[0.8487333059310913,0.8587999939918518,0.8580666780471802,0.875333309173584,0.8665333390235901,0.8862666487693787,0.8863999843597412,0.8849999904632568,0.890999972820282,0.8827333450317383,0.8864666819572449,0.8899999856948853,0.878600001335144,0.8895333409309387,0.8925999999046326,0.8916666507720947,0.8872666954994202],\"type\":\"scatter\"},{\"name\":\"6\",\"y\":[0.847266674041748,0.8414666652679443,0.8561333417892456,0.8736000061035156,0.8715333342552185,0.8863999843597412,0.8821333050727844,0.8857333064079285,0.8769333362579346,0.8844666481018066,0.8769999742507935,0.8849999904632568,0.8925999999046326,0.8949333429336548,0.8867999911308289,0.8912000060081482,0.8967333436012268,0.8913333415985107,0.8906000256538391,0.8943333625793457,0.8937333226203918,0.8910666704177856,0.8920666575431824,0.8835333585739136],\"type\":\"scatter\"}],                        {\"template\":{\"data\":{\"barpolar\":[{\"marker\":{\"line\":{\"color\":\"white\",\"width\":0.5},\"pattern\":{\"fillmode\":\"overlay\",\"size\":10,\"solidity\":0.2}},\"type\":\"barpolar\"}],\"bar\":[{\"error_x\":{\"color\":\"#2a3f5f\"},\"error_y\":{\"color\":\"#2a3f5f\"},\"marker\":{\"line\":{\"color\":\"white\",\"width\":0.5},\"pattern\":{\"fillmode\":\"overlay\",\"size\":10,\"solidity\":0.2}},\"type\":\"bar\"}],\"carpet\":[{\"aaxis\":{\"endlinecolor\":\"#2a3f5f\",\"gridcolor\":\"#C8D4E3\",\"linecolor\":\"#C8D4E3\",\"minorgridcolor\":\"#C8D4E3\",\"startlinecolor\":\"#2a3f5f\"},\"baxis\":{\"endlinecolor\":\"#2a3f5f\",\"gridcolor\":\"#C8D4E3\",\"linecolor\":\"#C8D4E3\",\"minorgridcolor\":\"#C8D4E3\",\"startlinecolor\":\"#2a3f5f\"},\"type\":\"carpet\"}],\"choropleth\":[{\"colorbar\":{\"outlinewidth\":0,\"ticks\":\"\"},\"type\":\"choropleth\"}],\"contourcarpet\":[{\"colorbar\":{\"outlinewidth\":0,\"ticks\":\"\"},\"type\":\"contourcarpet\"}],\"contour\":[{\"colorbar\":{\"outlinewidth\":0,\"ticks\":\"\"},\"colorscale\":[[0.0,\"#0d0887\"],[0.1111111111111111,\"#46039f\"],[0.2222222222222222,\"#7201a8\"],[0.3333333333333333,\"#9c179e\"],[0.4444444444444444,\"#bd3786\"],[0.5555555555555556,\"#d8576b\"],[0.6666666666666666,\"#ed7953\"],[0.7777777777777778,\"#fb9f3a\"],[0.8888888888888888,\"#fdca26\"],[1.0,\"#f0f921\"]],\"type\":\"contour\"}],\"heatmapgl\":[{\"colorbar\":{\"outlinewidth\":0,\"ticks\":\"\"},\"colorscale\":[[0.0,\"#0d0887\"],[0.1111111111111111,\"#46039f\"],[0.2222222222222222,\"#7201a8\"],[0.3333333333333333,\"#9c179e\"],[0.4444444444444444,\"#bd3786\"],[0.5555555555555556,\"#d8576b\"],[0.6666666666666666,\"#ed7953\"],[0.7777777777777778,\"#fb9f3a\"],[0.8888888888888888,\"#fdca26\"],[1.0,\"#f0f921\"]],\"type\":\"heatmapgl\"}],\"heatmap\":[{\"colorbar\":{\"outlinewidth\":0,\"ticks\":\"\"},\"colorscale\":[[0.0,\"#0d0887\"],[0.1111111111111111,\"#46039f\"],[0.2222222222222222,\"#7201a8\"],[0.3333333333333333,\"#9c179e\"],[0.4444444444444444,\"#bd3786\"],[0.5555555555555556,\"#d8576b\"],[0.6666666666666666,\"#ed7953\"],[0.7777777777777778,\"#fb9f3a\"],[0.8888888888888888,\"#fdca26\"],[1.0,\"#f0f921\"]],\"type\":\"heatmap\"}],\"histogram2dcontour\":[{\"colorbar\":{\"outlinewidth\":0,\"ticks\":\"\"},\"colorscale\":[[0.0,\"#0d0887\"],[0.1111111111111111,\"#46039f\"],[0.2222222222222222,\"#7201a8\"],[0.3333333333333333,\"#9c179e\"],[0.4444444444444444,\"#bd3786\"],[0.5555555555555556,\"#d8576b\"],[0.6666666666666666,\"#ed7953\"],[0.7777777777777778,\"#fb9f3a\"],[0.8888888888888888,\"#fdca26\"],[1.0,\"#f0f921\"]],\"type\":\"histogram2dcontour\"}],\"histogram2d\":[{\"colorbar\":{\"outlinewidth\":0,\"ticks\":\"\"},\"colorscale\":[[0.0,\"#0d0887\"],[0.1111111111111111,\"#46039f\"],[0.2222222222222222,\"#7201a8\"],[0.3333333333333333,\"#9c179e\"],[0.4444444444444444,\"#bd3786\"],[0.5555555555555556,\"#d8576b\"],[0.6666666666666666,\"#ed7953\"],[0.7777777777777778,\"#fb9f3a\"],[0.8888888888888888,\"#fdca26\"],[1.0,\"#f0f921\"]],\"type\":\"histogram2d\"}],\"histogram\":[{\"marker\":{\"pattern\":{\"fillmode\":\"overlay\",\"size\":10,\"solidity\":0.2}},\"type\":\"histogram\"}],\"mesh3d\":[{\"colorbar\":{\"outlinewidth\":0,\"ticks\":\"\"},\"type\":\"mesh3d\"}],\"parcoords\":[{\"line\":{\"colorbar\":{\"outlinewidth\":0,\"ticks\":\"\"}},\"type\":\"parcoords\"}],\"pie\":[{\"automargin\":true,\"type\":\"pie\"}],\"scatter3d\":[{\"line\":{\"colorbar\":{\"outlinewidth\":0,\"ticks\":\"\"}},\"marker\":{\"colorbar\":{\"outlinewidth\":0,\"ticks\":\"\"}},\"type\":\"scatter3d\"}],\"scattercarpet\":[{\"marker\":{\"colorbar\":{\"outlinewidth\":0,\"ticks\":\"\"}},\"type\":\"scattercarpet\"}],\"scattergeo\":[{\"marker\":{\"colorbar\":{\"outlinewidth\":0,\"ticks\":\"\"}},\"type\":\"scattergeo\"}],\"scattergl\":[{\"marker\":{\"colorbar\":{\"outlinewidth\":0,\"ticks\":\"\"}},\"type\":\"scattergl\"}],\"scattermapbox\":[{\"marker\":{\"colorbar\":{\"outlinewidth\":0,\"ticks\":\"\"}},\"type\":\"scattermapbox\"}],\"scatterpolargl\":[{\"marker\":{\"colorbar\":{\"outlinewidth\":0,\"ticks\":\"\"}},\"type\":\"scatterpolargl\"}],\"scatterpolar\":[{\"marker\":{\"colorbar\":{\"outlinewidth\":0,\"ticks\":\"\"}},\"type\":\"scatterpolar\"}],\"scatter\":[{\"fillpattern\":{\"fillmode\":\"overlay\",\"size\":10,\"solidity\":0.2},\"type\":\"scatter\"}],\"scatterternary\":[{\"marker\":{\"colorbar\":{\"outlinewidth\":0,\"ticks\":\"\"}},\"type\":\"scatterternary\"}],\"surface\":[{\"colorbar\":{\"outlinewidth\":0,\"ticks\":\"\"},\"colorscale\":[[0.0,\"#0d0887\"],[0.1111111111111111,\"#46039f\"],[0.2222222222222222,\"#7201a8\"],[0.3333333333333333,\"#9c179e\"],[0.4444444444444444,\"#bd3786\"],[0.5555555555555556,\"#d8576b\"],[0.6666666666666666,\"#ed7953\"],[0.7777777777777778,\"#fb9f3a\"],[0.8888888888888888,\"#fdca26\"],[1.0,\"#f0f921\"]],\"type\":\"surface\"}],\"table\":[{\"cells\":{\"fill\":{\"color\":\"#EBF0F8\"},\"line\":{\"color\":\"white\"}},\"header\":{\"fill\":{\"color\":\"#C8D4E3\"},\"line\":{\"color\":\"white\"}},\"type\":\"table\"}]},\"layout\":{\"annotationdefaults\":{\"arrowcolor\":\"#2a3f5f\",\"arrowhead\":0,\"arrowwidth\":1},\"autotypenumbers\":\"strict\",\"coloraxis\":{\"colorbar\":{\"outlinewidth\":0,\"ticks\":\"\"}},\"colorscale\":{\"diverging\":[[0,\"#8e0152\"],[0.1,\"#c51b7d\"],[0.2,\"#de77ae\"],[0.3,\"#f1b6da\"],[0.4,\"#fde0ef\"],[0.5,\"#f7f7f7\"],[0.6,\"#e6f5d0\"],[0.7,\"#b8e186\"],[0.8,\"#7fbc41\"],[0.9,\"#4d9221\"],[1,\"#276419\"]],\"sequential\":[[0.0,\"#0d0887\"],[0.1111111111111111,\"#46039f\"],[0.2222222222222222,\"#7201a8\"],[0.3333333333333333,\"#9c179e\"],[0.4444444444444444,\"#bd3786\"],[0.5555555555555556,\"#d8576b\"],[0.6666666666666666,\"#ed7953\"],[0.7777777777777778,\"#fb9f3a\"],[0.8888888888888888,\"#fdca26\"],[1.0,\"#f0f921\"]],\"sequentialminus\":[[0.0,\"#0d0887\"],[0.1111111111111111,\"#46039f\"],[0.2222222222222222,\"#7201a8\"],[0.3333333333333333,\"#9c179e\"],[0.4444444444444444,\"#bd3786\"],[0.5555555555555556,\"#d8576b\"],[0.6666666666666666,\"#ed7953\"],[0.7777777777777778,\"#fb9f3a\"],[0.8888888888888888,\"#fdca26\"],[1.0,\"#f0f921\"]]},\"colorway\":[\"#636efa\",\"#EF553B\",\"#00cc96\",\"#ab63fa\",\"#FFA15A\",\"#19d3f3\",\"#FF6692\",\"#B6E880\",\"#FF97FF\",\"#FECB52\"],\"font\":{\"color\":\"#2a3f5f\"},\"geo\":{\"bgcolor\":\"white\",\"lakecolor\":\"white\",\"landcolor\":\"white\",\"showlakes\":true,\"showland\":true,\"subunitcolor\":\"#C8D4E3\"},\"hoverlabel\":{\"align\":\"left\"},\"hovermode\":\"closest\",\"mapbox\":{\"style\":\"light\"},\"paper_bgcolor\":\"white\",\"plot_bgcolor\":\"white\",\"polar\":{\"angularaxis\":{\"gridcolor\":\"#EBF0F8\",\"linecolor\":\"#EBF0F8\",\"ticks\":\"\"},\"bgcolor\":\"white\",\"radialaxis\":{\"gridcolor\":\"#EBF0F8\",\"linecolor\":\"#EBF0F8\",\"ticks\":\"\"}},\"scene\":{\"xaxis\":{\"backgroundcolor\":\"white\",\"gridcolor\":\"#DFE8F3\",\"gridwidth\":2,\"linecolor\":\"#EBF0F8\",\"showbackground\":true,\"ticks\":\"\",\"zerolinecolor\":\"#EBF0F8\"},\"yaxis\":{\"backgroundcolor\":\"white\",\"gridcolor\":\"#DFE8F3\",\"gridwidth\":2,\"linecolor\":\"#EBF0F8\",\"showbackground\":true,\"ticks\":\"\",\"zerolinecolor\":\"#EBF0F8\"},\"zaxis\":{\"backgroundcolor\":\"white\",\"gridcolor\":\"#DFE8F3\",\"gridwidth\":2,\"linecolor\":\"#EBF0F8\",\"showbackground\":true,\"ticks\":\"\",\"zerolinecolor\":\"#EBF0F8\"}},\"shapedefaults\":{\"line\":{\"color\":\"#2a3f5f\"}},\"ternary\":{\"aaxis\":{\"gridcolor\":\"#DFE8F3\",\"linecolor\":\"#A2B1C6\",\"ticks\":\"\"},\"baxis\":{\"gridcolor\":\"#DFE8F3\",\"linecolor\":\"#A2B1C6\",\"ticks\":\"\"},\"bgcolor\":\"white\",\"caxis\":{\"gridcolor\":\"#DFE8F3\",\"linecolor\":\"#A2B1C6\",\"ticks\":\"\"}},\"title\":{\"x\":0.05},\"xaxis\":{\"automargin\":true,\"gridcolor\":\"#EBF0F8\",\"linecolor\":\"#EBF0F8\",\"ticks\":\"\",\"title\":{\"standoff\":15},\"zerolinecolor\":\"#EBF0F8\",\"zerolinewidth\":2},\"yaxis\":{\"automargin\":true,\"gridcolor\":\"#EBF0F8\",\"linecolor\":\"#EBF0F8\",\"ticks\":\"\",\"title\":{\"standoff\":15},\"zerolinecolor\":\"#EBF0F8\",\"zerolinewidth\":2}}},\"margin\":{\"l\":10,\"t\":10,\"r\":10,\"b\":10},\"autosize\":false,\"width\":800,\"height\":500,\"xaxis\":{\"title\":{\"text\":\"Epoch\"}},\"yaxis\":{\"title\":{\"text\":\"val_accuracy\"}},\"legend\":{\"title\":{\"text\":\"n_hidden_layers\"}}},                        {\"responsive\": true}                    ).then(function(){\n",
              "                            \n",
              "var gd = document.getElementById('85207889-7428-41b3-a201-6909d63532c5');\n",
              "var x = new MutationObserver(function (mutations, observer) {{\n",
              "        var display = window.getComputedStyle(gd).display;\n",
              "        if (!display || display === 'none') {{\n",
              "            console.log([gd, 'removed!']);\n",
              "            Plotly.purge(gd);\n",
              "            observer.disconnect();\n",
              "        }}\n",
              "}});\n",
              "\n",
              "// Listen for the removal of the full notebook cells\n",
              "var notebookContainer = gd.closest('#notebook-container');\n",
              "if (notebookContainer) {{\n",
              "    x.observe(notebookContainer, {childList: true});\n",
              "}}\n",
              "\n",
              "// Listen for the clearing of the current output cell\n",
              "var outputEl = gd.closest('.output');\n",
              "if (outputEl) {{\n",
              "    x.observe(outputEl, {childList: true});\n",
              "}}\n",
              "\n",
              "                        })                };                            </script>        </div>\n",
              "</body>\n",
              "</html>"
            ]
          },
          "metadata": {}
        },
        {
          "output_type": "display_data",
          "data": {
            "text/plain": [
              "<pandas.io.formats.style.Styler at 0x7ccdbc498fd0>"
            ],
            "text/html": [
              "<style type=\"text/css\">\n",
              "#T_ec3e2_row0_col0, #T_ec3e2_row0_col1 {\n",
              "  background-color: #023858;\n",
              "  color: #f1f1f1;\n",
              "}\n",
              "#T_ec3e2_row1_col0 {\n",
              "  background-color: #2a88bc;\n",
              "  color: #f1f1f1;\n",
              "}\n",
              "#T_ec3e2_row1_col1 {\n",
              "  background-color: #8cb3d5;\n",
              "  color: #000000;\n",
              "}\n",
              "#T_ec3e2_row2_col0 {\n",
              "  background-color: #fcf4fa;\n",
              "  color: #000000;\n",
              "}\n",
              "#T_ec3e2_row2_col1, #T_ec3e2_row3_col0 {\n",
              "  background-color: #fff7fb;\n",
              "  color: #000000;\n",
              "}\n",
              "#T_ec3e2_row3_col1 {\n",
              "  background-color: #e0dded;\n",
              "  color: #000000;\n",
              "}\n",
              "#T_ec3e2_row4_col0 {\n",
              "  background-color: #034267;\n",
              "  color: #f1f1f1;\n",
              "}\n",
              "#T_ec3e2_row4_col1 {\n",
              "  background-color: #045e94;\n",
              "  color: #f1f1f1;\n",
              "}\n",
              "</style>\n",
              "<table id=\"T_ec3e2\" class=\"dataframe\">\n",
              "  <thead>\n",
              "    <tr>\n",
              "      <th class=\"blank level0\" >&nbsp;</th>\n",
              "      <th id=\"T_ec3e2_level0_col0\" class=\"col_heading level0 col0\" >train_accuracy</th>\n",
              "      <th id=\"T_ec3e2_level0_col1\" class=\"col_heading level0 col1\" >val_accuracy</th>\n",
              "    </tr>\n",
              "    <tr>\n",
              "      <th class=\"index_name level0\" >n_hidden_layers</th>\n",
              "      <th class=\"blank col0\" >&nbsp;</th>\n",
              "      <th class=\"blank col1\" >&nbsp;</th>\n",
              "    </tr>\n",
              "  </thead>\n",
              "  <tbody>\n",
              "    <tr>\n",
              "      <th id=\"T_ec3e2_level0_row0\" class=\"row_heading level0 row0\" >2</th>\n",
              "      <td id=\"T_ec3e2_row0_col0\" class=\"data row0 col0\" >0.937400</td>\n",
              "      <td id=\"T_ec3e2_row0_col1\" class=\"data row0 col1\" >0.897667</td>\n",
              "    </tr>\n",
              "    <tr>\n",
              "      <th id=\"T_ec3e2_level0_row1\" class=\"row_heading level0 row1\" >3</th>\n",
              "      <td id=\"T_ec3e2_row1_col0\" class=\"data row1 col0\" >0.933067</td>\n",
              "      <td id=\"T_ec3e2_row1_col1\" class=\"data row1 col1\" >0.894200</td>\n",
              "    </tr>\n",
              "    <tr>\n",
              "      <th id=\"T_ec3e2_level0_row2\" class=\"row_heading level0 row2\" >4</th>\n",
              "      <td id=\"T_ec3e2_row2_col0\" class=\"data row2 col0\" >0.925200</td>\n",
              "      <td id=\"T_ec3e2_row2_col1\" class=\"data row2 col1\" >0.891467</td>\n",
              "    </tr>\n",
              "    <tr>\n",
              "      <th id=\"T_ec3e2_level0_row3\" class=\"row_heading level0 row3\" >5</th>\n",
              "      <td id=\"T_ec3e2_row3_col0\" class=\"data row3 col0\" >0.924911</td>\n",
              "      <td id=\"T_ec3e2_row3_col1\" class=\"data row3 col1\" >0.892600</td>\n",
              "    </tr>\n",
              "    <tr>\n",
              "      <th id=\"T_ec3e2_level0_row4\" class=\"row_heading level0 row4\" >6</th>\n",
              "      <td id=\"T_ec3e2_row4_col0\" class=\"data row4 col0\" >0.936933</td>\n",
              "      <td id=\"T_ec3e2_row4_col1\" class=\"data row4 col1\" >0.896733</td>\n",
              "    </tr>\n",
              "  </tbody>\n",
              "</table>\n"
            ]
          },
          "metadata": {}
        }
      ]
    },
    {
      "cell_type": "markdown",
      "source": [
        "The optimal accuracy is still obtained with 2 hidden layers after changing the number of units to 128."
      ],
      "metadata": {
        "id": "SWhB3Xyl07jY"
      }
    },
    {
      "cell_type": "markdown",
      "metadata": {
        "id": "EKZ0fmHEuSrP"
      },
      "source": [
        "## Activation function"
      ]
    },
    {
      "cell_type": "markdown",
      "source": [
        "We tried the activation functions ReLU, leaky ReLU, sigmoid, tanh, and GeLU to improve our model's accuracy"
      ],
      "metadata": {
        "id": "LZuuYQ7mwmCe"
      }
    },
    {
      "cell_type": "code",
      "execution_count": null,
      "metadata": {
        "id": "0ZybWj7iuVI8",
        "colab": {
          "base_uri": "https://localhost:8080/"
        },
        "outputId": "b443176b-3700-480f-9b67-58e595b09add"
      },
      "outputs": [
        {
          "output_type": "stream",
          "name": "stderr",
          "text": [
            "100%|██████████| 5/5 [05:35<00:00, 67.15s/it]\n"
          ]
        }
      ],
      "source": [
        "act_f_to_test = [\"relu\", \"leaky_relu\", \"sigmoid\", \"tanh\", \"gelu\"]\n",
        "histories = iterate(\"activation\", act_f_to_test, config)"
      ]
    },
    {
      "cell_type": "code",
      "source": [
        "plot_histories(histories, \"activation\")\n",
        "create_table(histories, \"activation\")"
      ],
      "metadata": {
        "colab": {
          "base_uri": "https://localhost:8080/",
          "height": 738
        },
        "id": "zQjfKrVvClyh",
        "outputId": "106ca416-7020-48ed-fb89-78ba0feba741"
      },
      "execution_count": null,
      "outputs": [
        {
          "output_type": "display_data",
          "data": {
            "text/html": [
              "<html>\n",
              "<head><meta charset=\"utf-8\" /></head>\n",
              "<body>\n",
              "    <div>            <script src=\"https://cdnjs.cloudflare.com/ajax/libs/mathjax/2.7.5/MathJax.js?config=TeX-AMS-MML_SVG\"></script><script type=\"text/javascript\">if (window.MathJax && window.MathJax.Hub && window.MathJax.Hub.Config) {window.MathJax.Hub.Config({SVG: {font: \"STIX-Web\"}});}</script>                <script type=\"text/javascript\">window.PlotlyConfig = {MathJaxConfig: 'local'};</script>\n",
              "        <script charset=\"utf-8\" src=\"https://cdn.plot.ly/plotly-2.24.1.min.js\"></script>                <div id=\"cc0443d8-7a8a-491c-a026-b0c9ef81dccb\" class=\"plotly-graph-div\" style=\"height:500px; width:800px;\"></div>            <script type=\"text/javascript\">                                    window.PLOTLYENV=window.PLOTLYENV || {};                                    if (document.getElementById(\"cc0443d8-7a8a-491c-a026-b0c9ef81dccb\")) {                    Plotly.newPlot(                        \"cc0443d8-7a8a-491c-a026-b0c9ef81dccb\",                        [{\"name\":\"relu\",\"y\":[0.8442000150680542,0.8628000020980835,0.8640666604042053,0.8756666779518127,0.8831333518028259,0.8842666745185852,0.8877999782562256,0.8808000087738037,0.8859999775886536,0.890333354473114,0.8923333287239075,0.8916666507720947,0.8914666771888733,0.8932666778564453,0.8905333280563354,0.8873999714851379,0.892133355140686,0.892799973487854,0.896133303642273,0.8921999931335449,0.8960666656494141],\"type\":\"scatter\"},{\"name\":\"leaky_relu\",\"y\":[0.8456666469573975,0.8606666922569275,0.8598666787147522,0.8705333471298218,0.8718000054359436,0.8844000101089478,0.8803333044052124,0.8828666806221008,0.8767333626747131,0.8763999938964844,0.8882666826248169,0.883733332157135,0.8745999932289124,0.888533353805542,0.8859333395957947,0.8916666507720947,0.8900666832923889,0.8930666446685791,0.8930000066757202,0.883733332157135,0.8817999958992004,0.8891333341598511,0.8911333084106445,0.8919333219528198,0.8904666900634766,0.8881999850273132],\"type\":\"scatter\"},{\"name\":\"sigmoid\",\"y\":[0.8238000273704529,0.849399983882904,0.8531333208084106,0.8623999953269958,0.8687333464622498,0.8700000047683716,0.8695999979972839,0.8813999891281128,0.8831333518028259,0.8859333395957947,0.8852666616439819,0.885200023651123,0.8874666690826416,0.8867999911308289,0.8893333077430725,0.8917999863624573,0.8900666832923889,0.8885999917984009,0.8871333599090576,0.8898000121116638,0.8890666961669922,0.8917333483695984,0.8909333348274231,0.8928666710853577,0.8937333226203918,0.8931333422660828,0.8912000060081482,0.8930666446685791,0.890666663646698,0.8894666433334351],\"type\":\"scatter\"},{\"name\":\"tanh\",\"y\":[0.8535333275794983,0.8690666556358337,0.8646000027656555,0.8705333471298218,0.8617333173751831,0.8782666921615601,0.8724666833877563,0.8790000081062317,0.8827333450317383,0.8889999985694885,0.8904666900634766,0.8863333463668823,0.8934666514396667,0.8935999870300293,0.8952666521072388,0.8944666385650635,0.8756666779518127,0.895466685295105,0.89246666431427,0.8949333429336548,0.8815333247184753,0.8933333158493042,0.8918666839599609],\"type\":\"scatter\"},{\"name\":\"gelu\",\"y\":[0.840666651725769,0.8665333390235901,0.8558666706085205,0.877133309841156,0.8773999810218811,0.8784666657447815,0.8824666738510132,0.887066662311554,0.8912666440010071,0.8913999795913696,0.8821333050727844,0.8869333267211914,0.8906000256538391,0.8912000060081482,0.8910666704177856,0.8874666690826416,0.8946666717529297,0.8934666514396667,0.8931333422660828],\"type\":\"scatter\"}],                        {\"template\":{\"data\":{\"barpolar\":[{\"marker\":{\"line\":{\"color\":\"white\",\"width\":0.5},\"pattern\":{\"fillmode\":\"overlay\",\"size\":10,\"solidity\":0.2}},\"type\":\"barpolar\"}],\"bar\":[{\"error_x\":{\"color\":\"#2a3f5f\"},\"error_y\":{\"color\":\"#2a3f5f\"},\"marker\":{\"line\":{\"color\":\"white\",\"width\":0.5},\"pattern\":{\"fillmode\":\"overlay\",\"size\":10,\"solidity\":0.2}},\"type\":\"bar\"}],\"carpet\":[{\"aaxis\":{\"endlinecolor\":\"#2a3f5f\",\"gridcolor\":\"#C8D4E3\",\"linecolor\":\"#C8D4E3\",\"minorgridcolor\":\"#C8D4E3\",\"startlinecolor\":\"#2a3f5f\"},\"baxis\":{\"endlinecolor\":\"#2a3f5f\",\"gridcolor\":\"#C8D4E3\",\"linecolor\":\"#C8D4E3\",\"minorgridcolor\":\"#C8D4E3\",\"startlinecolor\":\"#2a3f5f\"},\"type\":\"carpet\"}],\"choropleth\":[{\"colorbar\":{\"outlinewidth\":0,\"ticks\":\"\"},\"type\":\"choropleth\"}],\"contourcarpet\":[{\"colorbar\":{\"outlinewidth\":0,\"ticks\":\"\"},\"type\":\"contourcarpet\"}],\"contour\":[{\"colorbar\":{\"outlinewidth\":0,\"ticks\":\"\"},\"colorscale\":[[0.0,\"#0d0887\"],[0.1111111111111111,\"#46039f\"],[0.2222222222222222,\"#7201a8\"],[0.3333333333333333,\"#9c179e\"],[0.4444444444444444,\"#bd3786\"],[0.5555555555555556,\"#d8576b\"],[0.6666666666666666,\"#ed7953\"],[0.7777777777777778,\"#fb9f3a\"],[0.8888888888888888,\"#fdca26\"],[1.0,\"#f0f921\"]],\"type\":\"contour\"}],\"heatmapgl\":[{\"colorbar\":{\"outlinewidth\":0,\"ticks\":\"\"},\"colorscale\":[[0.0,\"#0d0887\"],[0.1111111111111111,\"#46039f\"],[0.2222222222222222,\"#7201a8\"],[0.3333333333333333,\"#9c179e\"],[0.4444444444444444,\"#bd3786\"],[0.5555555555555556,\"#d8576b\"],[0.6666666666666666,\"#ed7953\"],[0.7777777777777778,\"#fb9f3a\"],[0.8888888888888888,\"#fdca26\"],[1.0,\"#f0f921\"]],\"type\":\"heatmapgl\"}],\"heatmap\":[{\"colorbar\":{\"outlinewidth\":0,\"ticks\":\"\"},\"colorscale\":[[0.0,\"#0d0887\"],[0.1111111111111111,\"#46039f\"],[0.2222222222222222,\"#7201a8\"],[0.3333333333333333,\"#9c179e\"],[0.4444444444444444,\"#bd3786\"],[0.5555555555555556,\"#d8576b\"],[0.6666666666666666,\"#ed7953\"],[0.7777777777777778,\"#fb9f3a\"],[0.8888888888888888,\"#fdca26\"],[1.0,\"#f0f921\"]],\"type\":\"heatmap\"}],\"histogram2dcontour\":[{\"colorbar\":{\"outlinewidth\":0,\"ticks\":\"\"},\"colorscale\":[[0.0,\"#0d0887\"],[0.1111111111111111,\"#46039f\"],[0.2222222222222222,\"#7201a8\"],[0.3333333333333333,\"#9c179e\"],[0.4444444444444444,\"#bd3786\"],[0.5555555555555556,\"#d8576b\"],[0.6666666666666666,\"#ed7953\"],[0.7777777777777778,\"#fb9f3a\"],[0.8888888888888888,\"#fdca26\"],[1.0,\"#f0f921\"]],\"type\":\"histogram2dcontour\"}],\"histogram2d\":[{\"colorbar\":{\"outlinewidth\":0,\"ticks\":\"\"},\"colorscale\":[[0.0,\"#0d0887\"],[0.1111111111111111,\"#46039f\"],[0.2222222222222222,\"#7201a8\"],[0.3333333333333333,\"#9c179e\"],[0.4444444444444444,\"#bd3786\"],[0.5555555555555556,\"#d8576b\"],[0.6666666666666666,\"#ed7953\"],[0.7777777777777778,\"#fb9f3a\"],[0.8888888888888888,\"#fdca26\"],[1.0,\"#f0f921\"]],\"type\":\"histogram2d\"}],\"histogram\":[{\"marker\":{\"pattern\":{\"fillmode\":\"overlay\",\"size\":10,\"solidity\":0.2}},\"type\":\"histogram\"}],\"mesh3d\":[{\"colorbar\":{\"outlinewidth\":0,\"ticks\":\"\"},\"type\":\"mesh3d\"}],\"parcoords\":[{\"line\":{\"colorbar\":{\"outlinewidth\":0,\"ticks\":\"\"}},\"type\":\"parcoords\"}],\"pie\":[{\"automargin\":true,\"type\":\"pie\"}],\"scatter3d\":[{\"line\":{\"colorbar\":{\"outlinewidth\":0,\"ticks\":\"\"}},\"marker\":{\"colorbar\":{\"outlinewidth\":0,\"ticks\":\"\"}},\"type\":\"scatter3d\"}],\"scattercarpet\":[{\"marker\":{\"colorbar\":{\"outlinewidth\":0,\"ticks\":\"\"}},\"type\":\"scattercarpet\"}],\"scattergeo\":[{\"marker\":{\"colorbar\":{\"outlinewidth\":0,\"ticks\":\"\"}},\"type\":\"scattergeo\"}],\"scattergl\":[{\"marker\":{\"colorbar\":{\"outlinewidth\":0,\"ticks\":\"\"}},\"type\":\"scattergl\"}],\"scattermapbox\":[{\"marker\":{\"colorbar\":{\"outlinewidth\":0,\"ticks\":\"\"}},\"type\":\"scattermapbox\"}],\"scatterpolargl\":[{\"marker\":{\"colorbar\":{\"outlinewidth\":0,\"ticks\":\"\"}},\"type\":\"scatterpolargl\"}],\"scatterpolar\":[{\"marker\":{\"colorbar\":{\"outlinewidth\":0,\"ticks\":\"\"}},\"type\":\"scatterpolar\"}],\"scatter\":[{\"fillpattern\":{\"fillmode\":\"overlay\",\"size\":10,\"solidity\":0.2},\"type\":\"scatter\"}],\"scatterternary\":[{\"marker\":{\"colorbar\":{\"outlinewidth\":0,\"ticks\":\"\"}},\"type\":\"scatterternary\"}],\"surface\":[{\"colorbar\":{\"outlinewidth\":0,\"ticks\":\"\"},\"colorscale\":[[0.0,\"#0d0887\"],[0.1111111111111111,\"#46039f\"],[0.2222222222222222,\"#7201a8\"],[0.3333333333333333,\"#9c179e\"],[0.4444444444444444,\"#bd3786\"],[0.5555555555555556,\"#d8576b\"],[0.6666666666666666,\"#ed7953\"],[0.7777777777777778,\"#fb9f3a\"],[0.8888888888888888,\"#fdca26\"],[1.0,\"#f0f921\"]],\"type\":\"surface\"}],\"table\":[{\"cells\":{\"fill\":{\"color\":\"#EBF0F8\"},\"line\":{\"color\":\"white\"}},\"header\":{\"fill\":{\"color\":\"#C8D4E3\"},\"line\":{\"color\":\"white\"}},\"type\":\"table\"}]},\"layout\":{\"annotationdefaults\":{\"arrowcolor\":\"#2a3f5f\",\"arrowhead\":0,\"arrowwidth\":1},\"autotypenumbers\":\"strict\",\"coloraxis\":{\"colorbar\":{\"outlinewidth\":0,\"ticks\":\"\"}},\"colorscale\":{\"diverging\":[[0,\"#8e0152\"],[0.1,\"#c51b7d\"],[0.2,\"#de77ae\"],[0.3,\"#f1b6da\"],[0.4,\"#fde0ef\"],[0.5,\"#f7f7f7\"],[0.6,\"#e6f5d0\"],[0.7,\"#b8e186\"],[0.8,\"#7fbc41\"],[0.9,\"#4d9221\"],[1,\"#276419\"]],\"sequential\":[[0.0,\"#0d0887\"],[0.1111111111111111,\"#46039f\"],[0.2222222222222222,\"#7201a8\"],[0.3333333333333333,\"#9c179e\"],[0.4444444444444444,\"#bd3786\"],[0.5555555555555556,\"#d8576b\"],[0.6666666666666666,\"#ed7953\"],[0.7777777777777778,\"#fb9f3a\"],[0.8888888888888888,\"#fdca26\"],[1.0,\"#f0f921\"]],\"sequentialminus\":[[0.0,\"#0d0887\"],[0.1111111111111111,\"#46039f\"],[0.2222222222222222,\"#7201a8\"],[0.3333333333333333,\"#9c179e\"],[0.4444444444444444,\"#bd3786\"],[0.5555555555555556,\"#d8576b\"],[0.6666666666666666,\"#ed7953\"],[0.7777777777777778,\"#fb9f3a\"],[0.8888888888888888,\"#fdca26\"],[1.0,\"#f0f921\"]]},\"colorway\":[\"#636efa\",\"#EF553B\",\"#00cc96\",\"#ab63fa\",\"#FFA15A\",\"#19d3f3\",\"#FF6692\",\"#B6E880\",\"#FF97FF\",\"#FECB52\"],\"font\":{\"color\":\"#2a3f5f\"},\"geo\":{\"bgcolor\":\"white\",\"lakecolor\":\"white\",\"landcolor\":\"white\",\"showlakes\":true,\"showland\":true,\"subunitcolor\":\"#C8D4E3\"},\"hoverlabel\":{\"align\":\"left\"},\"hovermode\":\"closest\",\"mapbox\":{\"style\":\"light\"},\"paper_bgcolor\":\"white\",\"plot_bgcolor\":\"white\",\"polar\":{\"angularaxis\":{\"gridcolor\":\"#EBF0F8\",\"linecolor\":\"#EBF0F8\",\"ticks\":\"\"},\"bgcolor\":\"white\",\"radialaxis\":{\"gridcolor\":\"#EBF0F8\",\"linecolor\":\"#EBF0F8\",\"ticks\":\"\"}},\"scene\":{\"xaxis\":{\"backgroundcolor\":\"white\",\"gridcolor\":\"#DFE8F3\",\"gridwidth\":2,\"linecolor\":\"#EBF0F8\",\"showbackground\":true,\"ticks\":\"\",\"zerolinecolor\":\"#EBF0F8\"},\"yaxis\":{\"backgroundcolor\":\"white\",\"gridcolor\":\"#DFE8F3\",\"gridwidth\":2,\"linecolor\":\"#EBF0F8\",\"showbackground\":true,\"ticks\":\"\",\"zerolinecolor\":\"#EBF0F8\"},\"zaxis\":{\"backgroundcolor\":\"white\",\"gridcolor\":\"#DFE8F3\",\"gridwidth\":2,\"linecolor\":\"#EBF0F8\",\"showbackground\":true,\"ticks\":\"\",\"zerolinecolor\":\"#EBF0F8\"}},\"shapedefaults\":{\"line\":{\"color\":\"#2a3f5f\"}},\"ternary\":{\"aaxis\":{\"gridcolor\":\"#DFE8F3\",\"linecolor\":\"#A2B1C6\",\"ticks\":\"\"},\"baxis\":{\"gridcolor\":\"#DFE8F3\",\"linecolor\":\"#A2B1C6\",\"ticks\":\"\"},\"bgcolor\":\"white\",\"caxis\":{\"gridcolor\":\"#DFE8F3\",\"linecolor\":\"#A2B1C6\",\"ticks\":\"\"}},\"title\":{\"x\":0.05},\"xaxis\":{\"automargin\":true,\"gridcolor\":\"#EBF0F8\",\"linecolor\":\"#EBF0F8\",\"ticks\":\"\",\"title\":{\"standoff\":15},\"zerolinecolor\":\"#EBF0F8\",\"zerolinewidth\":2},\"yaxis\":{\"automargin\":true,\"gridcolor\":\"#EBF0F8\",\"linecolor\":\"#EBF0F8\",\"ticks\":\"\",\"title\":{\"standoff\":15},\"zerolinecolor\":\"#EBF0F8\",\"zerolinewidth\":2}}},\"margin\":{\"l\":10,\"t\":10,\"r\":10,\"b\":10},\"autosize\":false,\"width\":800,\"height\":500,\"xaxis\":{\"title\":{\"text\":\"Epoch\"}},\"yaxis\":{\"title\":{\"text\":\"val_accuracy\"}},\"legend\":{\"title\":{\"text\":\"activation\"}}},                        {\"responsive\": true}                    ).then(function(){\n",
              "                            \n",
              "var gd = document.getElementById('cc0443d8-7a8a-491c-a026-b0c9ef81dccb');\n",
              "var x = new MutationObserver(function (mutations, observer) {{\n",
              "        var display = window.getComputedStyle(gd).display;\n",
              "        if (!display || display === 'none') {{\n",
              "            console.log([gd, 'removed!']);\n",
              "            Plotly.purge(gd);\n",
              "            observer.disconnect();\n",
              "        }}\n",
              "}});\n",
              "\n",
              "// Listen for the removal of the full notebook cells\n",
              "var notebookContainer = gd.closest('#notebook-container');\n",
              "if (notebookContainer) {{\n",
              "    x.observe(notebookContainer, {childList: true});\n",
              "}}\n",
              "\n",
              "// Listen for the clearing of the current output cell\n",
              "var outputEl = gd.closest('.output');\n",
              "if (outputEl) {{\n",
              "    x.observe(outputEl, {childList: true});\n",
              "}}\n",
              "\n",
              "                        })                };                            </script>        </div>\n",
              "</body>\n",
              "</html>"
            ]
          },
          "metadata": {}
        },
        {
          "output_type": "display_data",
          "data": {
            "text/plain": [
              "<pandas.io.formats.style.Styler at 0x7ccd97e19d50>"
            ],
            "text/html": [
              "<style type=\"text/css\">\n",
              "#T_23311_row0_col0 {\n",
              "  background-color: #589ec8;\n",
              "  color: #f1f1f1;\n",
              "}\n",
              "#T_23311_row0_col1 {\n",
              "  background-color: #69a5cc;\n",
              "  color: #f1f1f1;\n",
              "}\n",
              "#T_23311_row1_col0 {\n",
              "  background-color: #ede7f2;\n",
              "  color: #000000;\n",
              "}\n",
              "#T_23311_row1_col1, #T_23311_row2_col0 {\n",
              "  background-color: #fff7fb;\n",
              "  color: #000000;\n",
              "}\n",
              "#T_23311_row2_col1, #T_23311_row4_col0 {\n",
              "  background-color: #023858;\n",
              "  color: #f1f1f1;\n",
              "}\n",
              "#T_23311_row3_col0 {\n",
              "  background-color: #fef6fb;\n",
              "  color: #000000;\n",
              "}\n",
              "#T_23311_row3_col1 {\n",
              "  background-color: #d8d7e9;\n",
              "  color: #000000;\n",
              "}\n",
              "#T_23311_row4_col1 {\n",
              "  background-color: #056aa6;\n",
              "  color: #f1f1f1;\n",
              "}\n",
              "</style>\n",
              "<table id=\"T_23311\" class=\"dataframe\">\n",
              "  <thead>\n",
              "    <tr>\n",
              "      <th class=\"blank level0\" >&nbsp;</th>\n",
              "      <th id=\"T_23311_level0_col0\" class=\"col_heading level0 col0\" >train_accuracy</th>\n",
              "      <th id=\"T_23311_level0_col1\" class=\"col_heading level0 col1\" >val_accuracy</th>\n",
              "    </tr>\n",
              "    <tr>\n",
              "      <th class=\"index_name level0\" >activation</th>\n",
              "      <th class=\"blank col0\" >&nbsp;</th>\n",
              "      <th class=\"blank col1\" >&nbsp;</th>\n",
              "    </tr>\n",
              "  </thead>\n",
              "  <tbody>\n",
              "    <tr>\n",
              "      <th id=\"T_23311_level0_row0\" class=\"row_heading level0 row0\" >gelu</th>\n",
              "      <td id=\"T_23311_row0_col0\" class=\"data row0 col0\" >0.939689</td>\n",
              "      <td id=\"T_23311_row0_col1\" class=\"data row0 col1\" >0.894667</td>\n",
              "    </tr>\n",
              "    <tr>\n",
              "      <th id=\"T_23311_level0_row1\" class=\"row_heading level0 row1\" >leaky_relu</th>\n",
              "      <td id=\"T_23311_row1_col0\" class=\"data row1 col0\" >0.935711</td>\n",
              "      <td id=\"T_23311_row1_col1\" class=\"data row1 col1\" >0.893067</td>\n",
              "    </tr>\n",
              "    <tr>\n",
              "      <th id=\"T_23311_level0_row2\" class=\"row_heading level0 row2\" >relu</th>\n",
              "      <td id=\"T_23311_row2_col0\" class=\"data row2 col0\" >0.934600</td>\n",
              "      <td id=\"T_23311_row2_col1\" class=\"data row2 col1\" >0.896133</td>\n",
              "    </tr>\n",
              "    <tr>\n",
              "      <th id=\"T_23311_level0_row3\" class=\"row_heading level0 row3\" >sigmoid</th>\n",
              "      <td id=\"T_23311_row3_col0\" class=\"data row3 col0\" >0.934644</td>\n",
              "      <td id=\"T_23311_row3_col1\" class=\"data row3 col1\" >0.893733</td>\n",
              "    </tr>\n",
              "    <tr>\n",
              "      <th id=\"T_23311_level0_row4\" class=\"row_heading level0 row4\" >tanh</th>\n",
              "      <td id=\"T_23311_row4_col0\" class=\"data row4 col0\" >0.943711</td>\n",
              "      <td id=\"T_23311_row4_col1\" class=\"data row4 col1\" >0.895467</td>\n",
              "    </tr>\n",
              "  </tbody>\n",
              "</table>\n"
            ]
          },
          "metadata": {}
        }
      ]
    },
    {
      "cell_type": "markdown",
      "source": [
        "Based on the results, changing the activation function does not improve the validation accuracy. The activation function used further on is ReLU.\n",
        "\n",
        "\n",
        "\n"
      ],
      "metadata": {
        "id": "_EBhTitu9BP8"
      }
    },
    {
      "cell_type": "markdown",
      "source": [
        "## Dropout"
      ],
      "metadata": {
        "id": "9VML5iOWMWld"
      }
    },
    {
      "cell_type": "markdown",
      "source": [
        "Although we saw no sign of overfitting, we tried the dropout values 0.0, 0.01, 0.05, 0.1, and 0.2 to see if this was necassary to incorporate."
      ],
      "metadata": {
        "id": "wNsPibr1xDyH"
      }
    },
    {
      "cell_type": "code",
      "source": [
        "dropout_values = [0.0, 0.01, 0.05, 0.1, 0.2]\n",
        "histories = iterate(\"dropout_rate\", dropout_values, config)"
      ],
      "metadata": {
        "colab": {
          "base_uri": "https://localhost:8080/"
        },
        "id": "pZgiWgHUMYIA",
        "outputId": "6b0c2ad6-823e-46ef-83d2-b2f84d749504"
      },
      "execution_count": null,
      "outputs": [
        {
          "output_type": "stream",
          "name": "stderr",
          "text": [
            "100%|██████████| 5/5 [05:21<00:00, 64.35s/it]\n"
          ]
        }
      ]
    },
    {
      "cell_type": "code",
      "source": [
        "plot_histories(histories, \"dropout_rate\")\n",
        "create_table(histories, \"dropout_rate\")"
      ],
      "metadata": {
        "colab": {
          "base_uri": "https://localhost:8080/",
          "height": 738
        },
        "id": "AXw3vLKAMrNW",
        "outputId": "21a6cf8a-ff8b-43db-a9e3-ca816f358b74"
      },
      "execution_count": null,
      "outputs": [
        {
          "output_type": "display_data",
          "data": {
            "text/html": [
              "<html>\n",
              "<head><meta charset=\"utf-8\" /></head>\n",
              "<body>\n",
              "    <div>            <script src=\"https://cdnjs.cloudflare.com/ajax/libs/mathjax/2.7.5/MathJax.js?config=TeX-AMS-MML_SVG\"></script><script type=\"text/javascript\">if (window.MathJax && window.MathJax.Hub && window.MathJax.Hub.Config) {window.MathJax.Hub.Config({SVG: {font: \"STIX-Web\"}});}</script>                <script type=\"text/javascript\">window.PlotlyConfig = {MathJaxConfig: 'local'};</script>\n",
              "        <script charset=\"utf-8\" src=\"https://cdn.plot.ly/plotly-2.24.1.min.js\"></script>                <div id=\"1a82cec3-03f1-4d4b-a459-04ed42e51105\" class=\"plotly-graph-div\" style=\"height:500px; width:800px;\"></div>            <script type=\"text/javascript\">                                    window.PLOTLYENV=window.PLOTLYENV || {};                                    if (document.getElementById(\"1a82cec3-03f1-4d4b-a459-04ed42e51105\")) {                    Plotly.newPlot(                        \"1a82cec3-03f1-4d4b-a459-04ed42e51105\",                        [{\"name\":\"0.0\",\"y\":[0.8562666773796082,0.8603333234786987,0.8658666610717773,0.8718000054359436,0.8778666853904724,0.8826000094413757,0.8821333050727844,0.8908666372299194,0.8859333395957947,0.8894000053405762,0.8901333212852478,0.8828666806221008,0.8924000263214111,0.8776666522026062,0.8844000101089478,0.8965333104133606,0.8926666378974915,0.8932666778564453,0.8947333097457886,0.8939999938011169,0.8911333084106445,0.8927333354949951,0.8900666832923889,0.8916000127792358,0.8938000202178955,0.883733332157135],\"type\":\"scatter\"},{\"name\":\"0.01\",\"y\":[0.8555999994277954,0.8655999898910522,0.864466667175293,0.8754000067710876,0.8774666786193848,0.8825333118438721,0.8787333369255066,0.8846666812896729,0.8743333220481873,0.8912000060081482,0.8917333483695984,0.887066662311554,0.8858000040054321,0.8896666765213013,0.8917999863624573,0.8840000033378601,0.8887333273887634,0.8932666778564453,0.8962666392326355,0.8920666575431824],\"type\":\"scatter\"},{\"name\":\"0.05\",\"y\":[0.8553333282470703,0.8596000075340271,0.8685333132743835,0.8777999877929688,0.8844666481018066,0.885866641998291,0.8841999769210815,0.8894000053405762,0.880133330821991,0.8916000127792358,0.8881999850273132,0.8871333599090576,0.8863999843597412,0.8871999979019165,0.8917333483695984,0.8890666961669922,0.8935999870300293,0.8899333477020264,0.8916666507720947,0.8909333348274231],\"type\":\"scatter\"},{\"name\":\"0.1\",\"y\":[0.8493333458900452,0.8675333261489868,0.8727333545684814,0.8666666746139526,0.8827999830245972,0.876800000667572,0.88673335313797,0.8856666684150696,0.8898666501045227,0.8852666616439819,0.880133330821991,0.8895333409309387,0.8896666765213013,0.8889999985694885,0.894599974155426,0.8898000121116638,0.883733332157135,0.8938000202178955,0.8886666893959045],\"type\":\"scatter\"},{\"name\":\"0.2\",\"y\":[0.8444666862487793,0.8704000115394592,0.8723999857902527,0.871066689491272,0.8736666440963745,0.8796666860580444,0.880133330821991,0.8847333192825317,0.8873999714851379,0.8777333498001099,0.8769333362579346,0.8872666954994202,0.8882666826248169,0.8881999850273132,0.8821333050727844,0.8867999911308289,0.8919333219528198,0.8916000127792358,0.8923333287239075,0.8875333070755005,0.8890666961669922,0.890666663646698,0.8949999809265137],\"type\":\"scatter\"}],                        {\"template\":{\"data\":{\"barpolar\":[{\"marker\":{\"line\":{\"color\":\"white\",\"width\":0.5},\"pattern\":{\"fillmode\":\"overlay\",\"size\":10,\"solidity\":0.2}},\"type\":\"barpolar\"}],\"bar\":[{\"error_x\":{\"color\":\"#2a3f5f\"},\"error_y\":{\"color\":\"#2a3f5f\"},\"marker\":{\"line\":{\"color\":\"white\",\"width\":0.5},\"pattern\":{\"fillmode\":\"overlay\",\"size\":10,\"solidity\":0.2}},\"type\":\"bar\"}],\"carpet\":[{\"aaxis\":{\"endlinecolor\":\"#2a3f5f\",\"gridcolor\":\"#C8D4E3\",\"linecolor\":\"#C8D4E3\",\"minorgridcolor\":\"#C8D4E3\",\"startlinecolor\":\"#2a3f5f\"},\"baxis\":{\"endlinecolor\":\"#2a3f5f\",\"gridcolor\":\"#C8D4E3\",\"linecolor\":\"#C8D4E3\",\"minorgridcolor\":\"#C8D4E3\",\"startlinecolor\":\"#2a3f5f\"},\"type\":\"carpet\"}],\"choropleth\":[{\"colorbar\":{\"outlinewidth\":0,\"ticks\":\"\"},\"type\":\"choropleth\"}],\"contourcarpet\":[{\"colorbar\":{\"outlinewidth\":0,\"ticks\":\"\"},\"type\":\"contourcarpet\"}],\"contour\":[{\"colorbar\":{\"outlinewidth\":0,\"ticks\":\"\"},\"colorscale\":[[0.0,\"#0d0887\"],[0.1111111111111111,\"#46039f\"],[0.2222222222222222,\"#7201a8\"],[0.3333333333333333,\"#9c179e\"],[0.4444444444444444,\"#bd3786\"],[0.5555555555555556,\"#d8576b\"],[0.6666666666666666,\"#ed7953\"],[0.7777777777777778,\"#fb9f3a\"],[0.8888888888888888,\"#fdca26\"],[1.0,\"#f0f921\"]],\"type\":\"contour\"}],\"heatmapgl\":[{\"colorbar\":{\"outlinewidth\":0,\"ticks\":\"\"},\"colorscale\":[[0.0,\"#0d0887\"],[0.1111111111111111,\"#46039f\"],[0.2222222222222222,\"#7201a8\"],[0.3333333333333333,\"#9c179e\"],[0.4444444444444444,\"#bd3786\"],[0.5555555555555556,\"#d8576b\"],[0.6666666666666666,\"#ed7953\"],[0.7777777777777778,\"#fb9f3a\"],[0.8888888888888888,\"#fdca26\"],[1.0,\"#f0f921\"]],\"type\":\"heatmapgl\"}],\"heatmap\":[{\"colorbar\":{\"outlinewidth\":0,\"ticks\":\"\"},\"colorscale\":[[0.0,\"#0d0887\"],[0.1111111111111111,\"#46039f\"],[0.2222222222222222,\"#7201a8\"],[0.3333333333333333,\"#9c179e\"],[0.4444444444444444,\"#bd3786\"],[0.5555555555555556,\"#d8576b\"],[0.6666666666666666,\"#ed7953\"],[0.7777777777777778,\"#fb9f3a\"],[0.8888888888888888,\"#fdca26\"],[1.0,\"#f0f921\"]],\"type\":\"heatmap\"}],\"histogram2dcontour\":[{\"colorbar\":{\"outlinewidth\":0,\"ticks\":\"\"},\"colorscale\":[[0.0,\"#0d0887\"],[0.1111111111111111,\"#46039f\"],[0.2222222222222222,\"#7201a8\"],[0.3333333333333333,\"#9c179e\"],[0.4444444444444444,\"#bd3786\"],[0.5555555555555556,\"#d8576b\"],[0.6666666666666666,\"#ed7953\"],[0.7777777777777778,\"#fb9f3a\"],[0.8888888888888888,\"#fdca26\"],[1.0,\"#f0f921\"]],\"type\":\"histogram2dcontour\"}],\"histogram2d\":[{\"colorbar\":{\"outlinewidth\":0,\"ticks\":\"\"},\"colorscale\":[[0.0,\"#0d0887\"],[0.1111111111111111,\"#46039f\"],[0.2222222222222222,\"#7201a8\"],[0.3333333333333333,\"#9c179e\"],[0.4444444444444444,\"#bd3786\"],[0.5555555555555556,\"#d8576b\"],[0.6666666666666666,\"#ed7953\"],[0.7777777777777778,\"#fb9f3a\"],[0.8888888888888888,\"#fdca26\"],[1.0,\"#f0f921\"]],\"type\":\"histogram2d\"}],\"histogram\":[{\"marker\":{\"pattern\":{\"fillmode\":\"overlay\",\"size\":10,\"solidity\":0.2}},\"type\":\"histogram\"}],\"mesh3d\":[{\"colorbar\":{\"outlinewidth\":0,\"ticks\":\"\"},\"type\":\"mesh3d\"}],\"parcoords\":[{\"line\":{\"colorbar\":{\"outlinewidth\":0,\"ticks\":\"\"}},\"type\":\"parcoords\"}],\"pie\":[{\"automargin\":true,\"type\":\"pie\"}],\"scatter3d\":[{\"line\":{\"colorbar\":{\"outlinewidth\":0,\"ticks\":\"\"}},\"marker\":{\"colorbar\":{\"outlinewidth\":0,\"ticks\":\"\"}},\"type\":\"scatter3d\"}],\"scattercarpet\":[{\"marker\":{\"colorbar\":{\"outlinewidth\":0,\"ticks\":\"\"}},\"type\":\"scattercarpet\"}],\"scattergeo\":[{\"marker\":{\"colorbar\":{\"outlinewidth\":0,\"ticks\":\"\"}},\"type\":\"scattergeo\"}],\"scattergl\":[{\"marker\":{\"colorbar\":{\"outlinewidth\":0,\"ticks\":\"\"}},\"type\":\"scattergl\"}],\"scattermapbox\":[{\"marker\":{\"colorbar\":{\"outlinewidth\":0,\"ticks\":\"\"}},\"type\":\"scattermapbox\"}],\"scatterpolargl\":[{\"marker\":{\"colorbar\":{\"outlinewidth\":0,\"ticks\":\"\"}},\"type\":\"scatterpolargl\"}],\"scatterpolar\":[{\"marker\":{\"colorbar\":{\"outlinewidth\":0,\"ticks\":\"\"}},\"type\":\"scatterpolar\"}],\"scatter\":[{\"fillpattern\":{\"fillmode\":\"overlay\",\"size\":10,\"solidity\":0.2},\"type\":\"scatter\"}],\"scatterternary\":[{\"marker\":{\"colorbar\":{\"outlinewidth\":0,\"ticks\":\"\"}},\"type\":\"scatterternary\"}],\"surface\":[{\"colorbar\":{\"outlinewidth\":0,\"ticks\":\"\"},\"colorscale\":[[0.0,\"#0d0887\"],[0.1111111111111111,\"#46039f\"],[0.2222222222222222,\"#7201a8\"],[0.3333333333333333,\"#9c179e\"],[0.4444444444444444,\"#bd3786\"],[0.5555555555555556,\"#d8576b\"],[0.6666666666666666,\"#ed7953\"],[0.7777777777777778,\"#fb9f3a\"],[0.8888888888888888,\"#fdca26\"],[1.0,\"#f0f921\"]],\"type\":\"surface\"}],\"table\":[{\"cells\":{\"fill\":{\"color\":\"#EBF0F8\"},\"line\":{\"color\":\"white\"}},\"header\":{\"fill\":{\"color\":\"#C8D4E3\"},\"line\":{\"color\":\"white\"}},\"type\":\"table\"}]},\"layout\":{\"annotationdefaults\":{\"arrowcolor\":\"#2a3f5f\",\"arrowhead\":0,\"arrowwidth\":1},\"autotypenumbers\":\"strict\",\"coloraxis\":{\"colorbar\":{\"outlinewidth\":0,\"ticks\":\"\"}},\"colorscale\":{\"diverging\":[[0,\"#8e0152\"],[0.1,\"#c51b7d\"],[0.2,\"#de77ae\"],[0.3,\"#f1b6da\"],[0.4,\"#fde0ef\"],[0.5,\"#f7f7f7\"],[0.6,\"#e6f5d0\"],[0.7,\"#b8e186\"],[0.8,\"#7fbc41\"],[0.9,\"#4d9221\"],[1,\"#276419\"]],\"sequential\":[[0.0,\"#0d0887\"],[0.1111111111111111,\"#46039f\"],[0.2222222222222222,\"#7201a8\"],[0.3333333333333333,\"#9c179e\"],[0.4444444444444444,\"#bd3786\"],[0.5555555555555556,\"#d8576b\"],[0.6666666666666666,\"#ed7953\"],[0.7777777777777778,\"#fb9f3a\"],[0.8888888888888888,\"#fdca26\"],[1.0,\"#f0f921\"]],\"sequentialminus\":[[0.0,\"#0d0887\"],[0.1111111111111111,\"#46039f\"],[0.2222222222222222,\"#7201a8\"],[0.3333333333333333,\"#9c179e\"],[0.4444444444444444,\"#bd3786\"],[0.5555555555555556,\"#d8576b\"],[0.6666666666666666,\"#ed7953\"],[0.7777777777777778,\"#fb9f3a\"],[0.8888888888888888,\"#fdca26\"],[1.0,\"#f0f921\"]]},\"colorway\":[\"#636efa\",\"#EF553B\",\"#00cc96\",\"#ab63fa\",\"#FFA15A\",\"#19d3f3\",\"#FF6692\",\"#B6E880\",\"#FF97FF\",\"#FECB52\"],\"font\":{\"color\":\"#2a3f5f\"},\"geo\":{\"bgcolor\":\"white\",\"lakecolor\":\"white\",\"landcolor\":\"white\",\"showlakes\":true,\"showland\":true,\"subunitcolor\":\"#C8D4E3\"},\"hoverlabel\":{\"align\":\"left\"},\"hovermode\":\"closest\",\"mapbox\":{\"style\":\"light\"},\"paper_bgcolor\":\"white\",\"plot_bgcolor\":\"white\",\"polar\":{\"angularaxis\":{\"gridcolor\":\"#EBF0F8\",\"linecolor\":\"#EBF0F8\",\"ticks\":\"\"},\"bgcolor\":\"white\",\"radialaxis\":{\"gridcolor\":\"#EBF0F8\",\"linecolor\":\"#EBF0F8\",\"ticks\":\"\"}},\"scene\":{\"xaxis\":{\"backgroundcolor\":\"white\",\"gridcolor\":\"#DFE8F3\",\"gridwidth\":2,\"linecolor\":\"#EBF0F8\",\"showbackground\":true,\"ticks\":\"\",\"zerolinecolor\":\"#EBF0F8\"},\"yaxis\":{\"backgroundcolor\":\"white\",\"gridcolor\":\"#DFE8F3\",\"gridwidth\":2,\"linecolor\":\"#EBF0F8\",\"showbackground\":true,\"ticks\":\"\",\"zerolinecolor\":\"#EBF0F8\"},\"zaxis\":{\"backgroundcolor\":\"white\",\"gridcolor\":\"#DFE8F3\",\"gridwidth\":2,\"linecolor\":\"#EBF0F8\",\"showbackground\":true,\"ticks\":\"\",\"zerolinecolor\":\"#EBF0F8\"}},\"shapedefaults\":{\"line\":{\"color\":\"#2a3f5f\"}},\"ternary\":{\"aaxis\":{\"gridcolor\":\"#DFE8F3\",\"linecolor\":\"#A2B1C6\",\"ticks\":\"\"},\"baxis\":{\"gridcolor\":\"#DFE8F3\",\"linecolor\":\"#A2B1C6\",\"ticks\":\"\"},\"bgcolor\":\"white\",\"caxis\":{\"gridcolor\":\"#DFE8F3\",\"linecolor\":\"#A2B1C6\",\"ticks\":\"\"}},\"title\":{\"x\":0.05},\"xaxis\":{\"automargin\":true,\"gridcolor\":\"#EBF0F8\",\"linecolor\":\"#EBF0F8\",\"ticks\":\"\",\"title\":{\"standoff\":15},\"zerolinecolor\":\"#EBF0F8\",\"zerolinewidth\":2},\"yaxis\":{\"automargin\":true,\"gridcolor\":\"#EBF0F8\",\"linecolor\":\"#EBF0F8\",\"ticks\":\"\",\"title\":{\"standoff\":15},\"zerolinecolor\":\"#EBF0F8\",\"zerolinewidth\":2}}},\"margin\":{\"l\":10,\"t\":10,\"r\":10,\"b\":10},\"autosize\":false,\"width\":800,\"height\":500,\"xaxis\":{\"title\":{\"text\":\"Epoch\"}},\"yaxis\":{\"title\":{\"text\":\"val_accuracy\"}},\"legend\":{\"title\":{\"text\":\"dropout_rate\"}}},                        {\"responsive\": true}                    ).then(function(){\n",
              "                            \n",
              "var gd = document.getElementById('1a82cec3-03f1-4d4b-a459-04ed42e51105');\n",
              "var x = new MutationObserver(function (mutations, observer) {{\n",
              "        var display = window.getComputedStyle(gd).display;\n",
              "        if (!display || display === 'none') {{\n",
              "            console.log([gd, 'removed!']);\n",
              "            Plotly.purge(gd);\n",
              "            observer.disconnect();\n",
              "        }}\n",
              "}});\n",
              "\n",
              "// Listen for the removal of the full notebook cells\n",
              "var notebookContainer = gd.closest('#notebook-container');\n",
              "if (notebookContainer) {{\n",
              "    x.observe(notebookContainer, {childList: true});\n",
              "}}\n",
              "\n",
              "// Listen for the clearing of the current output cell\n",
              "var outputEl = gd.closest('.output');\n",
              "if (outputEl) {{\n",
              "    x.observe(outputEl, {childList: true});\n",
              "}}\n",
              "\n",
              "                        })                };                            </script>        </div>\n",
              "</body>\n",
              "</html>"
            ]
          },
          "metadata": {}
        },
        {
          "output_type": "display_data",
          "data": {
            "text/plain": [
              "<pandas.io.formats.style.Styler at 0x7ccdbbf9b760>"
            ],
            "text/html": [
              "<style type=\"text/css\">\n",
              "#T_7d1f3_row0_col0, #T_7d1f3_row0_col1 {\n",
              "  background-color: #023858;\n",
              "  color: #f1f1f1;\n",
              "}\n",
              "#T_7d1f3_row1_col0 {\n",
              "  background-color: #dcdaeb;\n",
              "  color: #000000;\n",
              "}\n",
              "#T_7d1f3_row1_col1 {\n",
              "  background-color: #03517e;\n",
              "  color: #f1f1f1;\n",
              "}\n",
              "#T_7d1f3_row2_col0 {\n",
              "  background-color: #d5d5e8;\n",
              "  color: #000000;\n",
              "}\n",
              "#T_7d1f3_row2_col1, #T_7d1f3_row3_col0 {\n",
              "  background-color: #fff7fb;\n",
              "  color: #000000;\n",
              "}\n",
              "#T_7d1f3_row3_col1 {\n",
              "  background-color: #b1c2de;\n",
              "  color: #000000;\n",
              "}\n",
              "#T_7d1f3_row4_col0 {\n",
              "  background-color: #69a5cc;\n",
              "  color: #f1f1f1;\n",
              "}\n",
              "#T_7d1f3_row4_col1 {\n",
              "  background-color: #7dacd1;\n",
              "  color: #f1f1f1;\n",
              "}\n",
              "</style>\n",
              "<table id=\"T_7d1f3\" class=\"dataframe\">\n",
              "  <thead>\n",
              "    <tr>\n",
              "      <th class=\"blank level0\" >&nbsp;</th>\n",
              "      <th id=\"T_7d1f3_level0_col0\" class=\"col_heading level0 col0\" >train_accuracy</th>\n",
              "      <th id=\"T_7d1f3_level0_col1\" class=\"col_heading level0 col1\" >val_accuracy</th>\n",
              "    </tr>\n",
              "    <tr>\n",
              "      <th class=\"index_name level0\" >dropout_rate</th>\n",
              "      <th class=\"blank col0\" >&nbsp;</th>\n",
              "      <th class=\"blank col1\" >&nbsp;</th>\n",
              "    </tr>\n",
              "  </thead>\n",
              "  <tbody>\n",
              "    <tr>\n",
              "      <th id=\"T_7d1f3_level0_row0\" class=\"row_heading level0 row0\" >0.000000</th>\n",
              "      <td id=\"T_7d1f3_row0_col0\" class=\"data row0 col0\" >0.945000</td>\n",
              "      <td id=\"T_7d1f3_row0_col1\" class=\"data row0 col1\" >0.896533</td>\n",
              "    </tr>\n",
              "    <tr>\n",
              "      <th id=\"T_7d1f3_level0_row1\" class=\"row_heading level0 row1\" >0.010000</th>\n",
              "      <td id=\"T_7d1f3_row1_col0\" class=\"data row1 col0\" >0.934156</td>\n",
              "      <td id=\"T_7d1f3_row1_col1\" class=\"data row1 col1\" >0.896267</td>\n",
              "    </tr>\n",
              "    <tr>\n",
              "      <th id=\"T_7d1f3_level0_row2\" class=\"row_heading level0 row2\" >0.050000</th>\n",
              "      <td id=\"T_7d1f3_row2_col0\" class=\"data row2 col0\" >0.934600</td>\n",
              "      <td id=\"T_7d1f3_row2_col1\" class=\"data row2 col1\" >0.893600</td>\n",
              "    </tr>\n",
              "    <tr>\n",
              "      <th id=\"T_7d1f3_level0_row3\" class=\"row_heading level0 row3\" >0.100000</th>\n",
              "      <td id=\"T_7d1f3_row3_col0\" class=\"data row3 col0\" >0.931489</td>\n",
              "      <td id=\"T_7d1f3_row3_col1\" class=\"data row3 col1\" >0.894600</td>\n",
              "    </tr>\n",
              "    <tr>\n",
              "      <th id=\"T_7d1f3_level0_row4\" class=\"row_heading level0 row4\" >0.200000</th>\n",
              "      <td id=\"T_7d1f3_row4_col0\" class=\"data row4 col0\" >0.938511</td>\n",
              "      <td id=\"T_7d1f3_row4_col1\" class=\"data row4 col1\" >0.895000</td>\n",
              "    </tr>\n",
              "  </tbody>\n",
              "</table>\n"
            ]
          },
          "metadata": {}
        }
      ]
    },
    {
      "cell_type": "markdown",
      "source": [
        "Based on the obtained results, dropout does not improve the validation accuracy, perhaps due to the relative small model architecture."
      ],
      "metadata": {
        "id": "7b5LPbGyNXBw"
      }
    },
    {
      "cell_type": "markdown",
      "source": [
        "## Regularization"
      ],
      "metadata": {
        "id": "JVfwMcIYNsEY"
      }
    },
    {
      "cell_type": "markdown",
      "source": [
        "Lastly, we tried whether weight decay was needed for our model."
      ],
      "metadata": {
        "id": "FKwxctUUxpjJ"
      }
    },
    {
      "cell_type": "code",
      "source": [
        "l2_values = [0.0, 0.01, 0.05, 0.1, 0.2]\n",
        "histories = iterate(\"l2_values\", l2_values, config)"
      ],
      "metadata": {
        "colab": {
          "base_uri": "https://localhost:8080/"
        },
        "id": "eDGTbC9pNwJw",
        "outputId": "a73eee94-ee01-4e95-9da5-d1408ed67e2d"
      },
      "execution_count": null,
      "outputs": [
        {
          "output_type": "stream",
          "name": "stderr",
          "text": [
            "100%|██████████| 5/5 [05:07<00:00, 61.44s/it]\n"
          ]
        }
      ]
    },
    {
      "cell_type": "code",
      "source": [
        "plot_histories(histories, \"l2_values\")\n",
        "create_table(histories, \"l2_values\")"
      ],
      "metadata": {
        "colab": {
          "base_uri": "https://localhost:8080/",
          "height": 738
        },
        "id": "D8uRswQCNyKy",
        "outputId": "f9db5600-60b5-49ea-e439-05f80902f0ad"
      },
      "execution_count": null,
      "outputs": [
        {
          "output_type": "display_data",
          "data": {
            "text/html": [
              "<html>\n",
              "<head><meta charset=\"utf-8\" /></head>\n",
              "<body>\n",
              "    <div>            <script src=\"https://cdnjs.cloudflare.com/ajax/libs/mathjax/2.7.5/MathJax.js?config=TeX-AMS-MML_SVG\"></script><script type=\"text/javascript\">if (window.MathJax && window.MathJax.Hub && window.MathJax.Hub.Config) {window.MathJax.Hub.Config({SVG: {font: \"STIX-Web\"}});}</script>                <script type=\"text/javascript\">window.PlotlyConfig = {MathJaxConfig: 'local'};</script>\n",
              "        <script charset=\"utf-8\" src=\"https://cdn.plot.ly/plotly-2.24.1.min.js\"></script>                <div id=\"1b5495c4-d6ef-4eec-a59c-b4ee3328b4ea\" class=\"plotly-graph-div\" style=\"height:500px; width:800px;\"></div>            <script type=\"text/javascript\">                                    window.PLOTLYENV=window.PLOTLYENV || {};                                    if (document.getElementById(\"1b5495c4-d6ef-4eec-a59c-b4ee3328b4ea\")) {                    Plotly.newPlot(                        \"1b5495c4-d6ef-4eec-a59c-b4ee3328b4ea\",                        [{\"name\":\"0.0\",\"y\":[0.8552666902542114,0.8568666577339172,0.8692666888237,0.8765333294868469,0.8844000101089478,0.8821333050727844,0.8817999958992004,0.8785333037376404,0.8866000175476074,0.8825333118438721,0.8882666826248169,0.8899999856948853,0.8889333605766296,0.8876000046730042,0.89246666431427,0.8924000263214111,0.8861333131790161,0.8854666948318481,0.88919997215271,0.8931999802589417,0.8909333348274231,0.8949999809265137,0.8896666765213013,0.8848666548728943,0.8932666778564453,0.8947333097457886],\"type\":\"scatter\"},{\"name\":\"0.01\",\"y\":[0.8481333255767822,0.8658666610717773,0.8721333146095276,0.873533308506012,0.8700666427612305,0.8818666934967041,0.8848000168800354,0.8902000188827515,0.8861333131790161,0.8843333125114441,0.88673335313797,0.8890666961669922,0.8907333612442017,0.8899333477020264,0.8772000074386597,0.8916666507720947,0.8887333273887634,0.8909333348274231],\"type\":\"scatter\"},{\"name\":\"0.05\",\"y\":[0.8511333465576172,0.8687333464622498,0.8715999722480774,0.8652666807174683,0.8787999749183655,0.8838666677474976,0.8826000094413757,0.8853333592414856,0.8785333037376404,0.8844000101089478,0.8726666569709778,0.887333333492279,0.8915333151817322,0.8915333151817322,0.8917999863624573,0.8948666453361511,0.8911333084106445,0.8925333619117737,0.8940666913986206,0.8967333436012268,0.8962000012397766,0.8953333497047424,0.8925999999046326,0.8854666948318481],\"type\":\"scatter\"},{\"name\":\"0.1\",\"y\":[0.8443999886512756,0.86326664686203,0.8745999932289124,0.876466691493988,0.8788666725158691,0.8797333240509033,0.8863999843597412,0.8723999857902527,0.8868666887283325,0.8809999823570251,0.8843333125114441,0.8835333585739136,0.8917333483695984,0.8904666900634766,0.8912000060081482,0.8905333280563354,0.8914666771888733,0.8877333402633667,0.8871333599090576,0.8941333293914795,0.8909333348274231,0.8898666501045227,0.892133355140686,0.892133355140686],\"type\":\"scatter\"},{\"name\":\"0.2\",\"y\":[0.8529999852180481,0.8648666739463806,0.8679999709129333,0.8658666610717773,0.8809333443641663,0.8778666853904724,0.8894666433334351,0.8787333369255066,0.8876000046730042,0.8863333463668823,0.8893333077430725,0.8949333429336548,0.8906000256538391,0.890333354473114,0.8847333192825317,0.8913999795913696,0.884066641330719,0.8912000060081482,0.8863999843597412,0.8875333070755005,0.8858000040054321,0.8841999769210815],\"type\":\"scatter\"}],                        {\"template\":{\"data\":{\"barpolar\":[{\"marker\":{\"line\":{\"color\":\"white\",\"width\":0.5},\"pattern\":{\"fillmode\":\"overlay\",\"size\":10,\"solidity\":0.2}},\"type\":\"barpolar\"}],\"bar\":[{\"error_x\":{\"color\":\"#2a3f5f\"},\"error_y\":{\"color\":\"#2a3f5f\"},\"marker\":{\"line\":{\"color\":\"white\",\"width\":0.5},\"pattern\":{\"fillmode\":\"overlay\",\"size\":10,\"solidity\":0.2}},\"type\":\"bar\"}],\"carpet\":[{\"aaxis\":{\"endlinecolor\":\"#2a3f5f\",\"gridcolor\":\"#C8D4E3\",\"linecolor\":\"#C8D4E3\",\"minorgridcolor\":\"#C8D4E3\",\"startlinecolor\":\"#2a3f5f\"},\"baxis\":{\"endlinecolor\":\"#2a3f5f\",\"gridcolor\":\"#C8D4E3\",\"linecolor\":\"#C8D4E3\",\"minorgridcolor\":\"#C8D4E3\",\"startlinecolor\":\"#2a3f5f\"},\"type\":\"carpet\"}],\"choropleth\":[{\"colorbar\":{\"outlinewidth\":0,\"ticks\":\"\"},\"type\":\"choropleth\"}],\"contourcarpet\":[{\"colorbar\":{\"outlinewidth\":0,\"ticks\":\"\"},\"type\":\"contourcarpet\"}],\"contour\":[{\"colorbar\":{\"outlinewidth\":0,\"ticks\":\"\"},\"colorscale\":[[0.0,\"#0d0887\"],[0.1111111111111111,\"#46039f\"],[0.2222222222222222,\"#7201a8\"],[0.3333333333333333,\"#9c179e\"],[0.4444444444444444,\"#bd3786\"],[0.5555555555555556,\"#d8576b\"],[0.6666666666666666,\"#ed7953\"],[0.7777777777777778,\"#fb9f3a\"],[0.8888888888888888,\"#fdca26\"],[1.0,\"#f0f921\"]],\"type\":\"contour\"}],\"heatmapgl\":[{\"colorbar\":{\"outlinewidth\":0,\"ticks\":\"\"},\"colorscale\":[[0.0,\"#0d0887\"],[0.1111111111111111,\"#46039f\"],[0.2222222222222222,\"#7201a8\"],[0.3333333333333333,\"#9c179e\"],[0.4444444444444444,\"#bd3786\"],[0.5555555555555556,\"#d8576b\"],[0.6666666666666666,\"#ed7953\"],[0.7777777777777778,\"#fb9f3a\"],[0.8888888888888888,\"#fdca26\"],[1.0,\"#f0f921\"]],\"type\":\"heatmapgl\"}],\"heatmap\":[{\"colorbar\":{\"outlinewidth\":0,\"ticks\":\"\"},\"colorscale\":[[0.0,\"#0d0887\"],[0.1111111111111111,\"#46039f\"],[0.2222222222222222,\"#7201a8\"],[0.3333333333333333,\"#9c179e\"],[0.4444444444444444,\"#bd3786\"],[0.5555555555555556,\"#d8576b\"],[0.6666666666666666,\"#ed7953\"],[0.7777777777777778,\"#fb9f3a\"],[0.8888888888888888,\"#fdca26\"],[1.0,\"#f0f921\"]],\"type\":\"heatmap\"}],\"histogram2dcontour\":[{\"colorbar\":{\"outlinewidth\":0,\"ticks\":\"\"},\"colorscale\":[[0.0,\"#0d0887\"],[0.1111111111111111,\"#46039f\"],[0.2222222222222222,\"#7201a8\"],[0.3333333333333333,\"#9c179e\"],[0.4444444444444444,\"#bd3786\"],[0.5555555555555556,\"#d8576b\"],[0.6666666666666666,\"#ed7953\"],[0.7777777777777778,\"#fb9f3a\"],[0.8888888888888888,\"#fdca26\"],[1.0,\"#f0f921\"]],\"type\":\"histogram2dcontour\"}],\"histogram2d\":[{\"colorbar\":{\"outlinewidth\":0,\"ticks\":\"\"},\"colorscale\":[[0.0,\"#0d0887\"],[0.1111111111111111,\"#46039f\"],[0.2222222222222222,\"#7201a8\"],[0.3333333333333333,\"#9c179e\"],[0.4444444444444444,\"#bd3786\"],[0.5555555555555556,\"#d8576b\"],[0.6666666666666666,\"#ed7953\"],[0.7777777777777778,\"#fb9f3a\"],[0.8888888888888888,\"#fdca26\"],[1.0,\"#f0f921\"]],\"type\":\"histogram2d\"}],\"histogram\":[{\"marker\":{\"pattern\":{\"fillmode\":\"overlay\",\"size\":10,\"solidity\":0.2}},\"type\":\"histogram\"}],\"mesh3d\":[{\"colorbar\":{\"outlinewidth\":0,\"ticks\":\"\"},\"type\":\"mesh3d\"}],\"parcoords\":[{\"line\":{\"colorbar\":{\"outlinewidth\":0,\"ticks\":\"\"}},\"type\":\"parcoords\"}],\"pie\":[{\"automargin\":true,\"type\":\"pie\"}],\"scatter3d\":[{\"line\":{\"colorbar\":{\"outlinewidth\":0,\"ticks\":\"\"}},\"marker\":{\"colorbar\":{\"outlinewidth\":0,\"ticks\":\"\"}},\"type\":\"scatter3d\"}],\"scattercarpet\":[{\"marker\":{\"colorbar\":{\"outlinewidth\":0,\"ticks\":\"\"}},\"type\":\"scattercarpet\"}],\"scattergeo\":[{\"marker\":{\"colorbar\":{\"outlinewidth\":0,\"ticks\":\"\"}},\"type\":\"scattergeo\"}],\"scattergl\":[{\"marker\":{\"colorbar\":{\"outlinewidth\":0,\"ticks\":\"\"}},\"type\":\"scattergl\"}],\"scattermapbox\":[{\"marker\":{\"colorbar\":{\"outlinewidth\":0,\"ticks\":\"\"}},\"type\":\"scattermapbox\"}],\"scatterpolargl\":[{\"marker\":{\"colorbar\":{\"outlinewidth\":0,\"ticks\":\"\"}},\"type\":\"scatterpolargl\"}],\"scatterpolar\":[{\"marker\":{\"colorbar\":{\"outlinewidth\":0,\"ticks\":\"\"}},\"type\":\"scatterpolar\"}],\"scatter\":[{\"fillpattern\":{\"fillmode\":\"overlay\",\"size\":10,\"solidity\":0.2},\"type\":\"scatter\"}],\"scatterternary\":[{\"marker\":{\"colorbar\":{\"outlinewidth\":0,\"ticks\":\"\"}},\"type\":\"scatterternary\"}],\"surface\":[{\"colorbar\":{\"outlinewidth\":0,\"ticks\":\"\"},\"colorscale\":[[0.0,\"#0d0887\"],[0.1111111111111111,\"#46039f\"],[0.2222222222222222,\"#7201a8\"],[0.3333333333333333,\"#9c179e\"],[0.4444444444444444,\"#bd3786\"],[0.5555555555555556,\"#d8576b\"],[0.6666666666666666,\"#ed7953\"],[0.7777777777777778,\"#fb9f3a\"],[0.8888888888888888,\"#fdca26\"],[1.0,\"#f0f921\"]],\"type\":\"surface\"}],\"table\":[{\"cells\":{\"fill\":{\"color\":\"#EBF0F8\"},\"line\":{\"color\":\"white\"}},\"header\":{\"fill\":{\"color\":\"#C8D4E3\"},\"line\":{\"color\":\"white\"}},\"type\":\"table\"}]},\"layout\":{\"annotationdefaults\":{\"arrowcolor\":\"#2a3f5f\",\"arrowhead\":0,\"arrowwidth\":1},\"autotypenumbers\":\"strict\",\"coloraxis\":{\"colorbar\":{\"outlinewidth\":0,\"ticks\":\"\"}},\"colorscale\":{\"diverging\":[[0,\"#8e0152\"],[0.1,\"#c51b7d\"],[0.2,\"#de77ae\"],[0.3,\"#f1b6da\"],[0.4,\"#fde0ef\"],[0.5,\"#f7f7f7\"],[0.6,\"#e6f5d0\"],[0.7,\"#b8e186\"],[0.8,\"#7fbc41\"],[0.9,\"#4d9221\"],[1,\"#276419\"]],\"sequential\":[[0.0,\"#0d0887\"],[0.1111111111111111,\"#46039f\"],[0.2222222222222222,\"#7201a8\"],[0.3333333333333333,\"#9c179e\"],[0.4444444444444444,\"#bd3786\"],[0.5555555555555556,\"#d8576b\"],[0.6666666666666666,\"#ed7953\"],[0.7777777777777778,\"#fb9f3a\"],[0.8888888888888888,\"#fdca26\"],[1.0,\"#f0f921\"]],\"sequentialminus\":[[0.0,\"#0d0887\"],[0.1111111111111111,\"#46039f\"],[0.2222222222222222,\"#7201a8\"],[0.3333333333333333,\"#9c179e\"],[0.4444444444444444,\"#bd3786\"],[0.5555555555555556,\"#d8576b\"],[0.6666666666666666,\"#ed7953\"],[0.7777777777777778,\"#fb9f3a\"],[0.8888888888888888,\"#fdca26\"],[1.0,\"#f0f921\"]]},\"colorway\":[\"#636efa\",\"#EF553B\",\"#00cc96\",\"#ab63fa\",\"#FFA15A\",\"#19d3f3\",\"#FF6692\",\"#B6E880\",\"#FF97FF\",\"#FECB52\"],\"font\":{\"color\":\"#2a3f5f\"},\"geo\":{\"bgcolor\":\"white\",\"lakecolor\":\"white\",\"landcolor\":\"white\",\"showlakes\":true,\"showland\":true,\"subunitcolor\":\"#C8D4E3\"},\"hoverlabel\":{\"align\":\"left\"},\"hovermode\":\"closest\",\"mapbox\":{\"style\":\"light\"},\"paper_bgcolor\":\"white\",\"plot_bgcolor\":\"white\",\"polar\":{\"angularaxis\":{\"gridcolor\":\"#EBF0F8\",\"linecolor\":\"#EBF0F8\",\"ticks\":\"\"},\"bgcolor\":\"white\",\"radialaxis\":{\"gridcolor\":\"#EBF0F8\",\"linecolor\":\"#EBF0F8\",\"ticks\":\"\"}},\"scene\":{\"xaxis\":{\"backgroundcolor\":\"white\",\"gridcolor\":\"#DFE8F3\",\"gridwidth\":2,\"linecolor\":\"#EBF0F8\",\"showbackground\":true,\"ticks\":\"\",\"zerolinecolor\":\"#EBF0F8\"},\"yaxis\":{\"backgroundcolor\":\"white\",\"gridcolor\":\"#DFE8F3\",\"gridwidth\":2,\"linecolor\":\"#EBF0F8\",\"showbackground\":true,\"ticks\":\"\",\"zerolinecolor\":\"#EBF0F8\"},\"zaxis\":{\"backgroundcolor\":\"white\",\"gridcolor\":\"#DFE8F3\",\"gridwidth\":2,\"linecolor\":\"#EBF0F8\",\"showbackground\":true,\"ticks\":\"\",\"zerolinecolor\":\"#EBF0F8\"}},\"shapedefaults\":{\"line\":{\"color\":\"#2a3f5f\"}},\"ternary\":{\"aaxis\":{\"gridcolor\":\"#DFE8F3\",\"linecolor\":\"#A2B1C6\",\"ticks\":\"\"},\"baxis\":{\"gridcolor\":\"#DFE8F3\",\"linecolor\":\"#A2B1C6\",\"ticks\":\"\"},\"bgcolor\":\"white\",\"caxis\":{\"gridcolor\":\"#DFE8F3\",\"linecolor\":\"#A2B1C6\",\"ticks\":\"\"}},\"title\":{\"x\":0.05},\"xaxis\":{\"automargin\":true,\"gridcolor\":\"#EBF0F8\",\"linecolor\":\"#EBF0F8\",\"ticks\":\"\",\"title\":{\"standoff\":15},\"zerolinecolor\":\"#EBF0F8\",\"zerolinewidth\":2},\"yaxis\":{\"automargin\":true,\"gridcolor\":\"#EBF0F8\",\"linecolor\":\"#EBF0F8\",\"ticks\":\"\",\"title\":{\"standoff\":15},\"zerolinecolor\":\"#EBF0F8\",\"zerolinewidth\":2}}},\"margin\":{\"l\":10,\"t\":10,\"r\":10,\"b\":10},\"autosize\":false,\"width\":800,\"height\":500,\"xaxis\":{\"title\":{\"text\":\"Epoch\"}},\"yaxis\":{\"title\":{\"text\":\"val_accuracy\"}},\"legend\":{\"title\":{\"text\":\"l2_values\"}}},                        {\"responsive\": true}                    ).then(function(){\n",
              "                            \n",
              "var gd = document.getElementById('1b5495c4-d6ef-4eec-a59c-b4ee3328b4ea');\n",
              "var x = new MutationObserver(function (mutations, observer) {{\n",
              "        var display = window.getComputedStyle(gd).display;\n",
              "        if (!display || display === 'none') {{\n",
              "            console.log([gd, 'removed!']);\n",
              "            Plotly.purge(gd);\n",
              "            observer.disconnect();\n",
              "        }}\n",
              "}});\n",
              "\n",
              "// Listen for the removal of the full notebook cells\n",
              "var notebookContainer = gd.closest('#notebook-container');\n",
              "if (notebookContainer) {{\n",
              "    x.observe(notebookContainer, {childList: true});\n",
              "}}\n",
              "\n",
              "// Listen for the clearing of the current output cell\n",
              "var outputEl = gd.closest('.output');\n",
              "if (outputEl) {{\n",
              "    x.observe(outputEl, {childList: true});\n",
              "}}\n",
              "\n",
              "                        })                };                            </script>        </div>\n",
              "</body>\n",
              "</html>"
            ]
          },
          "metadata": {}
        },
        {
          "output_type": "display_data",
          "data": {
            "text/plain": [
              "<pandas.io.formats.style.Styler at 0x7ccdbbab9f60>"
            ],
            "text/html": [
              "<style type=\"text/css\">\n",
              "#T_bd084_row0_col0, #T_bd084_row2_col1 {\n",
              "  background-color: #023858;\n",
              "  color: #f1f1f1;\n",
              "}\n",
              "#T_bd084_row0_col1 {\n",
              "  background-color: #2987bc;\n",
              "  color: #f1f1f1;\n",
              "}\n",
              "#T_bd084_row1_col0, #T_bd084_row1_col1 {\n",
              "  background-color: #fff7fb;\n",
              "  color: #000000;\n",
              "}\n",
              "#T_bd084_row2_col0 {\n",
              "  background-color: #1379b5;\n",
              "  color: #f1f1f1;\n",
              "}\n",
              "#T_bd084_row3_col0 {\n",
              "  background-color: #1c7fb8;\n",
              "  color: #f1f1f1;\n",
              "}\n",
              "#T_bd084_row3_col1 {\n",
              "  background-color: #79abd0;\n",
              "  color: #f1f1f1;\n",
              "}\n",
              "#T_bd084_row4_col0 {\n",
              "  background-color: #549cc7;\n",
              "  color: #f1f1f1;\n",
              "}\n",
              "#T_bd084_row4_col1 {\n",
              "  background-color: #2d8abd;\n",
              "  color: #f1f1f1;\n",
              "}\n",
              "</style>\n",
              "<table id=\"T_bd084\" class=\"dataframe\">\n",
              "  <thead>\n",
              "    <tr>\n",
              "      <th class=\"blank level0\" >&nbsp;</th>\n",
              "      <th id=\"T_bd084_level0_col0\" class=\"col_heading level0 col0\" >train_accuracy</th>\n",
              "      <th id=\"T_bd084_level0_col1\" class=\"col_heading level0 col1\" >val_accuracy</th>\n",
              "    </tr>\n",
              "    <tr>\n",
              "      <th class=\"index_name level0\" >l2_values</th>\n",
              "      <th class=\"blank col0\" >&nbsp;</th>\n",
              "      <th class=\"blank col1\" >&nbsp;</th>\n",
              "    </tr>\n",
              "  </thead>\n",
              "  <tbody>\n",
              "    <tr>\n",
              "      <th id=\"T_bd084_level0_row0\" class=\"row_heading level0 row0\" >0.000000</th>\n",
              "      <td id=\"T_bd084_row0_col0\" class=\"data row0 col0\" >0.944178</td>\n",
              "      <td id=\"T_bd084_row0_col1\" class=\"data row0 col1\" >0.895000</td>\n",
              "    </tr>\n",
              "    <tr>\n",
              "      <th id=\"T_bd084_level0_row1\" class=\"row_heading level0 row1\" >0.010000</th>\n",
              "      <td id=\"T_bd084_row1_col0\" class=\"data row1 col0\" >0.928867</td>\n",
              "      <td id=\"T_bd084_row1_col1\" class=\"data row1 col1\" >0.891667</td>\n",
              "    </tr>\n",
              "    <tr>\n",
              "      <th id=\"T_bd084_level0_row2\" class=\"row_heading level0 row2\" >0.050000</th>\n",
              "      <td id=\"T_bd084_row2_col0\" class=\"data row2 col0\" >0.939778</td>\n",
              "      <td id=\"T_bd084_row2_col1\" class=\"data row2 col1\" >0.896733</td>\n",
              "    </tr>\n",
              "    <tr>\n",
              "      <th id=\"T_bd084_level0_row3\" class=\"row_heading level0 row3\" >0.100000</th>\n",
              "      <td id=\"T_bd084_row3_col0\" class=\"data row3 col0\" >0.939400</td>\n",
              "      <td id=\"T_bd084_row3_col1\" class=\"data row3 col1\" >0.894133</td>\n",
              "    </tr>\n",
              "    <tr>\n",
              "      <th id=\"T_bd084_level0_row4\" class=\"row_heading level0 row4\" >0.200000</th>\n",
              "      <td id=\"T_bd084_row4_col0\" class=\"data row4 col0\" >0.937511</td>\n",
              "      <td id=\"T_bd084_row4_col1\" class=\"data row4 col1\" >0.894933</td>\n",
              "    </tr>\n",
              "  </tbody>\n",
              "</table>\n"
            ]
          },
          "metadata": {}
        }
      ]
    },
    {
      "cell_type": "markdown",
      "source": [
        "Adding L2 regularization does not improve the validation accuracy significantly, which can be explained by the relative small model architecture."
      ],
      "metadata": {
        "id": "AIktxKf5Od0I"
      }
    },
    {
      "cell_type": "markdown",
      "source": [
        "## Random search"
      ],
      "metadata": {
        "id": "m1FSLPzo7f6f"
      }
    },
    {
      "cell_type": "markdown",
      "source": [
        "We also tried a different approach with random search. This approach randomly arranges the hyperparameters provided (see sweep_configuration in the code below) and uses them for the model training. We used the Weights & Biases MLOps platform for this purpose. Below you can see the page with the results."
      ],
      "metadata": {
        "id": "Ldf2i9bfw4k2"
      }
    },
    {
      "cell_type": "code",
      "source": [
        "# Set up wandb\n",
        "wandb.login()\n",
        "\n",
        "optimizers = {\n",
        "    \"Adam\": Adam,\n",
        "    \"AdamW\": AdamW,\n",
        "    \"SGD\": SGD,\n",
        "}\n",
        "\n",
        "def objective(config) -> pd.DataFrame:\n",
        "  \"\"\"\n",
        "  Create a MLP with given model and train it.\n",
        "  \"\"\"\n",
        "\n",
        "  model = MLPModel(\n",
        "      config[\"num_classes\"],\n",
        "      config[\"lr\"],\n",
        "      config[\"num_hidden_layers\"],\n",
        "      config[\"num_hidden_units\"],\n",
        "      config[\"act_f\"],\n",
        "      optimizers[config[\"optimizer\"]]\n",
        "  )\n",
        "  early_stopping_monitor = EarlyStopping(patience=config[\"patience\"])\n",
        "\n",
        "  history = model.fit(\n",
        "    x_train,\n",
        "    y_train,\n",
        "    batch_size=config[\"batch_size\"],\n",
        "    epochs=config[\"epochs\"],\n",
        "    verbose=0,\n",
        "    validation_data=(x_test, y_test),\n",
        "    callbacks=[early_stopping_monitor]\n",
        "  )\n",
        "\n",
        "  df = pd.DataFrame(history.history)\n",
        "\n",
        "  return df\n",
        "\n",
        "\n",
        "def optimize():\n",
        "    \"\"\"\n",
        "    Function used by wandb to log model training history\n",
        "    \"\"\"\n",
        "    wandb.init(project=\"DeepLearningAssignment1\")\n",
        "    metrics = objective(wandb.config)\n",
        "    metrics.apply(lambda row: wandb.log(row.to_dict()), axis=1)\n",
        "\n",
        "\n",
        "# Define the search space\n",
        "sweep_configuration = {\n",
        "    \"method\": \"random\",\n",
        "    \"metric\": {\"goal\": \"minimize\", \"name\": \"val_loss\"},\n",
        "    \"parameters\": {\n",
        "        \"lr\": {\"max\": 0.1, \"min\": 0.001},\n",
        "        \"num_hidden_layers\": {\"values\": [2, 4, 6, 8]},\n",
        "        \"num_hidden_units\": {\"values\": [8, 16, 32, 64, 128, 256, 512, 1024]},\n",
        "        \"optimizer\": {\"values\": [\"Adam\", \"AdamW\", \"SGD\"]},\n",
        "        \"act_f\": {\"values\": [\"relu\", \"leaky_relu\", \"selu\", \"gelu\", \"tanh\", \"sigmoid\"]},\n",
        "        \"l2\": {\"max\": 0.5, \"min\": 0.0},\n",
        "        \"dropout_rate\": {\"max\": 0.5, \"min\": 0.0},\n",
        "        \"batch_size\": {\"value\": 128},  ######## should this not be 128?\n",
        "        \"epochs\": {\"value\": 100},\n",
        "        \"num_classes\": {\"value\": 10},\n",
        "        \"patience\": {\"value\": 5},\n",
        "    },\n",
        "}\n",
        "\n",
        "# Start sweep\n",
        "sweep_id = wandb.sweep(sweep=sweep_configuration, project=\"DeepLearningAssignment1\")\n",
        "wandb.agent(sweep_id, function=optimize, count=25)\n",
        "wandb.finish()"
      ],
      "metadata": {
        "id": "-iEr8Al57jJ2"
      },
      "execution_count": null,
      "outputs": []
    },
    {
      "cell_type": "code",
      "source": [
        "api = wandb.Api()\n",
        "sweep = api.sweep(\"mlchem/DeepLearningAssignment1/xcjuflue\")\n",
        "sweep.display(height=720)"
      ],
      "metadata": {
        "id": "Q4N-Y-3Q8nQn",
        "colab": {
          "base_uri": "https://localhost:8080/",
          "height": 879
        },
        "outputId": "96c6f0bd-b350-4c8d-c916-5d9240c9f58f"
      },
      "execution_count": null,
      "outputs": [
        {
          "output_type": "display_data",
          "data": {
            "text/plain": [
              "<IPython.core.display.Javascript object>"
            ],
            "application/javascript": [
              "\n",
              "        window._wandbApiKey = new Promise((resolve, reject) => {\n",
              "            function loadScript(url) {\n",
              "            return new Promise(function(resolve, reject) {\n",
              "                let newScript = document.createElement(\"script\");\n",
              "                newScript.onerror = reject;\n",
              "                newScript.onload = resolve;\n",
              "                document.body.appendChild(newScript);\n",
              "                newScript.src = url;\n",
              "            });\n",
              "            }\n",
              "            loadScript(\"https://cdn.jsdelivr.net/npm/postmate/build/postmate.min.js\").then(() => {\n",
              "            const iframe = document.createElement('iframe')\n",
              "            iframe.style.cssText = \"width:0;height:0;border:none\"\n",
              "            document.body.appendChild(iframe)\n",
              "            const handshake = new Postmate({\n",
              "                container: iframe,\n",
              "                url: 'https://wandb.ai/authorize'\n",
              "            });\n",
              "            const timeout = setTimeout(() => reject(\"Couldn't auto authenticate\"), 5000)\n",
              "            handshake.then(function(child) {\n",
              "                child.on('authorize', data => {\n",
              "                    clearTimeout(timeout)\n",
              "                    resolve(data)\n",
              "                });\n",
              "            });\n",
              "            })\n",
              "        });\n",
              "    "
            ]
          },
          "metadata": {}
        },
        {
          "output_type": "stream",
          "name": "stderr",
          "text": [
            "\u001b[34m\u001b[1mwandb\u001b[0m: Logging into wandb.ai. (Learn how to deploy a W&B server locally: https://wandb.me/wandb-server)\n",
            "\u001b[34m\u001b[1mwandb\u001b[0m: You can find your API key in your browser here: https://wandb.ai/authorize\n",
            "wandb: Paste an API key from your profile and hit enter, or press ctrl+c to quit:"
          ]
        },
        {
          "name": "stdout",
          "output_type": "stream",
          "text": [
            " ··········\n"
          ]
        },
        {
          "output_type": "stream",
          "name": "stderr",
          "text": [
            "\u001b[34m\u001b[1mwandb\u001b[0m: Appending key for api.wandb.ai to your netrc file: /root/.netrc\n",
            "/usr/local/lib/python3.10/dist-packages/IPython/core/display.py:724: UserWarning: Consider using IPython.display.IFrame instead\n",
            "  warnings.warn(\"Consider using IPython.display.IFrame instead\")\n"
          ]
        },
        {
          "output_type": "display_data",
          "data": {
            "text/plain": [
              "<IPython.core.display.HTML object>"
            ],
            "text/html": [
              "<iframe src='https://wandb.ai/mlchem/DeepLearningAssignment1/sweeps/xcjuflue?jupyter=true' style='border:none;width:100%;height:720px;'></iframe>"
            ]
          },
          "metadata": {}
        },
        {
          "output_type": "execute_result",
          "data": {
            "text/plain": [
              "True"
            ]
          },
          "metadata": {},
          "execution_count": 3
        }
      ]
    },
    {
      "cell_type": "markdown",
      "source": [
        "The random search did not find a better model than the current manual tuned model."
      ],
      "metadata": {
        "id": "SV5Az2TGMPtz"
      }
    },
    {
      "cell_type": "markdown",
      "metadata": {
        "id": "vLhQmX3puaLO"
      },
      "source": [
        "# Final model\n",
        "\n",
        "The final configuration for our model is as follows:\n",
        "*   learning rate = 0.001\n",
        "*   optimizer = Adam\n",
        "*   number of hidden layers = 2\n",
        "*   number of units per layer = 128\n",
        "*   activation function = ReLU\n",
        "*   No dropout layer\n",
        "*   No L2 regularization\n",
        "\n",
        "\n",
        "\n"
      ]
    },
    {
      "cell_type": "code",
      "source": [
        "model_final = MLPModel(\n",
        "    num_classes,\n",
        "    lr=0.001,\n",
        "    n_hidden_layers=2,\n",
        "    n_units=128,\n",
        "    act_f='relu',\n",
        "    opt=Adam\n",
        ")\n",
        "\n",
        "model_final.summary()"
      ],
      "metadata": {
        "id": "bGs8MUk4QElm",
        "colab": {
          "base_uri": "https://localhost:8080/",
          "height": 254
        },
        "outputId": "d0f5ad35-f609-4833-d43e-6eeaee97b84c"
      },
      "execution_count": null,
      "outputs": [
        {
          "output_type": "display_data",
          "data": {
            "text/plain": [
              "\u001b[1mModel: \"sequential_3\"\u001b[0m\n"
            ],
            "text/html": [
              "<pre style=\"white-space:pre;overflow-x:auto;line-height:normal;font-family:Menlo,'DejaVu Sans Mono',consolas,'Courier New',monospace\"><span style=\"font-weight: bold\">Model: \"sequential_3\"</span>\n",
              "</pre>\n"
            ]
          },
          "metadata": {}
        },
        {
          "output_type": "display_data",
          "data": {
            "text/plain": [
              "┏━━━━━━━━━━━━━━━━━━━━━━━━━━━━━━━━━━━━━━┳━━━━━━━━━━━━━━━━━━━━━━━━━━━━━┳━━━━━━━━━━━━━━━━━┓\n",
              "┃\u001b[1m \u001b[0m\u001b[1mLayer (type)                        \u001b[0m\u001b[1m \u001b[0m┃\u001b[1m \u001b[0m\u001b[1mOutput Shape               \u001b[0m\u001b[1m \u001b[0m┃\u001b[1m \u001b[0m\u001b[1m        Param #\u001b[0m\u001b[1m \u001b[0m┃\n",
              "┡━━━━━━━━━━━━━━━━━━━━━━━━━━━━━━━━━━━━━━╇━━━━━━━━━━━━━━━━━━━━━━━━━━━━━╇━━━━━━━━━━━━━━━━━┩\n",
              "│ flatten_3 (\u001b[38;5;33mFlatten\u001b[0m)                  │ (\u001b[38;5;45mNone\u001b[0m, \u001b[38;5;34m784\u001b[0m)                 │               \u001b[38;5;34m0\u001b[0m │\n",
              "├──────────────────────────────────────┼─────────────────────────────┼─────────────────┤\n",
              "│ dense_9 (\u001b[38;5;33mDense\u001b[0m)                      │ (\u001b[38;5;45mNone\u001b[0m, \u001b[38;5;34m128\u001b[0m)                 │         \u001b[38;5;34m100,480\u001b[0m │\n",
              "├──────────────────────────────────────┼─────────────────────────────┼─────────────────┤\n",
              "│ dense_10 (\u001b[38;5;33mDense\u001b[0m)                     │ (\u001b[38;5;45mNone\u001b[0m, \u001b[38;5;34m128\u001b[0m)                 │          \u001b[38;5;34m16,512\u001b[0m │\n",
              "├──────────────────────────────────────┼─────────────────────────────┼─────────────────┤\n",
              "│ dense_11 (\u001b[38;5;33mDense\u001b[0m)                     │ (\u001b[38;5;45mNone\u001b[0m, \u001b[38;5;34m10\u001b[0m)                  │           \u001b[38;5;34m1,290\u001b[0m │\n",
              "└──────────────────────────────────────┴─────────────────────────────┴─────────────────┘\n"
            ],
            "text/html": [
              "<pre style=\"white-space:pre;overflow-x:auto;line-height:normal;font-family:Menlo,'DejaVu Sans Mono',consolas,'Courier New',monospace\">┏━━━━━━━━━━━━━━━━━━━━━━━━━━━━━━━━━━━━━━┳━━━━━━━━━━━━━━━━━━━━━━━━━━━━━┳━━━━━━━━━━━━━━━━━┓\n",
              "┃<span style=\"font-weight: bold\"> Layer (type)                         </span>┃<span style=\"font-weight: bold\"> Output Shape                </span>┃<span style=\"font-weight: bold\">         Param # </span>┃\n",
              "┡━━━━━━━━━━━━━━━━━━━━━━━━━━━━━━━━━━━━━━╇━━━━━━━━━━━━━━━━━━━━━━━━━━━━━╇━━━━━━━━━━━━━━━━━┩\n",
              "│ flatten_3 (<span style=\"color: #0087ff; text-decoration-color: #0087ff\">Flatten</span>)                  │ (<span style=\"color: #00d7ff; text-decoration-color: #00d7ff\">None</span>, <span style=\"color: #00af00; text-decoration-color: #00af00\">784</span>)                 │               <span style=\"color: #00af00; text-decoration-color: #00af00\">0</span> │\n",
              "├──────────────────────────────────────┼─────────────────────────────┼─────────────────┤\n",
              "│ dense_9 (<span style=\"color: #0087ff; text-decoration-color: #0087ff\">Dense</span>)                      │ (<span style=\"color: #00d7ff; text-decoration-color: #00d7ff\">None</span>, <span style=\"color: #00af00; text-decoration-color: #00af00\">128</span>)                 │         <span style=\"color: #00af00; text-decoration-color: #00af00\">100,480</span> │\n",
              "├──────────────────────────────────────┼─────────────────────────────┼─────────────────┤\n",
              "│ dense_10 (<span style=\"color: #0087ff; text-decoration-color: #0087ff\">Dense</span>)                     │ (<span style=\"color: #00d7ff; text-decoration-color: #00d7ff\">None</span>, <span style=\"color: #00af00; text-decoration-color: #00af00\">128</span>)                 │          <span style=\"color: #00af00; text-decoration-color: #00af00\">16,512</span> │\n",
              "├──────────────────────────────────────┼─────────────────────────────┼─────────────────┤\n",
              "│ dense_11 (<span style=\"color: #0087ff; text-decoration-color: #0087ff\">Dense</span>)                     │ (<span style=\"color: #00d7ff; text-decoration-color: #00d7ff\">None</span>, <span style=\"color: #00af00; text-decoration-color: #00af00\">10</span>)                  │           <span style=\"color: #00af00; text-decoration-color: #00af00\">1,290</span> │\n",
              "└──────────────────────────────────────┴─────────────────────────────┴─────────────────┘\n",
              "</pre>\n"
            ]
          },
          "metadata": {}
        },
        {
          "output_type": "display_data",
          "data": {
            "text/plain": [
              "\u001b[1m Total params: \u001b[0m\u001b[38;5;34m118,282\u001b[0m (462.04 KB)\n"
            ],
            "text/html": [
              "<pre style=\"white-space:pre;overflow-x:auto;line-height:normal;font-family:Menlo,'DejaVu Sans Mono',consolas,'Courier New',monospace\"><span style=\"font-weight: bold\"> Total params: </span><span style=\"color: #00af00; text-decoration-color: #00af00\">118,282</span> (462.04 KB)\n",
              "</pre>\n"
            ]
          },
          "metadata": {}
        },
        {
          "output_type": "display_data",
          "data": {
            "text/plain": [
              "\u001b[1m Trainable params: \u001b[0m\u001b[38;5;34m118,282\u001b[0m (462.04 KB)\n"
            ],
            "text/html": [
              "<pre style=\"white-space:pre;overflow-x:auto;line-height:normal;font-family:Menlo,'DejaVu Sans Mono',consolas,'Courier New',monospace\"><span style=\"font-weight: bold\"> Trainable params: </span><span style=\"color: #00af00; text-decoration-color: #00af00\">118,282</span> (462.04 KB)\n",
              "</pre>\n"
            ]
          },
          "metadata": {}
        },
        {
          "output_type": "display_data",
          "data": {
            "text/plain": [
              "\u001b[1m Non-trainable params: \u001b[0m\u001b[38;5;34m0\u001b[0m (0.00 B)\n"
            ],
            "text/html": [
              "<pre style=\"white-space:pre;overflow-x:auto;line-height:normal;font-family:Menlo,'DejaVu Sans Mono',consolas,'Courier New',monospace\"><span style=\"font-weight: bold\"> Non-trainable params: </span><span style=\"color: #00af00; text-decoration-color: #00af00\">0</span> (0.00 B)\n",
              "</pre>\n"
            ]
          },
          "metadata": {}
        }
      ]
    },
    {
      "cell_type": "code",
      "source": [
        "# fit our final model on our training dataset\n",
        "history_final = model_final.fit(\n",
        "    x_train, y_train,\n",
        "    batch_size=config[\"batch_size\"],\n",
        "    epochs=config[\"epochs\"],\n",
        "    verbose=0,\n",
        "    validation_data=(x_valid, y_valid),\n",
        "    callbacks=[early_stopping_monitor]\n",
        ")"
      ],
      "metadata": {
        "id": "wZhU2YVFQthL"
      },
      "execution_count": null,
      "outputs": []
    },
    {
      "cell_type": "code",
      "source": [
        "# Convert history_final to dataframe for plotting progress\n",
        "df = pd.DataFrame(history_final.history)\n",
        "\n",
        "fig = make_subplots(cols=2, x_title=\"Epoch\")\n",
        "\n",
        "fig.add_trace(\n",
        "    go.Scatter(\n",
        "        y=df.accuracy, line={\"color\": \"#1f77b4\"}, name=\"Train\", legendgroup=1\n",
        "    ),\n",
        "    row=1, col=1\n",
        ")\n",
        "fig.add_trace(\n",
        "    go.Scatter(\n",
        "        y=df.val_accuracy,\n",
        "        line={\"color\": \"#ff7f0e\"},\n",
        "        name=\"Validation\",\n",
        "        legendgroup=2\n",
        "    ),\n",
        "    row=1, col=1\n",
        ")\n",
        "fig.add_trace(\n",
        "    go.Scatter(\n",
        "        y=df.loss,\n",
        "        line={\"color\": \"#1f77b4\"},\n",
        "        name=\"Train\",\n",
        "        showlegend=False,\n",
        "        legendgroup=1\n",
        "      ),\n",
        "    row=1, col=2\n",
        ")\n",
        "fig.add_trace(\n",
        "    go.Scatter(\n",
        "        y=df.val_loss,\n",
        "        line={\"color\": \"#ff7f0e\"},\n",
        "        name=\"Validation\",\n",
        "        showlegend=False,\n",
        "        legendgroup=2\n",
        "    ),\n",
        "    row=1, col=2\n",
        ")\n",
        "\n",
        "# Edit y axis titles\n",
        "fig['layout']['yaxis']['title']='Accuracy'\n",
        "fig['layout']['yaxis2']['title']='Loss'\n",
        "\n",
        "fig.update_layout(\n",
        "    autosize=False,\n",
        "    width=1500,\n",
        "    height=500,\n",
        "    template=\"seaborn\",\n",
        ")\n",
        "\n",
        "fig.show()"
      ],
      "metadata": {
        "id": "k425a6UCRZK4",
        "colab": {
          "base_uri": "https://localhost:8080/",
          "height": 537
        },
        "outputId": "5ed45f7d-bf10-4519-818f-7db82ee70c8d"
      },
      "execution_count": null,
      "outputs": [
        {
          "output_type": "display_data",
          "data": {
            "text/html": [
              "<html>\n",
              "<head><meta charset=\"utf-8\" /></head>\n",
              "<body>\n",
              "    <div>            <script src=\"https://cdnjs.cloudflare.com/ajax/libs/mathjax/2.7.5/MathJax.js?config=TeX-AMS-MML_SVG\"></script><script type=\"text/javascript\">if (window.MathJax && window.MathJax.Hub && window.MathJax.Hub.Config) {window.MathJax.Hub.Config({SVG: {font: \"STIX-Web\"}});}</script>                <script type=\"text/javascript\">window.PlotlyConfig = {MathJaxConfig: 'local'};</script>\n",
              "        <script charset=\"utf-8\" src=\"https://cdn.plot.ly/plotly-2.24.1.min.js\"></script>                <div id=\"4417c114-5282-46bd-9621-1ab6ef1c5d41\" class=\"plotly-graph-div\" style=\"height:500px; width:1500px;\"></div>            <script type=\"text/javascript\">                                    window.PLOTLYENV=window.PLOTLYENV || {};                                    if (document.getElementById(\"4417c114-5282-46bd-9621-1ab6ef1c5d41\")) {                    Plotly.newPlot(                        \"4417c114-5282-46bd-9621-1ab6ef1c5d41\",                        [{\"legendgroup\":\"1\",\"line\":{\"color\":\"#1f77b4\"},\"name\":\"Train\",\"y\":[0.8028888702392578,0.8558889031410217,0.8694000244140625,0.8766888976097107,0.8859555721282959,0.8919777870178223,0.8953777551651001,0.8973555564880371,0.9030888676643372,0.9059110879898071],\"type\":\"scatter\",\"xaxis\":\"x\",\"yaxis\":\"y\"},{\"legendgroup\":\"2\",\"line\":{\"color\":\"#ff7f0e\"},\"name\":\"Validation\",\"y\":[0.8416666388511658,0.8587333559989929,0.8677999973297119,0.8714666962623596,0.8863333463668823,0.8840000033378601,0.8826000094413757,0.8862000107765198,0.8899999856948853,0.8861333131790161],\"type\":\"scatter\",\"xaxis\":\"x\",\"yaxis\":\"y\"},{\"legendgroup\":\"1\",\"line\":{\"color\":\"#1f77b4\"},\"name\":\"Train\",\"showlegend\":false,\"y\":[0.5669413208961487,0.39958420395851135,0.3562696576118469,0.32926827669143677,0.3066139817237854,0.2916112244129181,0.2819209694862366,0.2706151008605957,0.2600743770599365,0.24827216565608978],\"type\":\"scatter\",\"xaxis\":\"x2\",\"yaxis\":\"y2\"},{\"legendgroup\":\"2\",\"line\":{\"color\":\"#ff7f0e\"},\"name\":\"Validation\",\"showlegend\":false,\"y\":[0.44226667284965515,0.39597809314727783,0.3692813813686371,0.354429692029953,0.3229571580886841,0.32102736830711365,0.3309066593647003,0.32332491874694824,0.31021857261657715,0.31656935811042786],\"type\":\"scatter\",\"xaxis\":\"x2\",\"yaxis\":\"y2\"}],                        {\"template\":{\"data\":{\"barpolar\":[{\"marker\":{\"line\":{\"color\":\"rgb(234,234,242)\",\"width\":0.5},\"pattern\":{\"fillmode\":\"overlay\",\"size\":10,\"solidity\":0.2}},\"type\":\"barpolar\"}],\"bar\":[{\"error_x\":{\"color\":\"rgb(36,36,36)\"},\"error_y\":{\"color\":\"rgb(36,36,36)\"},\"marker\":{\"line\":{\"color\":\"rgb(234,234,242)\",\"width\":0.5},\"pattern\":{\"fillmode\":\"overlay\",\"size\":10,\"solidity\":0.2}},\"type\":\"bar\"}],\"carpet\":[{\"aaxis\":{\"endlinecolor\":\"rgb(36,36,36)\",\"gridcolor\":\"white\",\"linecolor\":\"white\",\"minorgridcolor\":\"white\",\"startlinecolor\":\"rgb(36,36,36)\"},\"baxis\":{\"endlinecolor\":\"rgb(36,36,36)\",\"gridcolor\":\"white\",\"linecolor\":\"white\",\"minorgridcolor\":\"white\",\"startlinecolor\":\"rgb(36,36,36)\"},\"type\":\"carpet\"}],\"choropleth\":[{\"colorbar\":{\"outlinewidth\":0,\"tickcolor\":\"rgb(36,36,36)\",\"ticklen\":8,\"ticks\":\"outside\",\"tickwidth\":2},\"type\":\"choropleth\"}],\"contourcarpet\":[{\"colorbar\":{\"outlinewidth\":0,\"tickcolor\":\"rgb(36,36,36)\",\"ticklen\":8,\"ticks\":\"outside\",\"tickwidth\":2},\"type\":\"contourcarpet\"}],\"contour\":[{\"colorbar\":{\"outlinewidth\":0,\"tickcolor\":\"rgb(36,36,36)\",\"ticklen\":8,\"ticks\":\"outside\",\"tickwidth\":2},\"colorscale\":[[0.0,\"rgb(2,4,25)\"],[0.06274509803921569,\"rgb(24,15,41)\"],[0.12549019607843137,\"rgb(47,23,57)\"],[0.18823529411764706,\"rgb(71,28,72)\"],[0.25098039215686274,\"rgb(97,30,82)\"],[0.3137254901960784,\"rgb(123,30,89)\"],[0.3764705882352941,\"rgb(150,27,91)\"],[0.4392156862745098,\"rgb(177,22,88)\"],[0.5019607843137255,\"rgb(203,26,79)\"],[0.5647058823529412,\"rgb(223,47,67)\"],[0.6274509803921569,\"rgb(236,76,61)\"],[0.6901960784313725,\"rgb(242,107,73)\"],[0.7529411764705882,\"rgb(244,135,95)\"],[0.8156862745098039,\"rgb(245,162,122)\"],[0.8784313725490196,\"rgb(246,188,153)\"],[0.9411764705882353,\"rgb(247,212,187)\"],[1.0,\"rgb(250,234,220)\"]],\"type\":\"contour\"}],\"heatmapgl\":[{\"colorbar\":{\"outlinewidth\":0,\"tickcolor\":\"rgb(36,36,36)\",\"ticklen\":8,\"ticks\":\"outside\",\"tickwidth\":2},\"colorscale\":[[0.0,\"rgb(2,4,25)\"],[0.06274509803921569,\"rgb(24,15,41)\"],[0.12549019607843137,\"rgb(47,23,57)\"],[0.18823529411764706,\"rgb(71,28,72)\"],[0.25098039215686274,\"rgb(97,30,82)\"],[0.3137254901960784,\"rgb(123,30,89)\"],[0.3764705882352941,\"rgb(150,27,91)\"],[0.4392156862745098,\"rgb(177,22,88)\"],[0.5019607843137255,\"rgb(203,26,79)\"],[0.5647058823529412,\"rgb(223,47,67)\"],[0.6274509803921569,\"rgb(236,76,61)\"],[0.6901960784313725,\"rgb(242,107,73)\"],[0.7529411764705882,\"rgb(244,135,95)\"],[0.8156862745098039,\"rgb(245,162,122)\"],[0.8784313725490196,\"rgb(246,188,153)\"],[0.9411764705882353,\"rgb(247,212,187)\"],[1.0,\"rgb(250,234,220)\"]],\"type\":\"heatmapgl\"}],\"heatmap\":[{\"colorbar\":{\"outlinewidth\":0,\"tickcolor\":\"rgb(36,36,36)\",\"ticklen\":8,\"ticks\":\"outside\",\"tickwidth\":2},\"colorscale\":[[0.0,\"rgb(2,4,25)\"],[0.06274509803921569,\"rgb(24,15,41)\"],[0.12549019607843137,\"rgb(47,23,57)\"],[0.18823529411764706,\"rgb(71,28,72)\"],[0.25098039215686274,\"rgb(97,30,82)\"],[0.3137254901960784,\"rgb(123,30,89)\"],[0.3764705882352941,\"rgb(150,27,91)\"],[0.4392156862745098,\"rgb(177,22,88)\"],[0.5019607843137255,\"rgb(203,26,79)\"],[0.5647058823529412,\"rgb(223,47,67)\"],[0.6274509803921569,\"rgb(236,76,61)\"],[0.6901960784313725,\"rgb(242,107,73)\"],[0.7529411764705882,\"rgb(244,135,95)\"],[0.8156862745098039,\"rgb(245,162,122)\"],[0.8784313725490196,\"rgb(246,188,153)\"],[0.9411764705882353,\"rgb(247,212,187)\"],[1.0,\"rgb(250,234,220)\"]],\"type\":\"heatmap\"}],\"histogram2dcontour\":[{\"colorbar\":{\"outlinewidth\":0,\"tickcolor\":\"rgb(36,36,36)\",\"ticklen\":8,\"ticks\":\"outside\",\"tickwidth\":2},\"colorscale\":[[0.0,\"rgb(2,4,25)\"],[0.06274509803921569,\"rgb(24,15,41)\"],[0.12549019607843137,\"rgb(47,23,57)\"],[0.18823529411764706,\"rgb(71,28,72)\"],[0.25098039215686274,\"rgb(97,30,82)\"],[0.3137254901960784,\"rgb(123,30,89)\"],[0.3764705882352941,\"rgb(150,27,91)\"],[0.4392156862745098,\"rgb(177,22,88)\"],[0.5019607843137255,\"rgb(203,26,79)\"],[0.5647058823529412,\"rgb(223,47,67)\"],[0.6274509803921569,\"rgb(236,76,61)\"],[0.6901960784313725,\"rgb(242,107,73)\"],[0.7529411764705882,\"rgb(244,135,95)\"],[0.8156862745098039,\"rgb(245,162,122)\"],[0.8784313725490196,\"rgb(246,188,153)\"],[0.9411764705882353,\"rgb(247,212,187)\"],[1.0,\"rgb(250,234,220)\"]],\"type\":\"histogram2dcontour\"}],\"histogram2d\":[{\"colorbar\":{\"outlinewidth\":0,\"tickcolor\":\"rgb(36,36,36)\",\"ticklen\":8,\"ticks\":\"outside\",\"tickwidth\":2},\"colorscale\":[[0.0,\"rgb(2,4,25)\"],[0.06274509803921569,\"rgb(24,15,41)\"],[0.12549019607843137,\"rgb(47,23,57)\"],[0.18823529411764706,\"rgb(71,28,72)\"],[0.25098039215686274,\"rgb(97,30,82)\"],[0.3137254901960784,\"rgb(123,30,89)\"],[0.3764705882352941,\"rgb(150,27,91)\"],[0.4392156862745098,\"rgb(177,22,88)\"],[0.5019607843137255,\"rgb(203,26,79)\"],[0.5647058823529412,\"rgb(223,47,67)\"],[0.6274509803921569,\"rgb(236,76,61)\"],[0.6901960784313725,\"rgb(242,107,73)\"],[0.7529411764705882,\"rgb(244,135,95)\"],[0.8156862745098039,\"rgb(245,162,122)\"],[0.8784313725490196,\"rgb(246,188,153)\"],[0.9411764705882353,\"rgb(247,212,187)\"],[1.0,\"rgb(250,234,220)\"]],\"type\":\"histogram2d\"}],\"histogram\":[{\"marker\":{\"pattern\":{\"fillmode\":\"overlay\",\"size\":10,\"solidity\":0.2}},\"type\":\"histogram\"}],\"mesh3d\":[{\"colorbar\":{\"outlinewidth\":0,\"tickcolor\":\"rgb(36,36,36)\",\"ticklen\":8,\"ticks\":\"outside\",\"tickwidth\":2},\"type\":\"mesh3d\"}],\"parcoords\":[{\"line\":{\"colorbar\":{\"outlinewidth\":0,\"tickcolor\":\"rgb(36,36,36)\",\"ticklen\":8,\"ticks\":\"outside\",\"tickwidth\":2}},\"type\":\"parcoords\"}],\"pie\":[{\"automargin\":true,\"type\":\"pie\"}],\"scatter3d\":[{\"line\":{\"colorbar\":{\"outlinewidth\":0,\"tickcolor\":\"rgb(36,36,36)\",\"ticklen\":8,\"ticks\":\"outside\",\"tickwidth\":2}},\"marker\":{\"colorbar\":{\"outlinewidth\":0,\"tickcolor\":\"rgb(36,36,36)\",\"ticklen\":8,\"ticks\":\"outside\",\"tickwidth\":2}},\"type\":\"scatter3d\"}],\"scattercarpet\":[{\"marker\":{\"colorbar\":{\"outlinewidth\":0,\"tickcolor\":\"rgb(36,36,36)\",\"ticklen\":8,\"ticks\":\"outside\",\"tickwidth\":2}},\"type\":\"scattercarpet\"}],\"scattergeo\":[{\"marker\":{\"colorbar\":{\"outlinewidth\":0,\"tickcolor\":\"rgb(36,36,36)\",\"ticklen\":8,\"ticks\":\"outside\",\"tickwidth\":2}},\"type\":\"scattergeo\"}],\"scattergl\":[{\"marker\":{\"colorbar\":{\"outlinewidth\":0,\"tickcolor\":\"rgb(36,36,36)\",\"ticklen\":8,\"ticks\":\"outside\",\"tickwidth\":2}},\"type\":\"scattergl\"}],\"scattermapbox\":[{\"marker\":{\"colorbar\":{\"outlinewidth\":0,\"tickcolor\":\"rgb(36,36,36)\",\"ticklen\":8,\"ticks\":\"outside\",\"tickwidth\":2}},\"type\":\"scattermapbox\"}],\"scatterpolargl\":[{\"marker\":{\"colorbar\":{\"outlinewidth\":0,\"tickcolor\":\"rgb(36,36,36)\",\"ticklen\":8,\"ticks\":\"outside\",\"tickwidth\":2}},\"type\":\"scatterpolargl\"}],\"scatterpolar\":[{\"marker\":{\"colorbar\":{\"outlinewidth\":0,\"tickcolor\":\"rgb(36,36,36)\",\"ticklen\":8,\"ticks\":\"outside\",\"tickwidth\":2}},\"type\":\"scatterpolar\"}],\"scatter\":[{\"fillpattern\":{\"fillmode\":\"overlay\",\"size\":10,\"solidity\":0.2},\"type\":\"scatter\"}],\"scatterternary\":[{\"marker\":{\"colorbar\":{\"outlinewidth\":0,\"tickcolor\":\"rgb(36,36,36)\",\"ticklen\":8,\"ticks\":\"outside\",\"tickwidth\":2}},\"type\":\"scatterternary\"}],\"surface\":[{\"colorbar\":{\"outlinewidth\":0,\"tickcolor\":\"rgb(36,36,36)\",\"ticklen\":8,\"ticks\":\"outside\",\"tickwidth\":2},\"colorscale\":[[0.0,\"rgb(2,4,25)\"],[0.06274509803921569,\"rgb(24,15,41)\"],[0.12549019607843137,\"rgb(47,23,57)\"],[0.18823529411764706,\"rgb(71,28,72)\"],[0.25098039215686274,\"rgb(97,30,82)\"],[0.3137254901960784,\"rgb(123,30,89)\"],[0.3764705882352941,\"rgb(150,27,91)\"],[0.4392156862745098,\"rgb(177,22,88)\"],[0.5019607843137255,\"rgb(203,26,79)\"],[0.5647058823529412,\"rgb(223,47,67)\"],[0.6274509803921569,\"rgb(236,76,61)\"],[0.6901960784313725,\"rgb(242,107,73)\"],[0.7529411764705882,\"rgb(244,135,95)\"],[0.8156862745098039,\"rgb(245,162,122)\"],[0.8784313725490196,\"rgb(246,188,153)\"],[0.9411764705882353,\"rgb(247,212,187)\"],[1.0,\"rgb(250,234,220)\"]],\"type\":\"surface\"}],\"table\":[{\"cells\":{\"fill\":{\"color\":\"rgb(231,231,240)\"},\"line\":{\"color\":\"white\"}},\"header\":{\"fill\":{\"color\":\"rgb(183,183,191)\"},\"line\":{\"color\":\"white\"}},\"type\":\"table\"}]},\"layout\":{\"annotationdefaults\":{\"arrowcolor\":\"rgb(67,103,167)\"},\"autotypenumbers\":\"strict\",\"coloraxis\":{\"colorbar\":{\"outlinewidth\":0,\"tickcolor\":\"rgb(36,36,36)\",\"ticklen\":8,\"ticks\":\"outside\",\"tickwidth\":2}},\"colorscale\":{\"sequential\":[[0.0,\"rgb(2,4,25)\"],[0.06274509803921569,\"rgb(24,15,41)\"],[0.12549019607843137,\"rgb(47,23,57)\"],[0.18823529411764706,\"rgb(71,28,72)\"],[0.25098039215686274,\"rgb(97,30,82)\"],[0.3137254901960784,\"rgb(123,30,89)\"],[0.3764705882352941,\"rgb(150,27,91)\"],[0.4392156862745098,\"rgb(177,22,88)\"],[0.5019607843137255,\"rgb(203,26,79)\"],[0.5647058823529412,\"rgb(223,47,67)\"],[0.6274509803921569,\"rgb(236,76,61)\"],[0.6901960784313725,\"rgb(242,107,73)\"],[0.7529411764705882,\"rgb(244,135,95)\"],[0.8156862745098039,\"rgb(245,162,122)\"],[0.8784313725490196,\"rgb(246,188,153)\"],[0.9411764705882353,\"rgb(247,212,187)\"],[1.0,\"rgb(250,234,220)\"]],\"sequentialminus\":[[0.0,\"rgb(2,4,25)\"],[0.06274509803921569,\"rgb(24,15,41)\"],[0.12549019607843137,\"rgb(47,23,57)\"],[0.18823529411764706,\"rgb(71,28,72)\"],[0.25098039215686274,\"rgb(97,30,82)\"],[0.3137254901960784,\"rgb(123,30,89)\"],[0.3764705882352941,\"rgb(150,27,91)\"],[0.4392156862745098,\"rgb(177,22,88)\"],[0.5019607843137255,\"rgb(203,26,79)\"],[0.5647058823529412,\"rgb(223,47,67)\"],[0.6274509803921569,\"rgb(236,76,61)\"],[0.6901960784313725,\"rgb(242,107,73)\"],[0.7529411764705882,\"rgb(244,135,95)\"],[0.8156862745098039,\"rgb(245,162,122)\"],[0.8784313725490196,\"rgb(246,188,153)\"],[0.9411764705882353,\"rgb(247,212,187)\"],[1.0,\"rgb(250,234,220)\"]]},\"colorway\":[\"rgb(76,114,176)\",\"rgb(221,132,82)\",\"rgb(85,168,104)\",\"rgb(196,78,82)\",\"rgb(129,114,179)\",\"rgb(147,120,96)\",\"rgb(218,139,195)\",\"rgb(140,140,140)\",\"rgb(204,185,116)\",\"rgb(100,181,205)\"],\"font\":{\"color\":\"rgb(36,36,36)\"},\"geo\":{\"bgcolor\":\"white\",\"lakecolor\":\"white\",\"landcolor\":\"rgb(234,234,242)\",\"showlakes\":true,\"showland\":true,\"subunitcolor\":\"white\"},\"hoverlabel\":{\"align\":\"left\"},\"hovermode\":\"closest\",\"paper_bgcolor\":\"white\",\"plot_bgcolor\":\"rgb(234,234,242)\",\"polar\":{\"angularaxis\":{\"gridcolor\":\"white\",\"linecolor\":\"white\",\"showgrid\":true,\"ticks\":\"\"},\"bgcolor\":\"rgb(234,234,242)\",\"radialaxis\":{\"gridcolor\":\"white\",\"linecolor\":\"white\",\"showgrid\":true,\"ticks\":\"\"}},\"scene\":{\"xaxis\":{\"backgroundcolor\":\"rgb(234,234,242)\",\"gridcolor\":\"white\",\"gridwidth\":2,\"linecolor\":\"white\",\"showbackground\":true,\"showgrid\":true,\"ticks\":\"\",\"zerolinecolor\":\"white\"},\"yaxis\":{\"backgroundcolor\":\"rgb(234,234,242)\",\"gridcolor\":\"white\",\"gridwidth\":2,\"linecolor\":\"white\",\"showbackground\":true,\"showgrid\":true,\"ticks\":\"\",\"zerolinecolor\":\"white\"},\"zaxis\":{\"backgroundcolor\":\"rgb(234,234,242)\",\"gridcolor\":\"white\",\"gridwidth\":2,\"linecolor\":\"white\",\"showbackground\":true,\"showgrid\":true,\"ticks\":\"\",\"zerolinecolor\":\"white\"}},\"shapedefaults\":{\"fillcolor\":\"rgb(67,103,167)\",\"line\":{\"width\":0},\"opacity\":0.5},\"ternary\":{\"aaxis\":{\"gridcolor\":\"white\",\"linecolor\":\"white\",\"showgrid\":true,\"ticks\":\"\"},\"baxis\":{\"gridcolor\":\"white\",\"linecolor\":\"white\",\"showgrid\":true,\"ticks\":\"\"},\"bgcolor\":\"rgb(234,234,242)\",\"caxis\":{\"gridcolor\":\"white\",\"linecolor\":\"white\",\"showgrid\":true,\"ticks\":\"\"}},\"xaxis\":{\"automargin\":true,\"gridcolor\":\"white\",\"linecolor\":\"white\",\"showgrid\":true,\"ticks\":\"\",\"title\":{\"standoff\":15},\"zerolinecolor\":\"white\"},\"yaxis\":{\"automargin\":true,\"gridcolor\":\"white\",\"linecolor\":\"white\",\"showgrid\":true,\"ticks\":\"\",\"title\":{\"standoff\":15},\"zerolinecolor\":\"white\"}}},\"xaxis\":{\"anchor\":\"y\",\"domain\":[0.0,0.45]},\"yaxis\":{\"anchor\":\"x\",\"domain\":[0.0,1.0],\"title\":{\"text\":\"Accuracy\"}},\"xaxis2\":{\"anchor\":\"y2\",\"domain\":[0.55,1.0]},\"yaxis2\":{\"anchor\":\"x2\",\"domain\":[0.0,1.0],\"title\":{\"text\":\"Loss\"}},\"annotations\":[{\"font\":{\"size\":16},\"showarrow\":false,\"text\":\"Epoch\",\"x\":0.5,\"xanchor\":\"center\",\"xref\":\"paper\",\"y\":0,\"yanchor\":\"top\",\"yref\":\"paper\",\"yshift\":-30}],\"autosize\":false,\"width\":1500,\"height\":500},                        {\"responsive\": true}                    ).then(function(){\n",
              "                            \n",
              "var gd = document.getElementById('4417c114-5282-46bd-9621-1ab6ef1c5d41');\n",
              "var x = new MutationObserver(function (mutations, observer) {{\n",
              "        var display = window.getComputedStyle(gd).display;\n",
              "        if (!display || display === 'none') {{\n",
              "            console.log([gd, 'removed!']);\n",
              "            Plotly.purge(gd);\n",
              "            observer.disconnect();\n",
              "        }}\n",
              "}});\n",
              "\n",
              "// Listen for the removal of the full notebook cells\n",
              "var notebookContainer = gd.closest('#notebook-container');\n",
              "if (notebookContainer) {{\n",
              "    x.observe(notebookContainer, {childList: true});\n",
              "}}\n",
              "\n",
              "// Listen for the clearing of the current output cell\n",
              "var outputEl = gd.closest('.output');\n",
              "if (outputEl) {{\n",
              "    x.observe(outputEl, {childList: true});\n",
              "}}\n",
              "\n",
              "                        })                };                            </script>        </div>\n",
              "</body>\n",
              "</html>"
            ]
          },
          "metadata": {}
        }
      ]
    },
    {
      "cell_type": "code",
      "source": [
        "# calculating train, validation, and test loss and accuracy of our final model\n",
        "score_final_train = model_final.evaluate(x_train, y_train, verbose=0)\n",
        "score_final_valid = model_final.evaluate(x_valid, y_valid, verbose=0)\n",
        "score_final_test = model_final.evaluate(x_test, y_test, verbose=0)\n",
        "\n",
        "print(\"Train loss of the final model:         {:7.2f}\".format(score_final_train[0]))\n",
        "print(\"Train accuracy of the final model:     {:7.2f}\".format(score_final_train[1]))\n",
        "print(\"Validation loss of the final model:    {:7.2f}\".format(score_final_valid[0]))\n",
        "print(\"Validation accuracy of the final model:{:7.2f}\".format(score_final_valid[1]))\n",
        "print(\"Test loss of the final model:          {:7.2f}\".format(score_final_test[0]))\n",
        "print(\"Test accuracy of the final model:      {:7.2f}\".format(score_final_test[1]))"
      ],
      "metadata": {
        "id": "iqIOp1KuQ9R-",
        "colab": {
          "base_uri": "https://localhost:8080/"
        },
        "outputId": "3a98826c-7a0b-4f00-f50d-b3ee5191aa57"
      },
      "execution_count": null,
      "outputs": [
        {
          "output_type": "stream",
          "name": "stdout",
          "text": [
            "Train loss of the final model:            0.24\n",
            "Train accuracy of the final model:        0.91\n",
            "Validation loss of the final model:       0.32\n",
            "Validation accuracy of the final model:   0.89\n",
            "Test loss of the final model:             0.34\n",
            "Test accuracy of the final model:         0.88\n"
          ]
        }
      ]
    },
    {
      "cell_type": "markdown",
      "source": [
        "In summary, our final model demonstrated consistent performance on the training, validation, and test datasets, achieving accuracies of 0.91, 0.89, and 0.88, respectively. These accuracy scores across all datasets and the graphs indicate that our final model shows no sign of overfitting."
      ],
      "metadata": {
        "id": "foqnMeOcCqBO"
      }
    },
    {
      "cell_type": "markdown",
      "metadata": {
        "id": "8XQp1ZNz3JHB"
      },
      "source": [
        "# Evaluating the Robustness of the Model to Image Transformations\n",
        "\n",
        "Next, we checked if our model could deal with rotated images. For this we used our test dataset."
      ]
    },
    {
      "cell_type": "code",
      "execution_count": null,
      "metadata": {
        "id": "PQDL55Kq3MAA"
      },
      "outputs": [],
      "source": [
        "# rotating the images of the test dataset\n",
        "x_test_rotated = np.flip(x_test, (1, 2))"
      ]
    },
    {
      "cell_type": "code",
      "source": [
        "plt.figure(figsize=(6, 3))\n",
        "\n",
        "# plot an original image of the test dataset\n",
        "plt.subplot(1, 2, 1)\n",
        "plt.imshow(x_test[0], cmap=\"gray\")\n",
        "plt.title('Original Image')\n",
        "plt.axis('off');\n",
        "\n",
        "# plot the image of the test dataset rotated\n",
        "plt.subplot(1, 2, 2)\n",
        "plt.imshow(x_test_rotated[0], cmap=\"gray\")\n",
        "plt.title('Rotated Image')\n",
        "plt.axis('off');"
      ],
      "metadata": {
        "id": "mFpAUAPHSEMC",
        "colab": {
          "base_uri": "https://localhost:8080/",
          "height": 270
        },
        "outputId": "d1014b7c-f6fa-43d2-c62c-0559e55fbd82"
      },
      "execution_count": null,
      "outputs": [
        {
          "output_type": "display_data",
          "data": {
            "text/plain": [
              "<Figure size 600x300 with 2 Axes>"
            ],
            "image/png": "[encoded data removed]"
          },
          "metadata": {}
        }
      ]
    },
    {
      "cell_type": "code",
      "execution_count": null,
      "metadata": {
        "id": "lmCdzscN3Xuy",
        "colab": {
          "base_uri": "https://localhost:8080/"
        },
        "outputId": "27e10024-bb0a-4150-ce66-28e7302fff85"
      },
      "outputs": [
        {
          "output_type": "stream",
          "name": "stdout",
          "text": [
            "Test loss for rotated images:         7.20\n",
            "Test accuracy for rotated images:     0.19\n"
          ]
        }
      ],
      "source": [
        "# calculating loss and accuracy for the rotated test dataset\n",
        "score_rotated = model_final.evaluate(x_test_rotated, y_test, verbose=0)\n",
        "\n",
        "print(\"Test loss for rotated images:      {:7.2f}\".format(score_rotated[0]))\n",
        "print(\"Test accuracy for rotated images:  {:7.2f}\".format(score_rotated[1]))"
      ]
    },
    {
      "cell_type": "markdown",
      "metadata": {
        "id": "RIMjHlXg3bL7"
      },
      "source": [
        "It can be seen that the model's accuracy significantly dropped to 0.19. It may be because the model has learned dataset-specific patterns, particularly those unique to different classes (such as the sole down and the toe on the left for shoes)."
      ]
    },
    {
      "cell_type": "code",
      "source": [
        "# Initialize the ImageDataGenerator with a zoom_range for zoom-in and out effects\n",
        "datagen_in = ImageDataGenerator(zoom_range=(0.6, 0.6))\n",
        "datagen_out = ImageDataGenerator(zoom_range=(1.6, 1.6))\n",
        "\n",
        "# Reshape the dataset to include the channel dimension\n",
        "x_test_reshaped = x_test.reshape(10000, 28, 28, 1)\n",
        "\n",
        "x_test_zoomed_in = np.zeros_like(x_test_reshaped)\n",
        "x_test_zoomed_out = np.zeros_like(x_test_reshaped)\n",
        "\n",
        "# Apply the transformation to each image\n",
        "for i in range(len(x_test_reshaped)):\n",
        "    x_test_zoomed_in[i] = datagen_in.random_transform(x_test_reshaped[i])\n",
        "    x_test_zoomed_out[i] = datagen_out.random_transform(x_test_reshaped[i])"
      ],
      "metadata": {
        "id": "yN3-us3lSPp2"
      },
      "execution_count": null,
      "outputs": []
    },
    {
      "cell_type": "code",
      "source": [
        "plt.figure(figsize=(6, 3))\n",
        "\n",
        "# plot the zoomed-in image\n",
        "plt.subplot(1, 2, 1)\n",
        "plt.imshow(x_test_zoomed_in[0].squeeze(), cmap='gray')\n",
        "plt.title('Zoomed-in Image')\n",
        "plt.axis('off');\n",
        "\n",
        "# plot the zoomed-out image\n",
        "plt.subplot(1, 2, 2)\n",
        "plt.imshow(x_test_zoomed_out[0].squeeze(), cmap=\"gray\")\n",
        "plt.title('Zoomed-out Image')\n",
        "plt.axis('off');"
      ],
      "metadata": {
        "id": "ekIHt9R5SV5T",
        "colab": {
          "base_uri": "https://localhost:8080/",
          "height": 270
        },
        "outputId": "3dcfc494-7a47-49f0-81e4-19fa8a1a6bc7"
      },
      "execution_count": null,
      "outputs": [
        {
          "output_type": "display_data",
          "data": {
            "text/plain": [
              "<Figure size 600x300 with 2 Axes>"
            ],
            "image/png": "[encoded data removed]"
          },
          "metadata": {}
        }
      ]
    },
    {
      "cell_type": "code",
      "source": [
        "# calculating loss and accuracy for zoomed-in and zoomed-out images\n",
        "score_zoomed_in = model_final.evaluate(x_test_zoomed_in.squeeze(), y_test, verbose=0)\n",
        "score_zoomed_out = model_final.evaluate(x_test_zoomed_out.squeeze(), y_test, verbose=0)\n",
        "print(\"Test loss for zoomed-in images:      {:7.2f}\".format(score_zoomed_in[0]))\n",
        "print(\"Test accuracy for zoomed-in images:  {:7.2f}\".format(score_zoomed_in[1]))\n",
        "print(\"Test loss for zoomed-out images:     {:7.2f}\".format(score_zoomed_out[0]))\n",
        "print(\"Test accuracy for zoomed-out images: {:7.2f}\".format(score_zoomed_out[1]))"
      ],
      "metadata": {
        "id": "NcB8VwodSk6S",
        "colab": {
          "base_uri": "https://localhost:8080/"
        },
        "outputId": "dcb948eb-e65b-48a6-c687-f877681b5019"
      },
      "execution_count": null,
      "outputs": [
        {
          "output_type": "stream",
          "name": "stdout",
          "text": [
            "Test loss for zoomed-in images:         7.42\n",
            "Test accuracy for zoomed-in images:     0.35\n",
            "Test loss for zoomed-out images:        1.87\n",
            "Test accuracy for zoomed-out images:    0.45\n"
          ]
        }
      ]
    },
    {
      "cell_type": "markdown",
      "source": [
        "Our trained model faces challenges in accurately classifying images at different scales, indicated by the notably low test accuracy values of 0.35 and 0.45, respectively.\n",
        "To sum up, our MLP model encounters difficulties in accurately classifying images that are either rotated or vary in scale. This mainly comes from the fact that MLP's design does not have handles such as weight sharing and pooling seen in convolutional neural networks (CNNs), making it unable to reacting to variations in input."
      ],
      "metadata": {
        "id": "NvLcMTEeA8yu"
      }
    },
    {
      "cell_type": "markdown",
      "metadata": {
        "id": "BulS1YKar_Nz"
      },
      "source": [
        "# Analyzing Model Predictions"
      ]
    },
    {
      "cell_type": "markdown",
      "metadata": {
        "id": "ZcqJ7ewxjECT"
      },
      "source": [
        "Next, we investigated areas of weakness or need for improvement based on what our model was most satisfied  or concerned about."
      ]
    },
    {
      "cell_type": "code",
      "execution_count": null,
      "metadata": {
        "id": "gcgRU334l4xl",
        "colab": {
          "base_uri": "https://localhost:8080/",
          "height": 489
        },
        "outputId": "60bea7c7-bcb7-4f1f-9c78-271140e6645c"
      },
      "outputs": [
        {
          "output_type": "stream",
          "name": "stdout",
          "text": [
            "\u001b[1m313/313\u001b[0m \u001b[32m━━━━━━━━━━━━━━━━━━━━\u001b[0m\u001b[37m\u001b[0m \u001b[1m1s\u001b[0m 3ms/step\n"
          ]
        },
        {
          "output_type": "display_data",
          "data": {
            "text/plain": [
              "<Figure size 640x480 with 1 Axes>"
            ],
            "image/png": "[encoded data removed]"
          },
          "metadata": {}
        }
      ],
      "source": [
        "preds = model_final.predict(x_test)\n",
        "\n",
        "preds_probs = preds[range(10000), y_test.argmax(axis=1)]\n",
        "plt.hist(preds_probs)\n",
        "plt.xlabel('Confidence Level')\n",
        "plt.ylabel('Number of Predictions')\n",
        "plt.title('Distribution of Model Confidence Levels');"
      ]
    },
    {
      "cell_type": "markdown",
      "source": [
        "The vast majority of predictions cluster near 1 at the high confidence level, indicating that the model is quite confident in its predictions for the majority of test samples. However, there are few test samples for which the model is less certain. Next, we determined for which classes the model was less certain."
      ],
      "metadata": {
        "id": "vkn7C8zbxZyp"
      }
    },
    {
      "cell_type": "code",
      "execution_count": null,
      "metadata": {
        "id": "NEYT1ON7mgAR",
        "colab": {
          "base_uri": "https://localhost:8080/",
          "height": 532
        },
        "outputId": "b04af2d9-30d6-4d6e-f0af-d008e4f81fe6"
      },
      "outputs": [
        {
          "output_type": "display_data",
          "data": {
            "text/plain": [
              "<Figure size 640x480 with 1 Axes>"
            ],
            "image/png": "[encoded data removed]"
          },
          "metadata": {}
        }
      ],
      "source": [
        "class_names = ['T-shirt/top', 'Trouser', 'Pullover', 'Dress', 'Coat',\n",
        "               'Sandal', 'Shirt', 'Sneaker', 'Bag', 'Ankle boot']\n",
        "\n",
        "# distribution of predicted probabilities across different class labels\n",
        "bc = np.bincount(y_test.argmax(axis=1),\n",
        "                 weights = preds_probs) / np.bincount(y_test.argmax(axis=1))\n",
        "plt.bar(range(10), bc)\n",
        "plt.xticks(range(10), class_names, rotation='vertical')\n",
        "\n",
        "plt.xlabel('Class Names')\n",
        "plt.ylabel('Predicted Probability Distribution')\n",
        "plt.title('Distribution of Predicted Probabilities Across Different Classes')\n",
        "\n",
        "plt.show()"
      ]
    },
    {
      "cell_type": "markdown",
      "metadata": {
        "id": "JhR-_Fwxo06-"
      },
      "source": [
        "Our final model was most confident about the pictures of the Trouser, Sandal, Sneaker, Bag, and Ankle boot classes.The most confusing pictures were in classes Shirt, T-shirt/top, Pullover, Coat. This can be explained by the fact that pullovers, coats, T-shirts/tops, and shirts all have similar fundamental shapes and outlines, so it is hard for the model to recognise them apart, especially when details that could indicate which type of clothing items are not clear because of low resolution. This problem is made worse by the absence of colour and texture characteristics in grayscale photos, which are frequently crucial distinctions between these kinds of clothes in actual settings.\n",
        "\n",
        "We also determined the percentage of correctly and incorrectly classified items:"
      ]
    },
    {
      "cell_type": "code",
      "source": [
        "pred_arg = np.argmax(preds, axis=1)\n",
        "y_test_arg = np.argmax(y_test, axis=1)\n",
        "\n",
        "# identifying correctly and incorrectly images\n",
        "correct_indices = np.nonzero(pred_arg == y_test_arg)[0]\n",
        "incorrect_indices = np.nonzero(pred_arg != y_test_arg)[0]\n",
        "\n",
        "ci = len(correct_indices)\n",
        "ii = len(incorrect_indices)\n",
        "print('Correctly classified items  : {:5d} ({:=5.2f} %)'.format(ci, ci * 100 / (ci + ii)))\n",
        "print('Incorrectly classified items: {:5d} ({:=5.2f} %)'.format(ii, ii * 100 / (ci + ii)))"
      ],
      "metadata": {
        "colab": {
          "base_uri": "https://localhost:8080/"
        },
        "id": "85x2HuAXPEYc",
        "outputId": "9f7a88b1-58c0-4de3-cec4-f67b4b838a1e"
      },
      "execution_count": null,
      "outputs": [
        {
          "output_type": "stream",
          "name": "stdout",
          "text": [
            "Correctly classified items  :  8770 (87.70 %)\n",
            "Incorrectly classified items:  1230 (12.30 %)\n"
          ]
        }
      ]
    },
    {
      "cell_type": "markdown",
      "source": [
        "Our model correctly classifies 87.70% of the test images and incorrectly classifies 12.30% of the test images."
      ],
      "metadata": {
        "id": "F_O1v_SAj9eH"
      }
    },
    {
      "cell_type": "markdown",
      "source": [
        "We created a confusion matrix to see which categories our model confuses with other categories."
      ],
      "metadata": {
        "id": "UMW82uIt613d"
      }
    },
    {
      "cell_type": "code",
      "source": [
        "ConfusionMatrixDisplay.from_predictions(y_test_arg,\n",
        "                                        pred_arg,\n",
        "                                        display_labels=class_names,\n",
        "                                        xticks_rotation = \"vertical\");"
      ],
      "metadata": {
        "id": "FSHtcSThqcXx",
        "colab": {
          "base_uri": "https://localhost:8080/",
          "height": 510
        },
        "outputId": "1cb4fa79-2629-4cf3-d1f2-aa0ffaba4508"
      },
      "execution_count": null,
      "outputs": [
        {
          "output_type": "display_data",
          "data": {
            "text/plain": [
              "<Figure size 640x480 with 2 Axes>"
            ],
            "image/png": "[encoded data removed]"
          },
          "metadata": {}
        }
      ]
    },
    {
      "cell_type": "markdown",
      "source": [
        "This confusion matrix is 10 by 10 with one row and one column for each class. The diagonal shows the accurate predictions, whereas the number of items that have been wrongly classified is shown outside of the diagonal. The confusion matrix also reveals that shirts have the highest rate of misclassification within the model's predictions. There is a notable tendency for the model to confuse shirts with T-shirts/tops, and this error occurs in both directions. The model also confuses shirts with coats. The model also misclassifies pullovers as coats. While these constitute the primary areas of confusion, other categories experience misclassification less commonly. To gain insight, we visualized examples from our dataset that the model predicted incorrectly."
      ],
      "metadata": {
        "id": "PTm8Nv0tBZ2J"
      }
    },
    {
      "cell_type": "code",
      "source": [
        "# plot examples for incorrectly identified images\n",
        "plt.figure(figsize=(8,8))\n",
        "for i, incorrect in enumerate(incorrect_indices[:9]):\n",
        "    plt.subplot(3,3,i+1)\n",
        "    plt.imshow(x_test[incorrect].reshape(28,28), cmap='gray', interpolation='none')\n",
        "\n",
        "    predicted_label = class_labels[pred_arg[incorrect]]\n",
        "    actual_label = class_labels[y_test_arg[incorrect]]\n",
        "    plt.title(f\"Predicted: {predicted_label}\\nActual: {actual_label}\")\n",
        "\n",
        "plt.tight_layout()\n"
      ],
      "metadata": {
        "colab": {
          "base_uri": "https://localhost:8080/",
          "height": 806
        },
        "outputId": "93f95150-9406-4052-c5fa-18b31b0593cf",
        "id": "DByxvcWkOhhd"
      },
      "execution_count": null,
      "outputs": [
        {
          "output_type": "display_data",
          "data": {
            "text/plain": [
              "<Figure size 800x800 with 9 Axes>"
            ],
            "image/png": "[encoded data removed]"
          },
          "metadata": {}
        }
      ]
    },
    {
      "cell_type": "markdown",
      "source": [
        "Upon closer inspection, we can see the rationale behind the model's misclassifications. For example, in the cases where the model misidentified a coat as a pullover, it makes sense because coats and pullovers may have comparable characteristics. Another one is where the model predicts a coat when the true lable is dress, this is because long coats share common features with desses. The ankle boot that is misclassifies as a sandle also shows where the model has pittfals. The misclassification happens mainly because of the black area inside the picture of the ankle boot, misleading the model into thinking it isn't a closed shoe.\n",
        "\n",
        "To sum up, our model does well when it comes to recognising distinct clothing items, however it has difficulties with classes like T-shirts, Pullovers, Shirts, and Coats that have similar outlines in grayscale photos. This leads to the most frequent misclassifications occuring when two items have similar features.\n",
        "To improve the performance of the model, incorporating data augmentation strategies and expanding the dataset with additional images for the challenging classes can be beneficial."
      ],
      "metadata": {
        "id": "3I6oBbvzsZlM"
      }
    }
  ],
  "metadata": {
    "colab": {
      "provenance": [],
      "toc_visible": true
    },
    "kernelspec": {
      "display_name": "Python 3",
      "name": "python3"
    },
    "language_info": {
      "name": "python"
    }
  },
  "nbformat": 4,
  "nbformat_minor": 0
}